{
  "nbformat": 4,
  "nbformat_minor": 0,
  "metadata": {
    "colab": {
      "name": "kaggle submission 2",
      "provenance": [],
      "collapsed_sections": [],
      "mount_file_id": "1S_bkmpDmzCXZphOvpPcqrRVPiseM_Djc",
      "authorship_tag": "ABX9TyNNPIlRYQ8bdwnrXxCVK3hN",
      "include_colab_link": true
    },
    "kernelspec": {
      "name": "python3",
      "display_name": "Python 3"
    }
  },
  "cells": [
    {
      "cell_type": "markdown",
      "metadata": {
        "id": "view-in-github",
        "colab_type": "text"
      },
      "source": [
        "<a href=\"https://colab.research.google.com/github/ritaprova/Machile-learning-/blob/main/kaggle_submission_2.ipynb\" target=\"_parent\"><img src=\"https://colab.research.google.com/assets/colab-badge.svg\" alt=\"Open In Colab\"/></a>"
      ]
    },
    {
      "cell_type": "code",
      "metadata": {
        "id": "buvQYSHJj7RL"
      },
      "source": [
        "import numpy as np \n",
        "import pandas as pd \n",
        "import matplotlib.pyplot as plt\n",
        "import seaborn as sns"
      ],
      "execution_count": null,
      "outputs": []
    },
    {
      "cell_type": "code",
      "metadata": {
        "id": "ap0HrtG5koyn"
      },
      "source": [
        "#importing the train and test sets \n",
        "df_train = pd.read_csv(\"/content/drive/MyDrive/train.csv\")\n",
        "df_test =  pd.read_csv(\"/content/drive/MyDrive/test.csv\")"
      ],
      "execution_count": null,
      "outputs": []
    },
    {
      "cell_type": "code",
      "metadata": {
        "colab": {
          "base_uri": "https://localhost:8080/",
          "height": 244
        },
        "id": "hjOtX_Uek6Vz",
        "outputId": "567d9751-03e8-4650-b4da-a1b9421471cd"
      },
      "source": [
        "df_train.head()"
      ],
      "execution_count": null,
      "outputs": [
        {
          "output_type": "execute_result",
          "data": {
            "text/html": [
              "<div>\n",
              "<style scoped>\n",
              "    .dataframe tbody tr th:only-of-type {\n",
              "        vertical-align: middle;\n",
              "    }\n",
              "\n",
              "    .dataframe tbody tr th {\n",
              "        vertical-align: top;\n",
              "    }\n",
              "\n",
              "    .dataframe thead th {\n",
              "        text-align: right;\n",
              "    }\n",
              "</style>\n",
              "<table border=\"1\" class=\"dataframe\">\n",
              "  <thead>\n",
              "    <tr style=\"text-align: right;\">\n",
              "      <th></th>\n",
              "      <th>Id</th>\n",
              "      <th>MSSubClass</th>\n",
              "      <th>MSZoning</th>\n",
              "      <th>LotFrontage</th>\n",
              "      <th>LotArea</th>\n",
              "      <th>Street</th>\n",
              "      <th>Alley</th>\n",
              "      <th>LotShape</th>\n",
              "      <th>LandContour</th>\n",
              "      <th>Utilities</th>\n",
              "      <th>LotConfig</th>\n",
              "      <th>LandSlope</th>\n",
              "      <th>Neighborhood</th>\n",
              "      <th>Condition1</th>\n",
              "      <th>Condition2</th>\n",
              "      <th>BldgType</th>\n",
              "      <th>HouseStyle</th>\n",
              "      <th>OverallQual</th>\n",
              "      <th>OverallCond</th>\n",
              "      <th>YearBuilt</th>\n",
              "      <th>YearRemodAdd</th>\n",
              "      <th>RoofStyle</th>\n",
              "      <th>RoofMatl</th>\n",
              "      <th>Exterior1st</th>\n",
              "      <th>Exterior2nd</th>\n",
              "      <th>MasVnrType</th>\n",
              "      <th>MasVnrArea</th>\n",
              "      <th>ExterQual</th>\n",
              "      <th>ExterCond</th>\n",
              "      <th>Foundation</th>\n",
              "      <th>BsmtQual</th>\n",
              "      <th>BsmtCond</th>\n",
              "      <th>BsmtExposure</th>\n",
              "      <th>BsmtFinType1</th>\n",
              "      <th>BsmtFinSF1</th>\n",
              "      <th>BsmtFinType2</th>\n",
              "      <th>BsmtFinSF2</th>\n",
              "      <th>BsmtUnfSF</th>\n",
              "      <th>TotalBsmtSF</th>\n",
              "      <th>Heating</th>\n",
              "      <th>...</th>\n",
              "      <th>CentralAir</th>\n",
              "      <th>Electrical</th>\n",
              "      <th>1stFlrSF</th>\n",
              "      <th>2ndFlrSF</th>\n",
              "      <th>LowQualFinSF</th>\n",
              "      <th>GrLivArea</th>\n",
              "      <th>BsmtFullBath</th>\n",
              "      <th>BsmtHalfBath</th>\n",
              "      <th>FullBath</th>\n",
              "      <th>HalfBath</th>\n",
              "      <th>BedroomAbvGr</th>\n",
              "      <th>KitchenAbvGr</th>\n",
              "      <th>KitchenQual</th>\n",
              "      <th>TotRmsAbvGrd</th>\n",
              "      <th>Functional</th>\n",
              "      <th>Fireplaces</th>\n",
              "      <th>FireplaceQu</th>\n",
              "      <th>GarageType</th>\n",
              "      <th>GarageYrBlt</th>\n",
              "      <th>GarageFinish</th>\n",
              "      <th>GarageCars</th>\n",
              "      <th>GarageArea</th>\n",
              "      <th>GarageQual</th>\n",
              "      <th>GarageCond</th>\n",
              "      <th>PavedDrive</th>\n",
              "      <th>WoodDeckSF</th>\n",
              "      <th>OpenPorchSF</th>\n",
              "      <th>EnclosedPorch</th>\n",
              "      <th>3SsnPorch</th>\n",
              "      <th>ScreenPorch</th>\n",
              "      <th>PoolArea</th>\n",
              "      <th>PoolQC</th>\n",
              "      <th>Fence</th>\n",
              "      <th>MiscFeature</th>\n",
              "      <th>MiscVal</th>\n",
              "      <th>MoSold</th>\n",
              "      <th>YrSold</th>\n",
              "      <th>SaleType</th>\n",
              "      <th>SaleCondition</th>\n",
              "      <th>SalePrice</th>\n",
              "    </tr>\n",
              "  </thead>\n",
              "  <tbody>\n",
              "    <tr>\n",
              "      <th>0</th>\n",
              "      <td>1</td>\n",
              "      <td>60</td>\n",
              "      <td>RL</td>\n",
              "      <td>65.0</td>\n",
              "      <td>8450</td>\n",
              "      <td>Pave</td>\n",
              "      <td>NaN</td>\n",
              "      <td>Reg</td>\n",
              "      <td>Lvl</td>\n",
              "      <td>AllPub</td>\n",
              "      <td>Inside</td>\n",
              "      <td>Gtl</td>\n",
              "      <td>CollgCr</td>\n",
              "      <td>Norm</td>\n",
              "      <td>Norm</td>\n",
              "      <td>1Fam</td>\n",
              "      <td>2Story</td>\n",
              "      <td>7</td>\n",
              "      <td>5</td>\n",
              "      <td>2003</td>\n",
              "      <td>2003</td>\n",
              "      <td>Gable</td>\n",
              "      <td>CompShg</td>\n",
              "      <td>VinylSd</td>\n",
              "      <td>VinylSd</td>\n",
              "      <td>BrkFace</td>\n",
              "      <td>196.0</td>\n",
              "      <td>Gd</td>\n",
              "      <td>TA</td>\n",
              "      <td>PConc</td>\n",
              "      <td>Gd</td>\n",
              "      <td>TA</td>\n",
              "      <td>No</td>\n",
              "      <td>GLQ</td>\n",
              "      <td>706</td>\n",
              "      <td>Unf</td>\n",
              "      <td>0</td>\n",
              "      <td>150</td>\n",
              "      <td>856</td>\n",
              "      <td>GasA</td>\n",
              "      <td>...</td>\n",
              "      <td>Y</td>\n",
              "      <td>SBrkr</td>\n",
              "      <td>856</td>\n",
              "      <td>854</td>\n",
              "      <td>0</td>\n",
              "      <td>1710</td>\n",
              "      <td>1</td>\n",
              "      <td>0</td>\n",
              "      <td>2</td>\n",
              "      <td>1</td>\n",
              "      <td>3</td>\n",
              "      <td>1</td>\n",
              "      <td>Gd</td>\n",
              "      <td>8</td>\n",
              "      <td>Typ</td>\n",
              "      <td>0</td>\n",
              "      <td>NaN</td>\n",
              "      <td>Attchd</td>\n",
              "      <td>2003.0</td>\n",
              "      <td>RFn</td>\n",
              "      <td>2</td>\n",
              "      <td>548</td>\n",
              "      <td>TA</td>\n",
              "      <td>TA</td>\n",
              "      <td>Y</td>\n",
              "      <td>0</td>\n",
              "      <td>61</td>\n",
              "      <td>0</td>\n",
              "      <td>0</td>\n",
              "      <td>0</td>\n",
              "      <td>0</td>\n",
              "      <td>NaN</td>\n",
              "      <td>NaN</td>\n",
              "      <td>NaN</td>\n",
              "      <td>0</td>\n",
              "      <td>2</td>\n",
              "      <td>2008</td>\n",
              "      <td>WD</td>\n",
              "      <td>Normal</td>\n",
              "      <td>208500</td>\n",
              "    </tr>\n",
              "    <tr>\n",
              "      <th>1</th>\n",
              "      <td>2</td>\n",
              "      <td>20</td>\n",
              "      <td>RL</td>\n",
              "      <td>80.0</td>\n",
              "      <td>9600</td>\n",
              "      <td>Pave</td>\n",
              "      <td>NaN</td>\n",
              "      <td>Reg</td>\n",
              "      <td>Lvl</td>\n",
              "      <td>AllPub</td>\n",
              "      <td>FR2</td>\n",
              "      <td>Gtl</td>\n",
              "      <td>Veenker</td>\n",
              "      <td>Feedr</td>\n",
              "      <td>Norm</td>\n",
              "      <td>1Fam</td>\n",
              "      <td>1Story</td>\n",
              "      <td>6</td>\n",
              "      <td>8</td>\n",
              "      <td>1976</td>\n",
              "      <td>1976</td>\n",
              "      <td>Gable</td>\n",
              "      <td>CompShg</td>\n",
              "      <td>MetalSd</td>\n",
              "      <td>MetalSd</td>\n",
              "      <td>None</td>\n",
              "      <td>0.0</td>\n",
              "      <td>TA</td>\n",
              "      <td>TA</td>\n",
              "      <td>CBlock</td>\n",
              "      <td>Gd</td>\n",
              "      <td>TA</td>\n",
              "      <td>Gd</td>\n",
              "      <td>ALQ</td>\n",
              "      <td>978</td>\n",
              "      <td>Unf</td>\n",
              "      <td>0</td>\n",
              "      <td>284</td>\n",
              "      <td>1262</td>\n",
              "      <td>GasA</td>\n",
              "      <td>...</td>\n",
              "      <td>Y</td>\n",
              "      <td>SBrkr</td>\n",
              "      <td>1262</td>\n",
              "      <td>0</td>\n",
              "      <td>0</td>\n",
              "      <td>1262</td>\n",
              "      <td>0</td>\n",
              "      <td>1</td>\n",
              "      <td>2</td>\n",
              "      <td>0</td>\n",
              "      <td>3</td>\n",
              "      <td>1</td>\n",
              "      <td>TA</td>\n",
              "      <td>6</td>\n",
              "      <td>Typ</td>\n",
              "      <td>1</td>\n",
              "      <td>TA</td>\n",
              "      <td>Attchd</td>\n",
              "      <td>1976.0</td>\n",
              "      <td>RFn</td>\n",
              "      <td>2</td>\n",
              "      <td>460</td>\n",
              "      <td>TA</td>\n",
              "      <td>TA</td>\n",
              "      <td>Y</td>\n",
              "      <td>298</td>\n",
              "      <td>0</td>\n",
              "      <td>0</td>\n",
              "      <td>0</td>\n",
              "      <td>0</td>\n",
              "      <td>0</td>\n",
              "      <td>NaN</td>\n",
              "      <td>NaN</td>\n",
              "      <td>NaN</td>\n",
              "      <td>0</td>\n",
              "      <td>5</td>\n",
              "      <td>2007</td>\n",
              "      <td>WD</td>\n",
              "      <td>Normal</td>\n",
              "      <td>181500</td>\n",
              "    </tr>\n",
              "    <tr>\n",
              "      <th>2</th>\n",
              "      <td>3</td>\n",
              "      <td>60</td>\n",
              "      <td>RL</td>\n",
              "      <td>68.0</td>\n",
              "      <td>11250</td>\n",
              "      <td>Pave</td>\n",
              "      <td>NaN</td>\n",
              "      <td>IR1</td>\n",
              "      <td>Lvl</td>\n",
              "      <td>AllPub</td>\n",
              "      <td>Inside</td>\n",
              "      <td>Gtl</td>\n",
              "      <td>CollgCr</td>\n",
              "      <td>Norm</td>\n",
              "      <td>Norm</td>\n",
              "      <td>1Fam</td>\n",
              "      <td>2Story</td>\n",
              "      <td>7</td>\n",
              "      <td>5</td>\n",
              "      <td>2001</td>\n",
              "      <td>2002</td>\n",
              "      <td>Gable</td>\n",
              "      <td>CompShg</td>\n",
              "      <td>VinylSd</td>\n",
              "      <td>VinylSd</td>\n",
              "      <td>BrkFace</td>\n",
              "      <td>162.0</td>\n",
              "      <td>Gd</td>\n",
              "      <td>TA</td>\n",
              "      <td>PConc</td>\n",
              "      <td>Gd</td>\n",
              "      <td>TA</td>\n",
              "      <td>Mn</td>\n",
              "      <td>GLQ</td>\n",
              "      <td>486</td>\n",
              "      <td>Unf</td>\n",
              "      <td>0</td>\n",
              "      <td>434</td>\n",
              "      <td>920</td>\n",
              "      <td>GasA</td>\n",
              "      <td>...</td>\n",
              "      <td>Y</td>\n",
              "      <td>SBrkr</td>\n",
              "      <td>920</td>\n",
              "      <td>866</td>\n",
              "      <td>0</td>\n",
              "      <td>1786</td>\n",
              "      <td>1</td>\n",
              "      <td>0</td>\n",
              "      <td>2</td>\n",
              "      <td>1</td>\n",
              "      <td>3</td>\n",
              "      <td>1</td>\n",
              "      <td>Gd</td>\n",
              "      <td>6</td>\n",
              "      <td>Typ</td>\n",
              "      <td>1</td>\n",
              "      <td>TA</td>\n",
              "      <td>Attchd</td>\n",
              "      <td>2001.0</td>\n",
              "      <td>RFn</td>\n",
              "      <td>2</td>\n",
              "      <td>608</td>\n",
              "      <td>TA</td>\n",
              "      <td>TA</td>\n",
              "      <td>Y</td>\n",
              "      <td>0</td>\n",
              "      <td>42</td>\n",
              "      <td>0</td>\n",
              "      <td>0</td>\n",
              "      <td>0</td>\n",
              "      <td>0</td>\n",
              "      <td>NaN</td>\n",
              "      <td>NaN</td>\n",
              "      <td>NaN</td>\n",
              "      <td>0</td>\n",
              "      <td>9</td>\n",
              "      <td>2008</td>\n",
              "      <td>WD</td>\n",
              "      <td>Normal</td>\n",
              "      <td>223500</td>\n",
              "    </tr>\n",
              "    <tr>\n",
              "      <th>3</th>\n",
              "      <td>4</td>\n",
              "      <td>70</td>\n",
              "      <td>RL</td>\n",
              "      <td>60.0</td>\n",
              "      <td>9550</td>\n",
              "      <td>Pave</td>\n",
              "      <td>NaN</td>\n",
              "      <td>IR1</td>\n",
              "      <td>Lvl</td>\n",
              "      <td>AllPub</td>\n",
              "      <td>Corner</td>\n",
              "      <td>Gtl</td>\n",
              "      <td>Crawfor</td>\n",
              "      <td>Norm</td>\n",
              "      <td>Norm</td>\n",
              "      <td>1Fam</td>\n",
              "      <td>2Story</td>\n",
              "      <td>7</td>\n",
              "      <td>5</td>\n",
              "      <td>1915</td>\n",
              "      <td>1970</td>\n",
              "      <td>Gable</td>\n",
              "      <td>CompShg</td>\n",
              "      <td>Wd Sdng</td>\n",
              "      <td>Wd Shng</td>\n",
              "      <td>None</td>\n",
              "      <td>0.0</td>\n",
              "      <td>TA</td>\n",
              "      <td>TA</td>\n",
              "      <td>BrkTil</td>\n",
              "      <td>TA</td>\n",
              "      <td>Gd</td>\n",
              "      <td>No</td>\n",
              "      <td>ALQ</td>\n",
              "      <td>216</td>\n",
              "      <td>Unf</td>\n",
              "      <td>0</td>\n",
              "      <td>540</td>\n",
              "      <td>756</td>\n",
              "      <td>GasA</td>\n",
              "      <td>...</td>\n",
              "      <td>Y</td>\n",
              "      <td>SBrkr</td>\n",
              "      <td>961</td>\n",
              "      <td>756</td>\n",
              "      <td>0</td>\n",
              "      <td>1717</td>\n",
              "      <td>1</td>\n",
              "      <td>0</td>\n",
              "      <td>1</td>\n",
              "      <td>0</td>\n",
              "      <td>3</td>\n",
              "      <td>1</td>\n",
              "      <td>Gd</td>\n",
              "      <td>7</td>\n",
              "      <td>Typ</td>\n",
              "      <td>1</td>\n",
              "      <td>Gd</td>\n",
              "      <td>Detchd</td>\n",
              "      <td>1998.0</td>\n",
              "      <td>Unf</td>\n",
              "      <td>3</td>\n",
              "      <td>642</td>\n",
              "      <td>TA</td>\n",
              "      <td>TA</td>\n",
              "      <td>Y</td>\n",
              "      <td>0</td>\n",
              "      <td>35</td>\n",
              "      <td>272</td>\n",
              "      <td>0</td>\n",
              "      <td>0</td>\n",
              "      <td>0</td>\n",
              "      <td>NaN</td>\n",
              "      <td>NaN</td>\n",
              "      <td>NaN</td>\n",
              "      <td>0</td>\n",
              "      <td>2</td>\n",
              "      <td>2006</td>\n",
              "      <td>WD</td>\n",
              "      <td>Abnorml</td>\n",
              "      <td>140000</td>\n",
              "    </tr>\n",
              "    <tr>\n",
              "      <th>4</th>\n",
              "      <td>5</td>\n",
              "      <td>60</td>\n",
              "      <td>RL</td>\n",
              "      <td>84.0</td>\n",
              "      <td>14260</td>\n",
              "      <td>Pave</td>\n",
              "      <td>NaN</td>\n",
              "      <td>IR1</td>\n",
              "      <td>Lvl</td>\n",
              "      <td>AllPub</td>\n",
              "      <td>FR2</td>\n",
              "      <td>Gtl</td>\n",
              "      <td>NoRidge</td>\n",
              "      <td>Norm</td>\n",
              "      <td>Norm</td>\n",
              "      <td>1Fam</td>\n",
              "      <td>2Story</td>\n",
              "      <td>8</td>\n",
              "      <td>5</td>\n",
              "      <td>2000</td>\n",
              "      <td>2000</td>\n",
              "      <td>Gable</td>\n",
              "      <td>CompShg</td>\n",
              "      <td>VinylSd</td>\n",
              "      <td>VinylSd</td>\n",
              "      <td>BrkFace</td>\n",
              "      <td>350.0</td>\n",
              "      <td>Gd</td>\n",
              "      <td>TA</td>\n",
              "      <td>PConc</td>\n",
              "      <td>Gd</td>\n",
              "      <td>TA</td>\n",
              "      <td>Av</td>\n",
              "      <td>GLQ</td>\n",
              "      <td>655</td>\n",
              "      <td>Unf</td>\n",
              "      <td>0</td>\n",
              "      <td>490</td>\n",
              "      <td>1145</td>\n",
              "      <td>GasA</td>\n",
              "      <td>...</td>\n",
              "      <td>Y</td>\n",
              "      <td>SBrkr</td>\n",
              "      <td>1145</td>\n",
              "      <td>1053</td>\n",
              "      <td>0</td>\n",
              "      <td>2198</td>\n",
              "      <td>1</td>\n",
              "      <td>0</td>\n",
              "      <td>2</td>\n",
              "      <td>1</td>\n",
              "      <td>4</td>\n",
              "      <td>1</td>\n",
              "      <td>Gd</td>\n",
              "      <td>9</td>\n",
              "      <td>Typ</td>\n",
              "      <td>1</td>\n",
              "      <td>TA</td>\n",
              "      <td>Attchd</td>\n",
              "      <td>2000.0</td>\n",
              "      <td>RFn</td>\n",
              "      <td>3</td>\n",
              "      <td>836</td>\n",
              "      <td>TA</td>\n",
              "      <td>TA</td>\n",
              "      <td>Y</td>\n",
              "      <td>192</td>\n",
              "      <td>84</td>\n",
              "      <td>0</td>\n",
              "      <td>0</td>\n",
              "      <td>0</td>\n",
              "      <td>0</td>\n",
              "      <td>NaN</td>\n",
              "      <td>NaN</td>\n",
              "      <td>NaN</td>\n",
              "      <td>0</td>\n",
              "      <td>12</td>\n",
              "      <td>2008</td>\n",
              "      <td>WD</td>\n",
              "      <td>Normal</td>\n",
              "      <td>250000</td>\n",
              "    </tr>\n",
              "  </tbody>\n",
              "</table>\n",
              "<p>5 rows × 81 columns</p>\n",
              "</div>"
            ],
            "text/plain": [
              "   Id  MSSubClass MSZoning  ...  SaleType  SaleCondition SalePrice\n",
              "0   1          60       RL  ...        WD         Normal    208500\n",
              "1   2          20       RL  ...        WD         Normal    181500\n",
              "2   3          60       RL  ...        WD         Normal    223500\n",
              "3   4          70       RL  ...        WD        Abnorml    140000\n",
              "4   5          60       RL  ...        WD         Normal    250000\n",
              "\n",
              "[5 rows x 81 columns]"
            ]
          },
          "metadata": {
            "tags": []
          },
          "execution_count": 132
        }
      ]
    },
    {
      "cell_type": "code",
      "metadata": {
        "id": "45p-YcsLlCiP"
      },
      "source": [
        "#getting rid of the ID attribute as we wont be needing this \n",
        "df_train_temp = df_train.drop(\"Id\",axis=1)\n",
        "df_test_temp =  df_test.drop(\"Id\",axis=1)"
      ],
      "execution_count": null,
      "outputs": []
    },
    {
      "cell_type": "markdown",
      "metadata": {
        "id": "6OImcx84kRKi"
      },
      "source": [
        "#Handling Missing Values"
      ]
    },
    {
      "cell_type": "code",
      "metadata": {
        "colab": {
          "base_uri": "https://localhost:8080/"
        },
        "id": "bBDReCWllT6q",
        "outputId": "c4eacb9b-e579-4754-ddff-476fcd982bd6"
      },
      "source": [
        "df_train_temp.info()"
      ],
      "execution_count": null,
      "outputs": [
        {
          "output_type": "stream",
          "text": [
            "<class 'pandas.core.frame.DataFrame'>\n",
            "RangeIndex: 1460 entries, 0 to 1459\n",
            "Data columns (total 80 columns):\n",
            " #   Column         Non-Null Count  Dtype  \n",
            "---  ------         --------------  -----  \n",
            " 0   MSSubClass     1460 non-null   int64  \n",
            " 1   MSZoning       1460 non-null   object \n",
            " 2   LotFrontage    1201 non-null   float64\n",
            " 3   LotArea        1460 non-null   int64  \n",
            " 4   Street         1460 non-null   object \n",
            " 5   Alley          91 non-null     object \n",
            " 6   LotShape       1460 non-null   object \n",
            " 7   LandContour    1460 non-null   object \n",
            " 8   Utilities      1460 non-null   object \n",
            " 9   LotConfig      1460 non-null   object \n",
            " 10  LandSlope      1460 non-null   object \n",
            " 11  Neighborhood   1460 non-null   object \n",
            " 12  Condition1     1460 non-null   object \n",
            " 13  Condition2     1460 non-null   object \n",
            " 14  BldgType       1460 non-null   object \n",
            " 15  HouseStyle     1460 non-null   object \n",
            " 16  OverallQual    1460 non-null   int64  \n",
            " 17  OverallCond    1460 non-null   int64  \n",
            " 18  YearBuilt      1460 non-null   int64  \n",
            " 19  YearRemodAdd   1460 non-null   int64  \n",
            " 20  RoofStyle      1460 non-null   object \n",
            " 21  RoofMatl       1460 non-null   object \n",
            " 22  Exterior1st    1460 non-null   object \n",
            " 23  Exterior2nd    1460 non-null   object \n",
            " 24  MasVnrType     1452 non-null   object \n",
            " 25  MasVnrArea     1452 non-null   float64\n",
            " 26  ExterQual      1460 non-null   object \n",
            " 27  ExterCond      1460 non-null   object \n",
            " 28  Foundation     1460 non-null   object \n",
            " 29  BsmtQual       1423 non-null   object \n",
            " 30  BsmtCond       1423 non-null   object \n",
            " 31  BsmtExposure   1422 non-null   object \n",
            " 32  BsmtFinType1   1423 non-null   object \n",
            " 33  BsmtFinSF1     1460 non-null   int64  \n",
            " 34  BsmtFinType2   1422 non-null   object \n",
            " 35  BsmtFinSF2     1460 non-null   int64  \n",
            " 36  BsmtUnfSF      1460 non-null   int64  \n",
            " 37  TotalBsmtSF    1460 non-null   int64  \n",
            " 38  Heating        1460 non-null   object \n",
            " 39  HeatingQC      1460 non-null   object \n",
            " 40  CentralAir     1460 non-null   object \n",
            " 41  Electrical     1459 non-null   object \n",
            " 42  1stFlrSF       1460 non-null   int64  \n",
            " 43  2ndFlrSF       1460 non-null   int64  \n",
            " 44  LowQualFinSF   1460 non-null   int64  \n",
            " 45  GrLivArea      1460 non-null   int64  \n",
            " 46  BsmtFullBath   1460 non-null   int64  \n",
            " 47  BsmtHalfBath   1460 non-null   int64  \n",
            " 48  FullBath       1460 non-null   int64  \n",
            " 49  HalfBath       1460 non-null   int64  \n",
            " 50  BedroomAbvGr   1460 non-null   int64  \n",
            " 51  KitchenAbvGr   1460 non-null   int64  \n",
            " 52  KitchenQual    1460 non-null   object \n",
            " 53  TotRmsAbvGrd   1460 non-null   int64  \n",
            " 54  Functional     1460 non-null   object \n",
            " 55  Fireplaces     1460 non-null   int64  \n",
            " 56  FireplaceQu    770 non-null    object \n",
            " 57  GarageType     1379 non-null   object \n",
            " 58  GarageYrBlt    1379 non-null   float64\n",
            " 59  GarageFinish   1379 non-null   object \n",
            " 60  GarageCars     1460 non-null   int64  \n",
            " 61  GarageArea     1460 non-null   int64  \n",
            " 62  GarageQual     1379 non-null   object \n",
            " 63  GarageCond     1379 non-null   object \n",
            " 64  PavedDrive     1460 non-null   object \n",
            " 65  WoodDeckSF     1460 non-null   int64  \n",
            " 66  OpenPorchSF    1460 non-null   int64  \n",
            " 67  EnclosedPorch  1460 non-null   int64  \n",
            " 68  3SsnPorch      1460 non-null   int64  \n",
            " 69  ScreenPorch    1460 non-null   int64  \n",
            " 70  PoolArea       1460 non-null   int64  \n",
            " 71  PoolQC         7 non-null      object \n",
            " 72  Fence          281 non-null    object \n",
            " 73  MiscFeature    54 non-null     object \n",
            " 74  MiscVal        1460 non-null   int64  \n",
            " 75  MoSold         1460 non-null   int64  \n",
            " 76  YrSold         1460 non-null   int64  \n",
            " 77  SaleType       1460 non-null   object \n",
            " 78  SaleCondition  1460 non-null   object \n",
            " 79  SalePrice      1460 non-null   int64  \n",
            "dtypes: float64(3), int64(34), object(43)\n",
            "memory usage: 912.6+ KB\n"
          ],
          "name": "stdout"
        }
      ]
    },
    {
      "cell_type": "markdown",
      "metadata": {
        "id": "oUC1haS4ljMK"
      },
      "source": [
        "we will drop those columns with less than 146 data entries "
      ]
    },
    {
      "cell_type": "code",
      "metadata": {
        "id": "27FswJfVl1cF"
      },
      "source": [
        "# for the train data-set \n",
        "df_train_temp.drop([\"Alley\",\"PoolQC\",\"MiscFeature\"], axis=1,inplace=True)"
      ],
      "execution_count": null,
      "outputs": []
    },
    {
      "cell_type": "code",
      "metadata": {
        "id": "dLH81fj7l8b9"
      },
      "source": [
        "#for the test data set \n",
        "df_test_temp.drop([\"Alley\",\"PoolQC\",\"MiscFeature\"],axis=1,inplace=True)"
      ],
      "execution_count": null,
      "outputs": []
    },
    {
      "cell_type": "code",
      "metadata": {
        "colab": {
          "base_uri": "https://localhost:8080/"
        },
        "id": "OHjil45bm1Bb",
        "outputId": "720a3c58-c23d-42d2-aa89-7eb72e3a0619"
      },
      "source": [
        "df_train_temp.info()"
      ],
      "execution_count": null,
      "outputs": [
        {
          "output_type": "stream",
          "text": [
            "<class 'pandas.core.frame.DataFrame'>\n",
            "RangeIndex: 1460 entries, 0 to 1459\n",
            "Data columns (total 77 columns):\n",
            " #   Column         Non-Null Count  Dtype  \n",
            "---  ------         --------------  -----  \n",
            " 0   MSSubClass     1460 non-null   int64  \n",
            " 1   MSZoning       1460 non-null   object \n",
            " 2   LotFrontage    1201 non-null   float64\n",
            " 3   LotArea        1460 non-null   int64  \n",
            " 4   Street         1460 non-null   object \n",
            " 5   LotShape       1460 non-null   object \n",
            " 6   LandContour    1460 non-null   object \n",
            " 7   Utilities      1460 non-null   object \n",
            " 8   LotConfig      1460 non-null   object \n",
            " 9   LandSlope      1460 non-null   object \n",
            " 10  Neighborhood   1460 non-null   object \n",
            " 11  Condition1     1460 non-null   object \n",
            " 12  Condition2     1460 non-null   object \n",
            " 13  BldgType       1460 non-null   object \n",
            " 14  HouseStyle     1460 non-null   object \n",
            " 15  OverallQual    1460 non-null   int64  \n",
            " 16  OverallCond    1460 non-null   int64  \n",
            " 17  YearBuilt      1460 non-null   int64  \n",
            " 18  YearRemodAdd   1460 non-null   int64  \n",
            " 19  RoofStyle      1460 non-null   object \n",
            " 20  RoofMatl       1460 non-null   object \n",
            " 21  Exterior1st    1460 non-null   object \n",
            " 22  Exterior2nd    1460 non-null   object \n",
            " 23  MasVnrType     1452 non-null   object \n",
            " 24  MasVnrArea     1452 non-null   float64\n",
            " 25  ExterQual      1460 non-null   object \n",
            " 26  ExterCond      1460 non-null   object \n",
            " 27  Foundation     1460 non-null   object \n",
            " 28  BsmtQual       1423 non-null   object \n",
            " 29  BsmtCond       1423 non-null   object \n",
            " 30  BsmtExposure   1422 non-null   object \n",
            " 31  BsmtFinType1   1423 non-null   object \n",
            " 32  BsmtFinSF1     1460 non-null   int64  \n",
            " 33  BsmtFinType2   1422 non-null   object \n",
            " 34  BsmtFinSF2     1460 non-null   int64  \n",
            " 35  BsmtUnfSF      1460 non-null   int64  \n",
            " 36  TotalBsmtSF    1460 non-null   int64  \n",
            " 37  Heating        1460 non-null   object \n",
            " 38  HeatingQC      1460 non-null   object \n",
            " 39  CentralAir     1460 non-null   object \n",
            " 40  Electrical     1459 non-null   object \n",
            " 41  1stFlrSF       1460 non-null   int64  \n",
            " 42  2ndFlrSF       1460 non-null   int64  \n",
            " 43  LowQualFinSF   1460 non-null   int64  \n",
            " 44  GrLivArea      1460 non-null   int64  \n",
            " 45  BsmtFullBath   1460 non-null   int64  \n",
            " 46  BsmtHalfBath   1460 non-null   int64  \n",
            " 47  FullBath       1460 non-null   int64  \n",
            " 48  HalfBath       1460 non-null   int64  \n",
            " 49  BedroomAbvGr   1460 non-null   int64  \n",
            " 50  KitchenAbvGr   1460 non-null   int64  \n",
            " 51  KitchenQual    1460 non-null   object \n",
            " 52  TotRmsAbvGrd   1460 non-null   int64  \n",
            " 53  Functional     1460 non-null   object \n",
            " 54  Fireplaces     1460 non-null   int64  \n",
            " 55  FireplaceQu    770 non-null    object \n",
            " 56  GarageType     1379 non-null   object \n",
            " 57  GarageYrBlt    1379 non-null   float64\n",
            " 58  GarageFinish   1379 non-null   object \n",
            " 59  GarageCars     1460 non-null   int64  \n",
            " 60  GarageArea     1460 non-null   int64  \n",
            " 61  GarageQual     1379 non-null   object \n",
            " 62  GarageCond     1379 non-null   object \n",
            " 63  PavedDrive     1460 non-null   object \n",
            " 64  WoodDeckSF     1460 non-null   int64  \n",
            " 65  OpenPorchSF    1460 non-null   int64  \n",
            " 66  EnclosedPorch  1460 non-null   int64  \n",
            " 67  3SsnPorch      1460 non-null   int64  \n",
            " 68  ScreenPorch    1460 non-null   int64  \n",
            " 69  PoolArea       1460 non-null   int64  \n",
            " 70  Fence          281 non-null    object \n",
            " 71  MiscVal        1460 non-null   int64  \n",
            " 72  MoSold         1460 non-null   int64  \n",
            " 73  YrSold         1460 non-null   int64  \n",
            " 74  SaleType       1460 non-null   object \n",
            " 75  SaleCondition  1460 non-null   object \n",
            " 76  SalePrice      1460 non-null   int64  \n",
            "dtypes: float64(3), int64(34), object(40)\n",
            "memory usage: 878.4+ KB\n"
          ],
          "name": "stdout"
        }
      ]
    },
    {
      "cell_type": "markdown",
      "metadata": {
        "id": "RHcnhy2bm5p4"
      },
      "source": [
        "We have dropped the colums with less than 10% of the len of the data  for the train as well as the test sets "
      ]
    },
    {
      "cell_type": "code",
      "metadata": {
        "colab": {
          "base_uri": "https://localhost:8080/"
        },
        "id": "YoUUG2xOnNA_",
        "outputId": "64f2dc3d-a232-44fd-89c6-0409e98f4b53"
      },
      "source": [
        "# filling the numerical data types \n",
        "for label , content in df_train_temp.items():\n",
        "  if (pd.api.types.is_numeric_dtype(content) & (df_train_temp[label].isna().sum()>0)):\n",
        "    print(label)"
      ],
      "execution_count": null,
      "outputs": [
        {
          "output_type": "stream",
          "text": [
            "LotFrontage\n",
            "MasVnrArea\n",
            "GarageYrBlt\n"
          ],
          "name": "stdout"
        }
      ]
    },
    {
      "cell_type": "code",
      "metadata": {
        "colab": {
          "base_uri": "https://localhost:8080/"
        },
        "id": "Fdvg9iPoncg-",
        "outputId": "756151e2-6da8-430e-f2b4-02468801b777"
      },
      "source": [
        "df_train_temp[\"LotFrontage\"].isna().sum()"
      ],
      "execution_count": null,
      "outputs": [
        {
          "output_type": "execute_result",
          "data": {
            "text/plain": [
              "259"
            ]
          },
          "metadata": {
            "tags": []
          },
          "execution_count": 139
        }
      ]
    },
    {
      "cell_type": "code",
      "metadata": {
        "colab": {
          "base_uri": "https://localhost:8080/",
          "height": 298
        },
        "id": "9t-YudlNpdrc",
        "outputId": "e4d7fdc0-dda4-4856-d78a-16624bc5b9cb"
      },
      "source": [
        "df_train_temp[\"LotFrontage\"].hist()\n",
        "plt.xticks(color='white')\n",
        "plt.yticks(color='white')"
      ],
      "execution_count": null,
      "outputs": [
        {
          "output_type": "execute_result",
          "data": {
            "text/plain": [
              "(array([  0., 100., 200., 300., 400., 500., 600., 700.]),\n",
              " <a list of 8 Text major ticklabel objects>)"
            ]
          },
          "metadata": {
            "tags": []
          },
          "execution_count": 140
        },
        {
          "output_type": "display_data",
          "data": {
            "image/png": "[encoded data removed]",
            "text/plain": [
              "<Figure size 432x288 with 1 Axes>"
            ]
          },
          "metadata": {
            "tags": [],
            "needs_background": "dark"
          }
        }
      ]
    },
    {
      "cell_type": "code",
      "metadata": {
        "id": "9xqBbdt2pk3o"
      },
      "source": [
        "#finding out the mode of the distribution \n",
        "mode = df_train_temp[\"LotFrontage\"].mode()[0]\n",
        "df_train_temp[\"LotFrontage\"].fillna(mode,inplace=True)"
      ],
      "execution_count": null,
      "outputs": []
    },
    {
      "cell_type": "code",
      "metadata": {
        "colab": {
          "base_uri": "https://localhost:8080/",
          "height": 298
        },
        "id": "5q3aUquGp7b0",
        "outputId": "3557303d-35ba-4de2-8801-4b18b5dbb906"
      },
      "source": [
        "df_train_temp[\"MasVnrArea\"].hist()\n",
        "plt.xticks(color =\"white\")\n",
        "plt.yticks(color=\"white\")\n"
      ],
      "execution_count": null,
      "outputs": [
        {
          "output_type": "execute_result",
          "data": {
            "text/plain": [
              "(array([   0.,  200.,  400.,  600.,  800., 1000., 1200.]),\n",
              " <a list of 7 Text major ticklabel objects>)"
            ]
          },
          "metadata": {
            "tags": []
          },
          "execution_count": 142
        },
        {
          "output_type": "display_data",
          "data": {
            "image/png": "[encoded data removed]",
            "text/plain": [
              "<Figure size 432x288 with 1 Axes>"
            ]
          },
          "metadata": {
            "tags": [],
            "needs_background": "dark"
          }
        }
      ]
    },
    {
      "cell_type": "code",
      "metadata": {
        "id": "leU08BuwsAbl"
      },
      "source": [
        "# function for imputing the missing numerical data \n",
        "# we have used the modes for imputing the missing numerical data \n",
        "features = [\"LotFrontage\",\"MasVnrArea\",\"GarageYrBlt\"]\n",
        "for label in features:\n",
        "   df_train_temp[label].fillna(df_train_temp[label].mode()[0],inplace=True)\n"
      ],
      "execution_count": null,
      "outputs": []
    },
    {
      "cell_type": "code",
      "metadata": {
        "id": "1QdFXHVLsW5W"
      },
      "source": [
        "# checking for missing numerical features :\n",
        "# filling the numerical data types \n",
        "for label , content in df_train_temp.items():\n",
        "  if (pd.api.types.is_numeric_dtype(content) & (df_train_temp[label].isna().sum()>0)):\n",
        "    print(label)"
      ],
      "execution_count": null,
      "outputs": []
    },
    {
      "cell_type": "markdown",
      "metadata": {
        "id": "LFCszQhtuwEf"
      },
      "source": [
        "thus we see that we have successfully gottem rid of all the missing numerical data"
      ]
    },
    {
      "cell_type": "markdown",
      "metadata": {
        "id": "_KMK1xVhu3ll"
      },
      "source": [
        "#for the test data set :\n",
        "#checking for missing numerical columns :\n",
        "for label , content in df_test_temp.items():\n",
        "  if (pd.api.types.is_numeric_dtype(content) & (df_test_temp[label].isna().sum()>0)):\n",
        "    print(label)"
      ]
    },
    {
      "cell_type": "code",
      "metadata": {
        "colab": {
          "base_uri": "https://localhost:8080/"
        },
        "id": "Vd4FIo0lvbIw",
        "outputId": "7f45eb07-ef4c-464a-b128-05e6f674d382"
      },
      "source": [
        "missing_numerical_features = [\"LotFrontage\",\"MasVnrArea\",\"BsmtFinSF1\",\"BsmtFinSF2\",\"BsmtUnfSF\",\"TotalBsmtSF\",\"BsmtFullBath\",\"BsmtHalfBath\",\"GarageYrBlt\",\"GarageCars\",\"GarageArea\"]\n",
        "for label in missing_numerical_features:\n",
        "  print(df_test_temp[label].isna().sum())"
      ],
      "execution_count": null,
      "outputs": [
        {
          "output_type": "stream",
          "text": [
            "227\n",
            "15\n",
            "1\n",
            "1\n",
            "1\n",
            "1\n",
            "2\n",
            "2\n",
            "78\n",
            "1\n",
            "1\n"
          ],
          "name": "stdout"
        }
      ]
    },
    {
      "cell_type": "code",
      "metadata": {
        "colab": {
          "base_uri": "https://localhost:8080/",
          "height": 298
        },
        "id": "2Ii4kvipwjab",
        "outputId": "9c2c164d-9473-47d7-ca73-efd1fbfd54d9"
      },
      "source": [
        "df_test_temp[\"LotFrontage\"].hist()\n",
        "plt.xticks(color='white')\n",
        "plt.yticks(color='white')"
      ],
      "execution_count": null,
      "outputs": [
        {
          "output_type": "execute_result",
          "data": {
            "text/plain": [
              "(array([  0., 100., 200., 300., 400., 500., 600.]),\n",
              " <a list of 7 Text major ticklabel objects>)"
            ]
          },
          "metadata": {
            "tags": []
          },
          "execution_count": 146
        },
        {
          "output_type": "display_data",
          "data": {
            "image/png": "[encoded data removed]",
            "text/plain": [
              "<Figure size 432x288 with 1 Axes>"
            ]
          },
          "metadata": {
            "tags": [],
            "needs_background": "dark"
          }
        }
      ]
    },
    {
      "cell_type": "code",
      "metadata": {
        "id": "RSdMT6xMwx1_"
      },
      "source": [
        "# function for imputing the missing numerical data \n",
        "# we have used the modes for imputing the missing numerical data \n",
        "features = [\"LotFrontage\",\"MasVnrArea\",\"BsmtFinSF1\",\"BsmtFinSF2\",\"BsmtUnfSF\",\"TotalBsmtSF\",\"BsmtFullBath\",\"BsmtHalfBath\",\"GarageYrBlt\",\"GarageCars\",\"GarageArea\"]\n",
        "for label in features:\n",
        "   df_test_temp[label].fillna(df_test_temp[label].mode()[0],inplace=True)\n"
      ],
      "execution_count": null,
      "outputs": []
    },
    {
      "cell_type": "code",
      "metadata": {
        "id": "awz-Tz-ExUKu"
      },
      "source": [
        "#for the test data set :\n",
        "#checking for missing numerical columns :\n",
        "for label , content in df_test_temp.items():\n",
        "  if (pd.api.types.is_numeric_dtype(content) & (df_test_temp[label].isna().sum()>0)):\n",
        "    print(label)"
      ],
      "execution_count": null,
      "outputs": []
    },
    {
      "cell_type": "markdown",
      "metadata": {
        "id": "jgFAgsMcxhdn"
      },
      "source": [
        "Thus the numerical features of both the train and test data sets have been taken care of "
      ]
    },
    {
      "cell_type": "markdown",
      "metadata": {
        "id": "bbGgWP-Ixx-B"
      },
      "source": [
        "#for the string objects "
      ]
    },
    {
      "cell_type": "code",
      "metadata": {
        "id": "RTkxNmalx9ki",
        "colab": {
          "base_uri": "https://localhost:8080/"
        },
        "outputId": "5a246c43-134a-4d38-cb7a-8482717ec8c7"
      },
      "source": [
        "# checking for string data-objects in the train data \n",
        "for  label , content in df_train_temp.items():\n",
        "   if (pd.api.types.is_string_dtype(content) & (df_train_temp[label].isna().sum()>0)) :\n",
        "     print(label)"
      ],
      "execution_count": null,
      "outputs": [
        {
          "output_type": "stream",
          "text": [
            "MasVnrType\n",
            "BsmtQual\n",
            "BsmtCond\n",
            "BsmtExposure\n",
            "BsmtFinType1\n",
            "BsmtFinType2\n",
            "Electrical\n",
            "FireplaceQu\n",
            "GarageType\n",
            "GarageFinish\n",
            "GarageQual\n",
            "GarageCond\n",
            "Fence\n"
          ],
          "name": "stdout"
        }
      ]
    },
    {
      "cell_type": "code",
      "metadata": {
        "id": "8_5MQUfJ0JxJ"
      },
      "source": [
        "missing_string_features = [\"MasVnrType\",\"BsmtQual\",\"BsmtCond\",\"BsmtExposure\",\"BsmtFinType1\",\"BsmtFinType2\",\"Electrical\",\"FireplaceQu\",\"GarageType\",\"GarageFinish\",\"GarageQual\",\"GarageCond\",\"Fence\"]\n",
        "for label in missing_string_features:\n",
        "  df_train_temp[label].fillna(df_train_temp[label].mode()[0],inplace=True)"
      ],
      "execution_count": null,
      "outputs": []
    },
    {
      "cell_type": "code",
      "metadata": {
        "id": "JnGLDp9n1WO1"
      },
      "source": [
        "# checking for string data-objects in the train data \n",
        "for  label , content in df_train_temp.items():\n",
        "   if (pd.api.types.is_string_dtype(content) & (df_train_temp[label].isna().sum()>0)) :\n",
        "     print(label)"
      ],
      "execution_count": null,
      "outputs": []
    },
    {
      "cell_type": "markdown",
      "metadata": {
        "id": "wQahGzh02aUH"
      },
      "source": [
        "thus the missing string objects of the train set has been handelled "
      ]
    },
    {
      "cell_type": "code",
      "metadata": {
        "id": "Iv-D2xJj2h6x"
      },
      "source": [
        "#checking for the test data :\n",
        "# checking for string data-objects in the train data \n",
        "for  label , content in df_test_temp.items():\n",
        "   if (pd.api.types.is_string_dtype(content) & (df_test_temp[label].isna().sum()>0)) :\n",
        "     df_test_temp[label].fillna(df_test_temp[label].mode()[0],inplace=True)"
      ],
      "execution_count": null,
      "outputs": []
    },
    {
      "cell_type": "code",
      "metadata": {
        "colab": {
          "base_uri": "https://localhost:8080/"
        },
        "id": "HsvRryiv3PmU",
        "outputId": "a1dc8aae-599d-4428-cd9b-5998917a6cbb"
      },
      "source": [
        "df_test_temp.info()"
      ],
      "execution_count": null,
      "outputs": [
        {
          "output_type": "stream",
          "text": [
            "<class 'pandas.core.frame.DataFrame'>\n",
            "RangeIndex: 1459 entries, 0 to 1458\n",
            "Data columns (total 76 columns):\n",
            " #   Column         Non-Null Count  Dtype  \n",
            "---  ------         --------------  -----  \n",
            " 0   MSSubClass     1459 non-null   int64  \n",
            " 1   MSZoning       1459 non-null   object \n",
            " 2   LotFrontage    1459 non-null   float64\n",
            " 3   LotArea        1459 non-null   int64  \n",
            " 4   Street         1459 non-null   object \n",
            " 5   LotShape       1459 non-null   object \n",
            " 6   LandContour    1459 non-null   object \n",
            " 7   Utilities      1459 non-null   object \n",
            " 8   LotConfig      1459 non-null   object \n",
            " 9   LandSlope      1459 non-null   object \n",
            " 10  Neighborhood   1459 non-null   object \n",
            " 11  Condition1     1459 non-null   object \n",
            " 12  Condition2     1459 non-null   object \n",
            " 13  BldgType       1459 non-null   object \n",
            " 14  HouseStyle     1459 non-null   object \n",
            " 15  OverallQual    1459 non-null   int64  \n",
            " 16  OverallCond    1459 non-null   int64  \n",
            " 17  YearBuilt      1459 non-null   int64  \n",
            " 18  YearRemodAdd   1459 non-null   int64  \n",
            " 19  RoofStyle      1459 non-null   object \n",
            " 20  RoofMatl       1459 non-null   object \n",
            " 21  Exterior1st    1459 non-null   object \n",
            " 22  Exterior2nd    1459 non-null   object \n",
            " 23  MasVnrType     1459 non-null   object \n",
            " 24  MasVnrArea     1459 non-null   float64\n",
            " 25  ExterQual      1459 non-null   object \n",
            " 26  ExterCond      1459 non-null   object \n",
            " 27  Foundation     1459 non-null   object \n",
            " 28  BsmtQual       1459 non-null   object \n",
            " 29  BsmtCond       1459 non-null   object \n",
            " 30  BsmtExposure   1459 non-null   object \n",
            " 31  BsmtFinType1   1459 non-null   object \n",
            " 32  BsmtFinSF1     1459 non-null   float64\n",
            " 33  BsmtFinType2   1459 non-null   object \n",
            " 34  BsmtFinSF2     1459 non-null   float64\n",
            " 35  BsmtUnfSF      1459 non-null   float64\n",
            " 36  TotalBsmtSF    1459 non-null   float64\n",
            " 37  Heating        1459 non-null   object \n",
            " 38  HeatingQC      1459 non-null   object \n",
            " 39  CentralAir     1459 non-null   object \n",
            " 40  Electrical     1459 non-null   object \n",
            " 41  1stFlrSF       1459 non-null   int64  \n",
            " 42  2ndFlrSF       1459 non-null   int64  \n",
            " 43  LowQualFinSF   1459 non-null   int64  \n",
            " 44  GrLivArea      1459 non-null   int64  \n",
            " 45  BsmtFullBath   1459 non-null   float64\n",
            " 46  BsmtHalfBath   1459 non-null   float64\n",
            " 47  FullBath       1459 non-null   int64  \n",
            " 48  HalfBath       1459 non-null   int64  \n",
            " 49  BedroomAbvGr   1459 non-null   int64  \n",
            " 50  KitchenAbvGr   1459 non-null   int64  \n",
            " 51  KitchenQual    1459 non-null   object \n",
            " 52  TotRmsAbvGrd   1459 non-null   int64  \n",
            " 53  Functional     1459 non-null   object \n",
            " 54  Fireplaces     1459 non-null   int64  \n",
            " 55  FireplaceQu    1459 non-null   object \n",
            " 56  GarageType     1459 non-null   object \n",
            " 57  GarageYrBlt    1459 non-null   float64\n",
            " 58  GarageFinish   1459 non-null   object \n",
            " 59  GarageCars     1459 non-null   float64\n",
            " 60  GarageArea     1459 non-null   float64\n",
            " 61  GarageQual     1459 non-null   object \n",
            " 62  GarageCond     1459 non-null   object \n",
            " 63  PavedDrive     1459 non-null   object \n",
            " 64  WoodDeckSF     1459 non-null   int64  \n",
            " 65  OpenPorchSF    1459 non-null   int64  \n",
            " 66  EnclosedPorch  1459 non-null   int64  \n",
            " 67  3SsnPorch      1459 non-null   int64  \n",
            " 68  ScreenPorch    1459 non-null   int64  \n",
            " 69  PoolArea       1459 non-null   int64  \n",
            " 70  Fence          1459 non-null   object \n",
            " 71  MiscVal        1459 non-null   int64  \n",
            " 72  MoSold         1459 non-null   int64  \n",
            " 73  YrSold         1459 non-null   int64  \n",
            " 74  SaleType       1459 non-null   object \n",
            " 75  SaleCondition  1459 non-null   object \n",
            "dtypes: float64(11), int64(25), object(40)\n",
            "memory usage: 866.4+ KB\n"
          ],
          "name": "stdout"
        }
      ]
    },
    {
      "cell_type": "code",
      "metadata": {
        "colab": {
          "base_uri": "https://localhost:8080/"
        },
        "id": "JrWLX9KD4msu",
        "outputId": "fc1ae85c-e3d8-4ba1-b219-e10b8196b358"
      },
      "source": [
        "df_train_temp.info()"
      ],
      "execution_count": null,
      "outputs": [
        {
          "output_type": "stream",
          "text": [
            "<class 'pandas.core.frame.DataFrame'>\n",
            "RangeIndex: 1460 entries, 0 to 1459\n",
            "Data columns (total 77 columns):\n",
            " #   Column         Non-Null Count  Dtype  \n",
            "---  ------         --------------  -----  \n",
            " 0   MSSubClass     1460 non-null   int64  \n",
            " 1   MSZoning       1460 non-null   object \n",
            " 2   LotFrontage    1460 non-null   float64\n",
            " 3   LotArea        1460 non-null   int64  \n",
            " 4   Street         1460 non-null   object \n",
            " 5   LotShape       1460 non-null   object \n",
            " 6   LandContour    1460 non-null   object \n",
            " 7   Utilities      1460 non-null   object \n",
            " 8   LotConfig      1460 non-null   object \n",
            " 9   LandSlope      1460 non-null   object \n",
            " 10  Neighborhood   1460 non-null   object \n",
            " 11  Condition1     1460 non-null   object \n",
            " 12  Condition2     1460 non-null   object \n",
            " 13  BldgType       1460 non-null   object \n",
            " 14  HouseStyle     1460 non-null   object \n",
            " 15  OverallQual    1460 non-null   int64  \n",
            " 16  OverallCond    1460 non-null   int64  \n",
            " 17  YearBuilt      1460 non-null   int64  \n",
            " 18  YearRemodAdd   1460 non-null   int64  \n",
            " 19  RoofStyle      1460 non-null   object \n",
            " 20  RoofMatl       1460 non-null   object \n",
            " 21  Exterior1st    1460 non-null   object \n",
            " 22  Exterior2nd    1460 non-null   object \n",
            " 23  MasVnrType     1460 non-null   object \n",
            " 24  MasVnrArea     1460 non-null   float64\n",
            " 25  ExterQual      1460 non-null   object \n",
            " 26  ExterCond      1460 non-null   object \n",
            " 27  Foundation     1460 non-null   object \n",
            " 28  BsmtQual       1460 non-null   object \n",
            " 29  BsmtCond       1460 non-null   object \n",
            " 30  BsmtExposure   1460 non-null   object \n",
            " 31  BsmtFinType1   1460 non-null   object \n",
            " 32  BsmtFinSF1     1460 non-null   int64  \n",
            " 33  BsmtFinType2   1460 non-null   object \n",
            " 34  BsmtFinSF2     1460 non-null   int64  \n",
            " 35  BsmtUnfSF      1460 non-null   int64  \n",
            " 36  TotalBsmtSF    1460 non-null   int64  \n",
            " 37  Heating        1460 non-null   object \n",
            " 38  HeatingQC      1460 non-null   object \n",
            " 39  CentralAir     1460 non-null   object \n",
            " 40  Electrical     1460 non-null   object \n",
            " 41  1stFlrSF       1460 non-null   int64  \n",
            " 42  2ndFlrSF       1460 non-null   int64  \n",
            " 43  LowQualFinSF   1460 non-null   int64  \n",
            " 44  GrLivArea      1460 non-null   int64  \n",
            " 45  BsmtFullBath   1460 non-null   int64  \n",
            " 46  BsmtHalfBath   1460 non-null   int64  \n",
            " 47  FullBath       1460 non-null   int64  \n",
            " 48  HalfBath       1460 non-null   int64  \n",
            " 49  BedroomAbvGr   1460 non-null   int64  \n",
            " 50  KitchenAbvGr   1460 non-null   int64  \n",
            " 51  KitchenQual    1460 non-null   object \n",
            " 52  TotRmsAbvGrd   1460 non-null   int64  \n",
            " 53  Functional     1460 non-null   object \n",
            " 54  Fireplaces     1460 non-null   int64  \n",
            " 55  FireplaceQu    1460 non-null   object \n",
            " 56  GarageType     1460 non-null   object \n",
            " 57  GarageYrBlt    1460 non-null   float64\n",
            " 58  GarageFinish   1460 non-null   object \n",
            " 59  GarageCars     1460 non-null   int64  \n",
            " 60  GarageArea     1460 non-null   int64  \n",
            " 61  GarageQual     1460 non-null   object \n",
            " 62  GarageCond     1460 non-null   object \n",
            " 63  PavedDrive     1460 non-null   object \n",
            " 64  WoodDeckSF     1460 non-null   int64  \n",
            " 65  OpenPorchSF    1460 non-null   int64  \n",
            " 66  EnclosedPorch  1460 non-null   int64  \n",
            " 67  3SsnPorch      1460 non-null   int64  \n",
            " 68  ScreenPorch    1460 non-null   int64  \n",
            " 69  PoolArea       1460 non-null   int64  \n",
            " 70  Fence          1460 non-null   object \n",
            " 71  MiscVal        1460 non-null   int64  \n",
            " 72  MoSold         1460 non-null   int64  \n",
            " 73  YrSold         1460 non-null   int64  \n",
            " 74  SaleType       1460 non-null   object \n",
            " 75  SaleCondition  1460 non-null   object \n",
            " 76  SalePrice      1460 non-null   int64  \n",
            "dtypes: float64(3), int64(34), object(40)\n",
            "memory usage: 878.4+ KB\n"
          ],
          "name": "stdout"
        }
      ]
    },
    {
      "cell_type": "code",
      "metadata": {
        "id": "fk5zJiHK4u0q"
      },
      "source": [
        "# changing the sting objects to category objects in the train dat set \n",
        "for label , content in df_train_temp.items():\n",
        "  if pd.api.types.is_string_dtype(content):\n",
        "    df_train_temp[label] = df_train_temp[label].astype('category')"
      ],
      "execution_count": null,
      "outputs": []
    },
    {
      "cell_type": "code",
      "metadata": {
        "colab": {
          "base_uri": "https://localhost:8080/"
        },
        "id": "n9_lfNvo4w8w",
        "outputId": "e6a840b9-55f2-4183-93f8-3edf68042e47"
      },
      "source": [
        "df_train_temp.info()"
      ],
      "execution_count": null,
      "outputs": [
        {
          "output_type": "stream",
          "text": [
            "<class 'pandas.core.frame.DataFrame'>\n",
            "RangeIndex: 1460 entries, 0 to 1459\n",
            "Data columns (total 77 columns):\n",
            " #   Column         Non-Null Count  Dtype   \n",
            "---  ------         --------------  -----   \n",
            " 0   MSSubClass     1460 non-null   int64   \n",
            " 1   MSZoning       1460 non-null   category\n",
            " 2   LotFrontage    1460 non-null   float64 \n",
            " 3   LotArea        1460 non-null   int64   \n",
            " 4   Street         1460 non-null   category\n",
            " 5   LotShape       1460 non-null   category\n",
            " 6   LandContour    1460 non-null   category\n",
            " 7   Utilities      1460 non-null   category\n",
            " 8   LotConfig      1460 non-null   category\n",
            " 9   LandSlope      1460 non-null   category\n",
            " 10  Neighborhood   1460 non-null   category\n",
            " 11  Condition1     1460 non-null   category\n",
            " 12  Condition2     1460 non-null   category\n",
            " 13  BldgType       1460 non-null   category\n",
            " 14  HouseStyle     1460 non-null   category\n",
            " 15  OverallQual    1460 non-null   int64   \n",
            " 16  OverallCond    1460 non-null   int64   \n",
            " 17  YearBuilt      1460 non-null   int64   \n",
            " 18  YearRemodAdd   1460 non-null   int64   \n",
            " 19  RoofStyle      1460 non-null   category\n",
            " 20  RoofMatl       1460 non-null   category\n",
            " 21  Exterior1st    1460 non-null   category\n",
            " 22  Exterior2nd    1460 non-null   category\n",
            " 23  MasVnrType     1460 non-null   category\n",
            " 24  MasVnrArea     1460 non-null   float64 \n",
            " 25  ExterQual      1460 non-null   category\n",
            " 26  ExterCond      1460 non-null   category\n",
            " 27  Foundation     1460 non-null   category\n",
            " 28  BsmtQual       1460 non-null   category\n",
            " 29  BsmtCond       1460 non-null   category\n",
            " 30  BsmtExposure   1460 non-null   category\n",
            " 31  BsmtFinType1   1460 non-null   category\n",
            " 32  BsmtFinSF1     1460 non-null   int64   \n",
            " 33  BsmtFinType2   1460 non-null   category\n",
            " 34  BsmtFinSF2     1460 non-null   int64   \n",
            " 35  BsmtUnfSF      1460 non-null   int64   \n",
            " 36  TotalBsmtSF    1460 non-null   int64   \n",
            " 37  Heating        1460 non-null   category\n",
            " 38  HeatingQC      1460 non-null   category\n",
            " 39  CentralAir     1460 non-null   category\n",
            " 40  Electrical     1460 non-null   category\n",
            " 41  1stFlrSF       1460 non-null   int64   \n",
            " 42  2ndFlrSF       1460 non-null   int64   \n",
            " 43  LowQualFinSF   1460 non-null   int64   \n",
            " 44  GrLivArea      1460 non-null   int64   \n",
            " 45  BsmtFullBath   1460 non-null   int64   \n",
            " 46  BsmtHalfBath   1460 non-null   int64   \n",
            " 47  FullBath       1460 non-null   int64   \n",
            " 48  HalfBath       1460 non-null   int64   \n",
            " 49  BedroomAbvGr   1460 non-null   int64   \n",
            " 50  KitchenAbvGr   1460 non-null   int64   \n",
            " 51  KitchenQual    1460 non-null   category\n",
            " 52  TotRmsAbvGrd   1460 non-null   int64   \n",
            " 53  Functional     1460 non-null   category\n",
            " 54  Fireplaces     1460 non-null   int64   \n",
            " 55  FireplaceQu    1460 non-null   category\n",
            " 56  GarageType     1460 non-null   category\n",
            " 57  GarageYrBlt    1460 non-null   float64 \n",
            " 58  GarageFinish   1460 non-null   category\n",
            " 59  GarageCars     1460 non-null   int64   \n",
            " 60  GarageArea     1460 non-null   int64   \n",
            " 61  GarageQual     1460 non-null   category\n",
            " 62  GarageCond     1460 non-null   category\n",
            " 63  PavedDrive     1460 non-null   category\n",
            " 64  WoodDeckSF     1460 non-null   int64   \n",
            " 65  OpenPorchSF    1460 non-null   int64   \n",
            " 66  EnclosedPorch  1460 non-null   int64   \n",
            " 67  3SsnPorch      1460 non-null   int64   \n",
            " 68  ScreenPorch    1460 non-null   int64   \n",
            " 69  PoolArea       1460 non-null   int64   \n",
            " 70  Fence          1460 non-null   category\n",
            " 71  MiscVal        1460 non-null   int64   \n",
            " 72  MoSold         1460 non-null   int64   \n",
            " 73  YrSold         1460 non-null   int64   \n",
            " 74  SaleType       1460 non-null   category\n",
            " 75  SaleCondition  1460 non-null   category\n",
            " 76  SalePrice      1460 non-null   int64   \n",
            "dtypes: category(40), float64(3), int64(34)\n",
            "memory usage: 489.2 KB\n"
          ],
          "name": "stdout"
        }
      ]
    },
    {
      "cell_type": "code",
      "metadata": {
        "id": "H7kBUAoD6GGm"
      },
      "source": [
        "#changing the category into codes:\n",
        "\n",
        "for label , content in df_train_temp.items():\n",
        "  if pd.api.types.is_categorical_dtype(content):\n",
        "    df_train_temp[label] = pd.Categorical(content).codes"
      ],
      "execution_count": null,
      "outputs": []
    },
    {
      "cell_type": "code",
      "metadata": {
        "colab": {
          "base_uri": "https://localhost:8080/"
        },
        "id": "u-IojAMy61ZP",
        "outputId": "6b6eb2a9-09c1-4767-c65b-c74583a428f1"
      },
      "source": [
        "df_train_temp.info()"
      ],
      "execution_count": null,
      "outputs": [
        {
          "output_type": "stream",
          "text": [
            "<class 'pandas.core.frame.DataFrame'>\n",
            "RangeIndex: 1460 entries, 0 to 1459\n",
            "Data columns (total 77 columns):\n",
            " #   Column         Non-Null Count  Dtype  \n",
            "---  ------         --------------  -----  \n",
            " 0   MSSubClass     1460 non-null   int64  \n",
            " 1   MSZoning       1460 non-null   int8   \n",
            " 2   LotFrontage    1460 non-null   float64\n",
            " 3   LotArea        1460 non-null   int64  \n",
            " 4   Street         1460 non-null   int8   \n",
            " 5   LotShape       1460 non-null   int8   \n",
            " 6   LandContour    1460 non-null   int8   \n",
            " 7   Utilities      1460 non-null   int8   \n",
            " 8   LotConfig      1460 non-null   int8   \n",
            " 9   LandSlope      1460 non-null   int8   \n",
            " 10  Neighborhood   1460 non-null   int8   \n",
            " 11  Condition1     1460 non-null   int8   \n",
            " 12  Condition2     1460 non-null   int8   \n",
            " 13  BldgType       1460 non-null   int8   \n",
            " 14  HouseStyle     1460 non-null   int8   \n",
            " 15  OverallQual    1460 non-null   int64  \n",
            " 16  OverallCond    1460 non-null   int64  \n",
            " 17  YearBuilt      1460 non-null   int64  \n",
            " 18  YearRemodAdd   1460 non-null   int64  \n",
            " 19  RoofStyle      1460 non-null   int8   \n",
            " 20  RoofMatl       1460 non-null   int8   \n",
            " 21  Exterior1st    1460 non-null   int8   \n",
            " 22  Exterior2nd    1460 non-null   int8   \n",
            " 23  MasVnrType     1460 non-null   int8   \n",
            " 24  MasVnrArea     1460 non-null   float64\n",
            " 25  ExterQual      1460 non-null   int8   \n",
            " 26  ExterCond      1460 non-null   int8   \n",
            " 27  Foundation     1460 non-null   int8   \n",
            " 28  BsmtQual       1460 non-null   int8   \n",
            " 29  BsmtCond       1460 non-null   int8   \n",
            " 30  BsmtExposure   1460 non-null   int8   \n",
            " 31  BsmtFinType1   1460 non-null   int8   \n",
            " 32  BsmtFinSF1     1460 non-null   int64  \n",
            " 33  BsmtFinType2   1460 non-null   int8   \n",
            " 34  BsmtFinSF2     1460 non-null   int64  \n",
            " 35  BsmtUnfSF      1460 non-null   int64  \n",
            " 36  TotalBsmtSF    1460 non-null   int64  \n",
            " 37  Heating        1460 non-null   int8   \n",
            " 38  HeatingQC      1460 non-null   int8   \n",
            " 39  CentralAir     1460 non-null   int8   \n",
            " 40  Electrical     1460 non-null   int8   \n",
            " 41  1stFlrSF       1460 non-null   int64  \n",
            " 42  2ndFlrSF       1460 non-null   int64  \n",
            " 43  LowQualFinSF   1460 non-null   int64  \n",
            " 44  GrLivArea      1460 non-null   int64  \n",
            " 45  BsmtFullBath   1460 non-null   int64  \n",
            " 46  BsmtHalfBath   1460 non-null   int64  \n",
            " 47  FullBath       1460 non-null   int64  \n",
            " 48  HalfBath       1460 non-null   int64  \n",
            " 49  BedroomAbvGr   1460 non-null   int64  \n",
            " 50  KitchenAbvGr   1460 non-null   int64  \n",
            " 51  KitchenQual    1460 non-null   int8   \n",
            " 52  TotRmsAbvGrd   1460 non-null   int64  \n",
            " 53  Functional     1460 non-null   int8   \n",
            " 54  Fireplaces     1460 non-null   int64  \n",
            " 55  FireplaceQu    1460 non-null   int8   \n",
            " 56  GarageType     1460 non-null   int8   \n",
            " 57  GarageYrBlt    1460 non-null   float64\n",
            " 58  GarageFinish   1460 non-null   int8   \n",
            " 59  GarageCars     1460 non-null   int64  \n",
            " 60  GarageArea     1460 non-null   int64  \n",
            " 61  GarageQual     1460 non-null   int8   \n",
            " 62  GarageCond     1460 non-null   int8   \n",
            " 63  PavedDrive     1460 non-null   int8   \n",
            " 64  WoodDeckSF     1460 non-null   int64  \n",
            " 65  OpenPorchSF    1460 non-null   int64  \n",
            " 66  EnclosedPorch  1460 non-null   int64  \n",
            " 67  3SsnPorch      1460 non-null   int64  \n",
            " 68  ScreenPorch    1460 non-null   int64  \n",
            " 69  PoolArea       1460 non-null   int64  \n",
            " 70  Fence          1460 non-null   int8   \n",
            " 71  MiscVal        1460 non-null   int64  \n",
            " 72  MoSold         1460 non-null   int64  \n",
            " 73  YrSold         1460 non-null   int64  \n",
            " 74  SaleType       1460 non-null   int8   \n",
            " 75  SaleCondition  1460 non-null   int8   \n",
            " 76  SalePrice      1460 non-null   int64  \n",
            "dtypes: float64(3), int64(34), int8(40)\n",
            "memory usage: 479.2 KB\n"
          ],
          "name": "stdout"
        }
      ]
    },
    {
      "cell_type": "code",
      "metadata": {
        "colab": {
          "base_uri": "https://localhost:8080/"
        },
        "id": "_zQaSTqP7Aoq",
        "outputId": "e64f89d3-4c6f-47d3-fbf6-0c2cbebbc95f"
      },
      "source": [
        "df_train_temp[\"SaleCondition\"].value_counts()"
      ],
      "execution_count": null,
      "outputs": [
        {
          "output_type": "execute_result",
          "data": {
            "text/plain": [
              "4    1198\n",
              "5     125\n",
              "0     101\n",
              "3      20\n",
              "2      12\n",
              "1       4\n",
              "Name: SaleCondition, dtype: int64"
            ]
          },
          "metadata": {
            "tags": []
          },
          "execution_count": 159
        }
      ]
    },
    {
      "cell_type": "code",
      "metadata": {
        "id": "nu7r5C4P8r58"
      },
      "source": [
        "#doing the same for the test data \n",
        "# changing the sting objects to category objects in the train dat set \n",
        "for label , content in df_test_temp.items():\n",
        "  if pd.api.types.is_string_dtype(content):\n",
        "    df_test_temp[label] = df_test_temp[label].astype('category')\n",
        "#changing the category into codes:\n",
        "\n",
        "for label , content in df_test_temp.items():\n",
        "  if pd.api.types.is_categorical_dtype(content):\n",
        "    df_test_temp[label] = pd.Categorical(content).codes"
      ],
      "execution_count": null,
      "outputs": []
    },
    {
      "cell_type": "code",
      "metadata": {
        "colab": {
          "base_uri": "https://localhost:8080/"
        },
        "id": "69FzONex9CNg",
        "outputId": "e189ac79-c5fe-4eff-d91c-75b07c13673b"
      },
      "source": [
        "df_test_temp.info()"
      ],
      "execution_count": null,
      "outputs": [
        {
          "output_type": "stream",
          "text": [
            "<class 'pandas.core.frame.DataFrame'>\n",
            "RangeIndex: 1459 entries, 0 to 1458\n",
            "Data columns (total 76 columns):\n",
            " #   Column         Non-Null Count  Dtype  \n",
            "---  ------         --------------  -----  \n",
            " 0   MSSubClass     1459 non-null   int64  \n",
            " 1   MSZoning       1459 non-null   int8   \n",
            " 2   LotFrontage    1459 non-null   float64\n",
            " 3   LotArea        1459 non-null   int64  \n",
            " 4   Street         1459 non-null   int8   \n",
            " 5   LotShape       1459 non-null   int8   \n",
            " 6   LandContour    1459 non-null   int8   \n",
            " 7   Utilities      1459 non-null   int8   \n",
            " 8   LotConfig      1459 non-null   int8   \n",
            " 9   LandSlope      1459 non-null   int8   \n",
            " 10  Neighborhood   1459 non-null   int8   \n",
            " 11  Condition1     1459 non-null   int8   \n",
            " 12  Condition2     1459 non-null   int8   \n",
            " 13  BldgType       1459 non-null   int8   \n",
            " 14  HouseStyle     1459 non-null   int8   \n",
            " 15  OverallQual    1459 non-null   int64  \n",
            " 16  OverallCond    1459 non-null   int64  \n",
            " 17  YearBuilt      1459 non-null   int64  \n",
            " 18  YearRemodAdd   1459 non-null   int64  \n",
            " 19  RoofStyle      1459 non-null   int8   \n",
            " 20  RoofMatl       1459 non-null   int8   \n",
            " 21  Exterior1st    1459 non-null   int8   \n",
            " 22  Exterior2nd    1459 non-null   int8   \n",
            " 23  MasVnrType     1459 non-null   int8   \n",
            " 24  MasVnrArea     1459 non-null   float64\n",
            " 25  ExterQual      1459 non-null   int8   \n",
            " 26  ExterCond      1459 non-null   int8   \n",
            " 27  Foundation     1459 non-null   int8   \n",
            " 28  BsmtQual       1459 non-null   int8   \n",
            " 29  BsmtCond       1459 non-null   int8   \n",
            " 30  BsmtExposure   1459 non-null   int8   \n",
            " 31  BsmtFinType1   1459 non-null   int8   \n",
            " 32  BsmtFinSF1     1459 non-null   float64\n",
            " 33  BsmtFinType2   1459 non-null   int8   \n",
            " 34  BsmtFinSF2     1459 non-null   float64\n",
            " 35  BsmtUnfSF      1459 non-null   float64\n",
            " 36  TotalBsmtSF    1459 non-null   float64\n",
            " 37  Heating        1459 non-null   int8   \n",
            " 38  HeatingQC      1459 non-null   int8   \n",
            " 39  CentralAir     1459 non-null   int8   \n",
            " 40  Electrical     1459 non-null   int8   \n",
            " 41  1stFlrSF       1459 non-null   int64  \n",
            " 42  2ndFlrSF       1459 non-null   int64  \n",
            " 43  LowQualFinSF   1459 non-null   int64  \n",
            " 44  GrLivArea      1459 non-null   int64  \n",
            " 45  BsmtFullBath   1459 non-null   float64\n",
            " 46  BsmtHalfBath   1459 non-null   float64\n",
            " 47  FullBath       1459 non-null   int64  \n",
            " 48  HalfBath       1459 non-null   int64  \n",
            " 49  BedroomAbvGr   1459 non-null   int64  \n",
            " 50  KitchenAbvGr   1459 non-null   int64  \n",
            " 51  KitchenQual    1459 non-null   int8   \n",
            " 52  TotRmsAbvGrd   1459 non-null   int64  \n",
            " 53  Functional     1459 non-null   int8   \n",
            " 54  Fireplaces     1459 non-null   int64  \n",
            " 55  FireplaceQu    1459 non-null   int8   \n",
            " 56  GarageType     1459 non-null   int8   \n",
            " 57  GarageYrBlt    1459 non-null   float64\n",
            " 58  GarageFinish   1459 non-null   int8   \n",
            " 59  GarageCars     1459 non-null   float64\n",
            " 60  GarageArea     1459 non-null   float64\n",
            " 61  GarageQual     1459 non-null   int8   \n",
            " 62  GarageCond     1459 non-null   int8   \n",
            " 63  PavedDrive     1459 non-null   int8   \n",
            " 64  WoodDeckSF     1459 non-null   int64  \n",
            " 65  OpenPorchSF    1459 non-null   int64  \n",
            " 66  EnclosedPorch  1459 non-null   int64  \n",
            " 67  3SsnPorch      1459 non-null   int64  \n",
            " 68  ScreenPorch    1459 non-null   int64  \n",
            " 69  PoolArea       1459 non-null   int64  \n",
            " 70  Fence          1459 non-null   int8   \n",
            " 71  MiscVal        1459 non-null   int64  \n",
            " 72  MoSold         1459 non-null   int64  \n",
            " 73  YrSold         1459 non-null   int64  \n",
            " 74  SaleType       1459 non-null   int8   \n",
            " 75  SaleCondition  1459 non-null   int8   \n",
            "dtypes: float64(11), int64(25), int8(40)\n",
            "memory usage: 467.5 KB\n"
          ],
          "name": "stdout"
        }
      ]
    },
    {
      "cell_type": "code",
      "metadata": {
        "colab": {
          "base_uri": "https://localhost:8080/"
        },
        "id": "Z2Bv5oQu9IMd",
        "outputId": "ee002e15-a78c-49c3-a72a-997c81e90d77"
      },
      "source": [
        "df_test_temp[\"SaleCondition\"]"
      ],
      "execution_count": null,
      "outputs": [
        {
          "output_type": "execute_result",
          "data": {
            "text/plain": [
              "0       4\n",
              "1       4\n",
              "2       4\n",
              "3       4\n",
              "4       4\n",
              "       ..\n",
              "1454    4\n",
              "1455    0\n",
              "1456    0\n",
              "1457    4\n",
              "1458    4\n",
              "Name: SaleCondition, Length: 1459, dtype: int8"
            ]
          },
          "metadata": {
            "tags": []
          },
          "execution_count": 162
        }
      ]
    },
    {
      "cell_type": "markdown",
      "metadata": {
        "id": "69l9tYMy90ih"
      },
      "source": [
        "#Modelling "
      ]
    },
    {
      "cell_type": "markdown",
      "metadata": {
        "id": "hT615XZoIAuM"
      },
      "source": [
        "let go with random forest regressor :\n"
      ]
    },
    {
      "cell_type": "code",
      "metadata": {
        "colab": {
          "base_uri": "https://localhost:8080/",
          "height": 215
        },
        "id": "kcTKOpm5JQFM",
        "outputId": "e380a6ab-0f0e-49f3-ae6f-2c3c85fa4a5f"
      },
      "source": [
        "from sklearn.ensemble import RandomForestRegressor\n",
        "np.random.seed(42)\n",
        "Rnd = RandomForestRegressor()\n",
        "x_train = df_train_temp.drop(\"SalePrice\",axis=1)\n",
        "y_train = df_train_temp[\"SalePrice\"]\n",
        "x_test = df_test_temp\n",
        "x_train.head()"
      ],
      "execution_count": null,
      "outputs": [
        {
          "output_type": "execute_result",
          "data": {
            "text/html": [
              "<div>\n",
              "<style scoped>\n",
              "    .dataframe tbody tr th:only-of-type {\n",
              "        vertical-align: middle;\n",
              "    }\n",
              "\n",
              "    .dataframe tbody tr th {\n",
              "        vertical-align: top;\n",
              "    }\n",
              "\n",
              "    .dataframe thead th {\n",
              "        text-align: right;\n",
              "    }\n",
              "</style>\n",
              "<table border=\"1\" class=\"dataframe\">\n",
              "  <thead>\n",
              "    <tr style=\"text-align: right;\">\n",
              "      <th></th>\n",
              "      <th>MSSubClass</th>\n",
              "      <th>MSZoning</th>\n",
              "      <th>LotFrontage</th>\n",
              "      <th>LotArea</th>\n",
              "      <th>Street</th>\n",
              "      <th>LotShape</th>\n",
              "      <th>LandContour</th>\n",
              "      <th>Utilities</th>\n",
              "      <th>LotConfig</th>\n",
              "      <th>LandSlope</th>\n",
              "      <th>Neighborhood</th>\n",
              "      <th>Condition1</th>\n",
              "      <th>Condition2</th>\n",
              "      <th>BldgType</th>\n",
              "      <th>HouseStyle</th>\n",
              "      <th>OverallQual</th>\n",
              "      <th>OverallCond</th>\n",
              "      <th>YearBuilt</th>\n",
              "      <th>YearRemodAdd</th>\n",
              "      <th>RoofStyle</th>\n",
              "      <th>RoofMatl</th>\n",
              "      <th>Exterior1st</th>\n",
              "      <th>Exterior2nd</th>\n",
              "      <th>MasVnrType</th>\n",
              "      <th>MasVnrArea</th>\n",
              "      <th>ExterQual</th>\n",
              "      <th>ExterCond</th>\n",
              "      <th>Foundation</th>\n",
              "      <th>BsmtQual</th>\n",
              "      <th>BsmtCond</th>\n",
              "      <th>BsmtExposure</th>\n",
              "      <th>BsmtFinType1</th>\n",
              "      <th>BsmtFinSF1</th>\n",
              "      <th>BsmtFinType2</th>\n",
              "      <th>BsmtFinSF2</th>\n",
              "      <th>BsmtUnfSF</th>\n",
              "      <th>TotalBsmtSF</th>\n",
              "      <th>Heating</th>\n",
              "      <th>HeatingQC</th>\n",
              "      <th>CentralAir</th>\n",
              "      <th>Electrical</th>\n",
              "      <th>1stFlrSF</th>\n",
              "      <th>2ndFlrSF</th>\n",
              "      <th>LowQualFinSF</th>\n",
              "      <th>GrLivArea</th>\n",
              "      <th>BsmtFullBath</th>\n",
              "      <th>BsmtHalfBath</th>\n",
              "      <th>FullBath</th>\n",
              "      <th>HalfBath</th>\n",
              "      <th>BedroomAbvGr</th>\n",
              "      <th>KitchenAbvGr</th>\n",
              "      <th>KitchenQual</th>\n",
              "      <th>TotRmsAbvGrd</th>\n",
              "      <th>Functional</th>\n",
              "      <th>Fireplaces</th>\n",
              "      <th>FireplaceQu</th>\n",
              "      <th>GarageType</th>\n",
              "      <th>GarageYrBlt</th>\n",
              "      <th>GarageFinish</th>\n",
              "      <th>GarageCars</th>\n",
              "      <th>GarageArea</th>\n",
              "      <th>GarageQual</th>\n",
              "      <th>GarageCond</th>\n",
              "      <th>PavedDrive</th>\n",
              "      <th>WoodDeckSF</th>\n",
              "      <th>OpenPorchSF</th>\n",
              "      <th>EnclosedPorch</th>\n",
              "      <th>3SsnPorch</th>\n",
              "      <th>ScreenPorch</th>\n",
              "      <th>PoolArea</th>\n",
              "      <th>Fence</th>\n",
              "      <th>MiscVal</th>\n",
              "      <th>MoSold</th>\n",
              "      <th>YrSold</th>\n",
              "      <th>SaleType</th>\n",
              "      <th>SaleCondition</th>\n",
              "    </tr>\n",
              "  </thead>\n",
              "  <tbody>\n",
              "    <tr>\n",
              "      <th>0</th>\n",
              "      <td>60</td>\n",
              "      <td>3</td>\n",
              "      <td>65.0</td>\n",
              "      <td>8450</td>\n",
              "      <td>1</td>\n",
              "      <td>3</td>\n",
              "      <td>3</td>\n",
              "      <td>0</td>\n",
              "      <td>4</td>\n",
              "      <td>0</td>\n",
              "      <td>5</td>\n",
              "      <td>2</td>\n",
              "      <td>2</td>\n",
              "      <td>0</td>\n",
              "      <td>5</td>\n",
              "      <td>7</td>\n",
              "      <td>5</td>\n",
              "      <td>2003</td>\n",
              "      <td>2003</td>\n",
              "      <td>1</td>\n",
              "      <td>1</td>\n",
              "      <td>12</td>\n",
              "      <td>13</td>\n",
              "      <td>1</td>\n",
              "      <td>196.0</td>\n",
              "      <td>2</td>\n",
              "      <td>4</td>\n",
              "      <td>2</td>\n",
              "      <td>2</td>\n",
              "      <td>3</td>\n",
              "      <td>3</td>\n",
              "      <td>2</td>\n",
              "      <td>706</td>\n",
              "      <td>5</td>\n",
              "      <td>0</td>\n",
              "      <td>150</td>\n",
              "      <td>856</td>\n",
              "      <td>1</td>\n",
              "      <td>0</td>\n",
              "      <td>1</td>\n",
              "      <td>4</td>\n",
              "      <td>856</td>\n",
              "      <td>854</td>\n",
              "      <td>0</td>\n",
              "      <td>1710</td>\n",
              "      <td>1</td>\n",
              "      <td>0</td>\n",
              "      <td>2</td>\n",
              "      <td>1</td>\n",
              "      <td>3</td>\n",
              "      <td>1</td>\n",
              "      <td>2</td>\n",
              "      <td>8</td>\n",
              "      <td>6</td>\n",
              "      <td>0</td>\n",
              "      <td>2</td>\n",
              "      <td>1</td>\n",
              "      <td>2003.0</td>\n",
              "      <td>1</td>\n",
              "      <td>2</td>\n",
              "      <td>548</td>\n",
              "      <td>4</td>\n",
              "      <td>4</td>\n",
              "      <td>2</td>\n",
              "      <td>0</td>\n",
              "      <td>61</td>\n",
              "      <td>0</td>\n",
              "      <td>0</td>\n",
              "      <td>0</td>\n",
              "      <td>0</td>\n",
              "      <td>2</td>\n",
              "      <td>0</td>\n",
              "      <td>2</td>\n",
              "      <td>2008</td>\n",
              "      <td>8</td>\n",
              "      <td>4</td>\n",
              "    </tr>\n",
              "    <tr>\n",
              "      <th>1</th>\n",
              "      <td>20</td>\n",
              "      <td>3</td>\n",
              "      <td>80.0</td>\n",
              "      <td>9600</td>\n",
              "      <td>1</td>\n",
              "      <td>3</td>\n",
              "      <td>3</td>\n",
              "      <td>0</td>\n",
              "      <td>2</td>\n",
              "      <td>0</td>\n",
              "      <td>24</td>\n",
              "      <td>1</td>\n",
              "      <td>2</td>\n",
              "      <td>0</td>\n",
              "      <td>2</td>\n",
              "      <td>6</td>\n",
              "      <td>8</td>\n",
              "      <td>1976</td>\n",
              "      <td>1976</td>\n",
              "      <td>1</td>\n",
              "      <td>1</td>\n",
              "      <td>8</td>\n",
              "      <td>8</td>\n",
              "      <td>2</td>\n",
              "      <td>0.0</td>\n",
              "      <td>3</td>\n",
              "      <td>4</td>\n",
              "      <td>1</td>\n",
              "      <td>2</td>\n",
              "      <td>3</td>\n",
              "      <td>1</td>\n",
              "      <td>0</td>\n",
              "      <td>978</td>\n",
              "      <td>5</td>\n",
              "      <td>0</td>\n",
              "      <td>284</td>\n",
              "      <td>1262</td>\n",
              "      <td>1</td>\n",
              "      <td>0</td>\n",
              "      <td>1</td>\n",
              "      <td>4</td>\n",
              "      <td>1262</td>\n",
              "      <td>0</td>\n",
              "      <td>0</td>\n",
              "      <td>1262</td>\n",
              "      <td>0</td>\n",
              "      <td>1</td>\n",
              "      <td>2</td>\n",
              "      <td>0</td>\n",
              "      <td>3</td>\n",
              "      <td>1</td>\n",
              "      <td>3</td>\n",
              "      <td>6</td>\n",
              "      <td>6</td>\n",
              "      <td>1</td>\n",
              "      <td>4</td>\n",
              "      <td>1</td>\n",
              "      <td>1976.0</td>\n",
              "      <td>1</td>\n",
              "      <td>2</td>\n",
              "      <td>460</td>\n",
              "      <td>4</td>\n",
              "      <td>4</td>\n",
              "      <td>2</td>\n",
              "      <td>298</td>\n",
              "      <td>0</td>\n",
              "      <td>0</td>\n",
              "      <td>0</td>\n",
              "      <td>0</td>\n",
              "      <td>0</td>\n",
              "      <td>2</td>\n",
              "      <td>0</td>\n",
              "      <td>5</td>\n",
              "      <td>2007</td>\n",
              "      <td>8</td>\n",
              "      <td>4</td>\n",
              "    </tr>\n",
              "    <tr>\n",
              "      <th>2</th>\n",
              "      <td>60</td>\n",
              "      <td>3</td>\n",
              "      <td>68.0</td>\n",
              "      <td>11250</td>\n",
              "      <td>1</td>\n",
              "      <td>0</td>\n",
              "      <td>3</td>\n",
              "      <td>0</td>\n",
              "      <td>4</td>\n",
              "      <td>0</td>\n",
              "      <td>5</td>\n",
              "      <td>2</td>\n",
              "      <td>2</td>\n",
              "      <td>0</td>\n",
              "      <td>5</td>\n",
              "      <td>7</td>\n",
              "      <td>5</td>\n",
              "      <td>2001</td>\n",
              "      <td>2002</td>\n",
              "      <td>1</td>\n",
              "      <td>1</td>\n",
              "      <td>12</td>\n",
              "      <td>13</td>\n",
              "      <td>1</td>\n",
              "      <td>162.0</td>\n",
              "      <td>2</td>\n",
              "      <td>4</td>\n",
              "      <td>2</td>\n",
              "      <td>2</td>\n",
              "      <td>3</td>\n",
              "      <td>2</td>\n",
              "      <td>2</td>\n",
              "      <td>486</td>\n",
              "      <td>5</td>\n",
              "      <td>0</td>\n",
              "      <td>434</td>\n",
              "      <td>920</td>\n",
              "      <td>1</td>\n",
              "      <td>0</td>\n",
              "      <td>1</td>\n",
              "      <td>4</td>\n",
              "      <td>920</td>\n",
              "      <td>866</td>\n",
              "      <td>0</td>\n",
              "      <td>1786</td>\n",
              "      <td>1</td>\n",
              "      <td>0</td>\n",
              "      <td>2</td>\n",
              "      <td>1</td>\n",
              "      <td>3</td>\n",
              "      <td>1</td>\n",
              "      <td>2</td>\n",
              "      <td>6</td>\n",
              "      <td>6</td>\n",
              "      <td>1</td>\n",
              "      <td>4</td>\n",
              "      <td>1</td>\n",
              "      <td>2001.0</td>\n",
              "      <td>1</td>\n",
              "      <td>2</td>\n",
              "      <td>608</td>\n",
              "      <td>4</td>\n",
              "      <td>4</td>\n",
              "      <td>2</td>\n",
              "      <td>0</td>\n",
              "      <td>42</td>\n",
              "      <td>0</td>\n",
              "      <td>0</td>\n",
              "      <td>0</td>\n",
              "      <td>0</td>\n",
              "      <td>2</td>\n",
              "      <td>0</td>\n",
              "      <td>9</td>\n",
              "      <td>2008</td>\n",
              "      <td>8</td>\n",
              "      <td>4</td>\n",
              "    </tr>\n",
              "    <tr>\n",
              "      <th>3</th>\n",
              "      <td>70</td>\n",
              "      <td>3</td>\n",
              "      <td>60.0</td>\n",
              "      <td>9550</td>\n",
              "      <td>1</td>\n",
              "      <td>0</td>\n",
              "      <td>3</td>\n",
              "      <td>0</td>\n",
              "      <td>0</td>\n",
              "      <td>0</td>\n",
              "      <td>6</td>\n",
              "      <td>2</td>\n",
              "      <td>2</td>\n",
              "      <td>0</td>\n",
              "      <td>5</td>\n",
              "      <td>7</td>\n",
              "      <td>5</td>\n",
              "      <td>1915</td>\n",
              "      <td>1970</td>\n",
              "      <td>1</td>\n",
              "      <td>1</td>\n",
              "      <td>13</td>\n",
              "      <td>15</td>\n",
              "      <td>2</td>\n",
              "      <td>0.0</td>\n",
              "      <td>3</td>\n",
              "      <td>4</td>\n",
              "      <td>0</td>\n",
              "      <td>3</td>\n",
              "      <td>1</td>\n",
              "      <td>3</td>\n",
              "      <td>0</td>\n",
              "      <td>216</td>\n",
              "      <td>5</td>\n",
              "      <td>0</td>\n",
              "      <td>540</td>\n",
              "      <td>756</td>\n",
              "      <td>1</td>\n",
              "      <td>2</td>\n",
              "      <td>1</td>\n",
              "      <td>4</td>\n",
              "      <td>961</td>\n",
              "      <td>756</td>\n",
              "      <td>0</td>\n",
              "      <td>1717</td>\n",
              "      <td>1</td>\n",
              "      <td>0</td>\n",
              "      <td>1</td>\n",
              "      <td>0</td>\n",
              "      <td>3</td>\n",
              "      <td>1</td>\n",
              "      <td>2</td>\n",
              "      <td>7</td>\n",
              "      <td>6</td>\n",
              "      <td>1</td>\n",
              "      <td>2</td>\n",
              "      <td>5</td>\n",
              "      <td>1998.0</td>\n",
              "      <td>2</td>\n",
              "      <td>3</td>\n",
              "      <td>642</td>\n",
              "      <td>4</td>\n",
              "      <td>4</td>\n",
              "      <td>2</td>\n",
              "      <td>0</td>\n",
              "      <td>35</td>\n",
              "      <td>272</td>\n",
              "      <td>0</td>\n",
              "      <td>0</td>\n",
              "      <td>0</td>\n",
              "      <td>2</td>\n",
              "      <td>0</td>\n",
              "      <td>2</td>\n",
              "      <td>2006</td>\n",
              "      <td>8</td>\n",
              "      <td>0</td>\n",
              "    </tr>\n",
              "    <tr>\n",
              "      <th>4</th>\n",
              "      <td>60</td>\n",
              "      <td>3</td>\n",
              "      <td>84.0</td>\n",
              "      <td>14260</td>\n",
              "      <td>1</td>\n",
              "      <td>0</td>\n",
              "      <td>3</td>\n",
              "      <td>0</td>\n",
              "      <td>2</td>\n",
              "      <td>0</td>\n",
              "      <td>15</td>\n",
              "      <td>2</td>\n",
              "      <td>2</td>\n",
              "      <td>0</td>\n",
              "      <td>5</td>\n",
              "      <td>8</td>\n",
              "      <td>5</td>\n",
              "      <td>2000</td>\n",
              "      <td>2000</td>\n",
              "      <td>1</td>\n",
              "      <td>1</td>\n",
              "      <td>12</td>\n",
              "      <td>13</td>\n",
              "      <td>1</td>\n",
              "      <td>350.0</td>\n",
              "      <td>2</td>\n",
              "      <td>4</td>\n",
              "      <td>2</td>\n",
              "      <td>2</td>\n",
              "      <td>3</td>\n",
              "      <td>0</td>\n",
              "      <td>2</td>\n",
              "      <td>655</td>\n",
              "      <td>5</td>\n",
              "      <td>0</td>\n",
              "      <td>490</td>\n",
              "      <td>1145</td>\n",
              "      <td>1</td>\n",
              "      <td>0</td>\n",
              "      <td>1</td>\n",
              "      <td>4</td>\n",
              "      <td>1145</td>\n",
              "      <td>1053</td>\n",
              "      <td>0</td>\n",
              "      <td>2198</td>\n",
              "      <td>1</td>\n",
              "      <td>0</td>\n",
              "      <td>2</td>\n",
              "      <td>1</td>\n",
              "      <td>4</td>\n",
              "      <td>1</td>\n",
              "      <td>2</td>\n",
              "      <td>9</td>\n",
              "      <td>6</td>\n",
              "      <td>1</td>\n",
              "      <td>4</td>\n",
              "      <td>1</td>\n",
              "      <td>2000.0</td>\n",
              "      <td>1</td>\n",
              "      <td>3</td>\n",
              "      <td>836</td>\n",
              "      <td>4</td>\n",
              "      <td>4</td>\n",
              "      <td>2</td>\n",
              "      <td>192</td>\n",
              "      <td>84</td>\n",
              "      <td>0</td>\n",
              "      <td>0</td>\n",
              "      <td>0</td>\n",
              "      <td>0</td>\n",
              "      <td>2</td>\n",
              "      <td>0</td>\n",
              "      <td>12</td>\n",
              "      <td>2008</td>\n",
              "      <td>8</td>\n",
              "      <td>4</td>\n",
              "    </tr>\n",
              "  </tbody>\n",
              "</table>\n",
              "</div>"
            ],
            "text/plain": [
              "   MSSubClass  MSZoning  LotFrontage  ...  YrSold  SaleType  SaleCondition\n",
              "0          60         3         65.0  ...    2008         8              4\n",
              "1          20         3         80.0  ...    2007         8              4\n",
              "2          60         3         68.0  ...    2008         8              4\n",
              "3          70         3         60.0  ...    2006         8              0\n",
              "4          60         3         84.0  ...    2008         8              4\n",
              "\n",
              "[5 rows x 76 columns]"
            ]
          },
          "metadata": {
            "tags": []
          },
          "execution_count": 206
        }
      ]
    },
    {
      "cell_type": "code",
      "metadata": {
        "colab": {
          "base_uri": "https://localhost:8080/"
        },
        "id": "Ka07so06J8Io",
        "outputId": "d5b62ada-22f7-44cb-eb6e-595853418c50"
      },
      "source": [
        "#fitting the model:\n",
        "Rnd.fit(x_train,y_train)"
      ],
      "execution_count": null,
      "outputs": [
        {
          "output_type": "execute_result",
          "data": {
            "text/plain": [
              "RandomForestRegressor(bootstrap=True, ccp_alpha=0.0, criterion='mse',\n",
              "                      max_depth=None, max_features='auto', max_leaf_nodes=None,\n",
              "                      max_samples=None, min_impurity_decrease=0.0,\n",
              "                      min_impurity_split=None, min_samples_leaf=1,\n",
              "                      min_samples_split=2, min_weight_fraction_leaf=0.0,\n",
              "                      n_estimators=100, n_jobs=None, oob_score=False,\n",
              "                      random_state=None, verbose=0, warm_start=False)"
            ]
          },
          "metadata": {
            "tags": []
          },
          "execution_count": 207
        }
      ]
    },
    {
      "cell_type": "code",
      "metadata": {
        "colab": {
          "base_uri": "https://localhost:8080/"
        },
        "id": "PL9g1lQlKTG0",
        "outputId": "ece85b4e-ffd4-47ad-bc47-a166af99eef2"
      },
      "source": [
        "y_preds = Rnd.predict(x_test)\n",
        "y_preds[:30]\n"
      ],
      "execution_count": null,
      "outputs": [
        {
          "output_type": "execute_result",
          "data": {
            "text/plain": [
              "array([128779.33, 154398.  , 181596.96, 181978.4 , 194535.  , 183773.45,\n",
              "       170660.02, 176706.3 , 183231.06, 120026.6 , 197841.72,  93961.  ,\n",
              "        97275.  , 152217.  , 141869.3 , 374529.06, 249388.  , 307809.95,\n",
              "       257006.51, 459152.6 , 303380.19, 206010.57, 174771.61, 178329.05,\n",
              "       173085.77, 203571.75, 321000.29, 238088.39, 210621.65, 201855.41])"
            ]
          },
          "metadata": {
            "tags": []
          },
          "execution_count": 208
        }
      ]
    },
    {
      "cell_type": "code",
      "metadata": {
        "colab": {
          "base_uri": "https://localhost:8080/"
        },
        "id": "7ZJQUxJhKm2N",
        "outputId": "1ad7a784-e981-4398-9b09-772a6f44941d"
      },
      "source": [
        "y_preds_train = Rnd.predict(x_train)\n",
        "y_preds_train"
      ],
      "execution_count": null,
      "outputs": [
        {
          "output_type": "execute_result",
          "data": {
            "text/plain": [
              "array([205846.51, 177252.5 , 220261.75, ..., 259441.79, 142204.3 ,\n",
              "       149226.5 ])"
            ]
          },
          "metadata": {
            "tags": []
          },
          "execution_count": 209
        }
      ]
    },
    {
      "cell_type": "code",
      "metadata": {
        "id": "RwmFTNQBLEfZ"
      },
      "source": [
        "y_preds_train = pd.Series(y_preds_train)"
      ],
      "execution_count": null,
      "outputs": []
    },
    {
      "cell_type": "code",
      "metadata": {
        "colab": {
          "base_uri": "https://localhost:8080/"
        },
        "id": "KvYBiprSLQrr",
        "outputId": "067cf0a5-f2c4-4880-98f8-4f5297ebed40"
      },
      "source": [
        "y_preds_train"
      ],
      "execution_count": null,
      "outputs": [
        {
          "output_type": "execute_result",
          "data": {
            "text/plain": [
              "0       205846.51\n",
              "1       177252.50\n",
              "2       220261.75\n",
              "3       159567.78\n",
              "4       268028.93\n",
              "          ...    \n",
              "1455    176514.00\n",
              "1456    206993.00\n",
              "1457    259441.79\n",
              "1458    142204.30\n",
              "1459    149226.50\n",
              "Length: 1460, dtype: float64"
            ]
          },
          "metadata": {
            "tags": []
          },
          "execution_count": 211
        }
      ]
    },
    {
      "cell_type": "code",
      "metadata": {
        "colab": {
          "base_uri": "https://localhost:8080/"
        },
        "id": "pE3u7bDRMlNx",
        "outputId": "d5cddb7d-bc9d-467b-e150-5439743ee548"
      },
      "source": [
        "from sklearn.metrics import mean_squared_error\n",
        "mean_squared_error(y_train, y_preds_train)"
      ],
      "execution_count": null,
      "outputs": [
        {
          "output_type": "execute_result",
          "data": {
            "text/plain": [
              "120953954.62549187"
            ]
          },
          "metadata": {
            "tags": []
          },
          "execution_count": 212
        }
      ]
    },
    {
      "cell_type": "code",
      "metadata": {
        "colab": {
          "base_uri": "https://localhost:8080/"
        },
        "id": "mTdktsgNN6GN",
        "outputId": "9ddb0884-7a67-4ae1-f1c7-3ef85a7e681f"
      },
      "source": [
        "y_train"
      ],
      "execution_count": null,
      "outputs": [
        {
          "output_type": "execute_result",
          "data": {
            "text/plain": [
              "0       208500\n",
              "1       181500\n",
              "2       223500\n",
              "3       140000\n",
              "4       250000\n",
              "         ...  \n",
              "1455    175000\n",
              "1456    210000\n",
              "1457    266500\n",
              "1458    142125\n",
              "1459    147500\n",
              "Name: SalePrice, Length: 1460, dtype: int64"
            ]
          },
          "metadata": {
            "tags": []
          },
          "execution_count": 213
        }
      ]
    },
    {
      "cell_type": "code",
      "metadata": {
        "colab": {
          "base_uri": "https://localhost:8080/"
        },
        "id": "RmxZmnDUOaNw",
        "outputId": "d05e3d9a-0bd8-46cf-a734-099739a587e2"
      },
      "source": [
        "Rnd.score(x_train,y_preds_train)"
      ],
      "execution_count": null,
      "outputs": [
        {
          "output_type": "execute_result",
          "data": {
            "text/plain": [
              "1.0"
            ]
          },
          "metadata": {
            "tags": []
          },
          "execution_count": 217
        }
      ]
    },
    {
      "cell_type": "code",
      "metadata": {
        "colab": {
          "base_uri": "https://localhost:8080/"
        },
        "id": "tQ-XsNN1PXRI",
        "outputId": "41048dac-c619-4462-e7a8-c226099bc625"
      },
      "source": [
        "y_preds = pd.Series(y_preds)\n",
        "len(y_preds)"
      ],
      "execution_count": null,
      "outputs": [
        {
          "output_type": "execute_result",
          "data": {
            "text/plain": [
              "1459"
            ]
          },
          "metadata": {
            "tags": []
          },
          "execution_count": 223
        }
      ]
    },
    {
      "cell_type": "code",
      "metadata": {
        "colab": {
          "base_uri": "https://localhost:8080/"
        },
        "id": "_kAQNoP5Q9RK",
        "outputId": "b9eaa12c-070c-4553-e78b-79ecee933305"
      },
      "source": [
        "df_test[\"Id\"]"
      ],
      "execution_count": null,
      "outputs": [
        {
          "output_type": "execute_result",
          "data": {
            "text/plain": [
              "0       1461\n",
              "1       1462\n",
              "2       1463\n",
              "3       1464\n",
              "4       1465\n",
              "        ... \n",
              "1454    2915\n",
              "1455    2916\n",
              "1456    2917\n",
              "1457    2918\n",
              "1458    2919\n",
              "Name: Id, Length: 1459, dtype: int64"
            ]
          },
          "metadata": {
            "tags": []
          },
          "execution_count": 222
        }
      ]
    },
    {
      "cell_type": "code",
      "metadata": {
        "id": "h2GtGPzMRUUd"
      },
      "source": [
        "submission = df_test\n",
        "for labels in submission.columns:\n",
        "  if not (labels==\"Id\"):\n",
        "    submission = submission.drop(labels,axis=1)"
      ],
      "execution_count": null,
      "outputs": []
    },
    {
      "cell_type": "code",
      "metadata": {
        "id": "ocl1QGdnR2Wh"
      },
      "source": [
        "submission[\"SalePrice\"] = y_preds"
      ],
      "execution_count": null,
      "outputs": []
    },
    {
      "cell_type": "code",
      "metadata": {
        "colab": {
          "base_uri": "https://localhost:8080/",
          "height": 195
        },
        "id": "X6lZTGo-SpjI",
        "outputId": "97b30265-41b8-47e0-e567-4852a67d0450"
      },
      "source": [
        "submission.head()"
      ],
      "execution_count": null,
      "outputs": [
        {
          "output_type": "execute_result",
          "data": {
            "text/html": [
              "<div>\n",
              "<style scoped>\n",
              "    .dataframe tbody tr th:only-of-type {\n",
              "        vertical-align: middle;\n",
              "    }\n",
              "\n",
              "    .dataframe tbody tr th {\n",
              "        vertical-align: top;\n",
              "    }\n",
              "\n",
              "    .dataframe thead th {\n",
              "        text-align: right;\n",
              "    }\n",
              "</style>\n",
              "<table border=\"1\" class=\"dataframe\">\n",
              "  <thead>\n",
              "    <tr style=\"text-align: right;\">\n",
              "      <th></th>\n",
              "      <th>Id</th>\n",
              "      <th>SalePrice</th>\n",
              "    </tr>\n",
              "  </thead>\n",
              "  <tbody>\n",
              "    <tr>\n",
              "      <th>0</th>\n",
              "      <td>1461</td>\n",
              "      <td>128779.33</td>\n",
              "    </tr>\n",
              "    <tr>\n",
              "      <th>1</th>\n",
              "      <td>1462</td>\n",
              "      <td>154398.00</td>\n",
              "    </tr>\n",
              "    <tr>\n",
              "      <th>2</th>\n",
              "      <td>1463</td>\n",
              "      <td>181596.96</td>\n",
              "    </tr>\n",
              "    <tr>\n",
              "      <th>3</th>\n",
              "      <td>1464</td>\n",
              "      <td>181978.40</td>\n",
              "    </tr>\n",
              "    <tr>\n",
              "      <th>4</th>\n",
              "      <td>1465</td>\n",
              "      <td>194535.00</td>\n",
              "    </tr>\n",
              "  </tbody>\n",
              "</table>\n",
              "</div>"
            ],
            "text/plain": [
              "     Id  SalePrice\n",
              "0  1461  128779.33\n",
              "1  1462  154398.00\n",
              "2  1463  181596.96\n",
              "3  1464  181978.40\n",
              "4  1465  194535.00"
            ]
          },
          "metadata": {
            "tags": []
          },
          "execution_count": 240
        }
      ]
    },
    {
      "cell_type": "code",
      "metadata": {
        "id": "Qu_cmcGcTKZm"
      },
      "source": [
        "submission.to_excel(\"output.xlsx\",index=False)"
      ],
      "execution_count": null,
      "outputs": []
    },
    {
      "cell_type": "markdown",
      "metadata": {
        "id": "GqU7WFx0TUxL"
      },
      "source": [
        "Hyperparameter tuning \n"
      ]
    },
    {
      "cell_type": "markdown",
      "metadata": {
        "id": "czGpcF-NWYrN"
      },
      "source": [
        "* max_depth\n",
        "* min_sample_split\n",
        "* max_leaf_nodes\n",
        "* min_samples_leaf\n",
        "* n_estimators\n",
        "* max_sample (bootstrap sample)\n",
        "* max_features"
      ]
    },
    {
      "cell_type": "code",
      "metadata": {
        "id": "iibYUKZDWpLn"
      },
      "source": [
        ""
      ],
      "execution_count": null,
      "outputs": []
    }
  ]
}