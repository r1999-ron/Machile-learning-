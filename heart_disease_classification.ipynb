{
  "nbformat": 4,
  "nbformat_minor": 0,
  "metadata": {
    "colab": {
      "name": "heart disease_classification",
      "provenance": [],
      "mount_file_id": "12IVn6QSSXOpWWOQzoVeoRRftK6urX4rh",
      "authorship_tag": "ABX9TyON19xSrGk0pAglBM+EVZwp",
      "include_colab_link": true
    },
    "kernelspec": {
      "name": "python3",
      "display_name": "Python 3"
    }
  },
  "cells": [
    {
      "cell_type": "markdown",
      "metadata": {
        "id": "view-in-github",
        "colab_type": "text"
      },
      "source": [
        "<a href=\"https://colab.research.google.com/github/ritaprova/Machile-learning-/blob/main/heart_disease_classification.ipynb\" target=\"_parent\"><img src=\"https://colab.research.google.com/assets/colab-badge.svg\" alt=\"Open In Colab\"/></a>"
      ]
    },
    {
      "cell_type": "markdown",
      "metadata": {
        "id": "LpZdq5wbDoME"
      },
      "source": [
        "#Predicting Heart Diease using machine Learning\n",
        "Designing a model capable of predicting whether a person has or does not have heart disease based on their medical data.\n"
      ]
    },
    {
      "cell_type": "markdown",
      "metadata": {
        "id": "Sss9kxGEETwv"
      },
      "source": [
        "##1.Problem Definition\n",
        ">Given clinical parameters of the patient, predicting whether he or she does not have a heat disease?\n",
        "##2. Data\n",
        ">The data is available from Kaggle.com\n",
        "##3. Evaluation\n",
        ">If we can reach 95% accuracy at predicting whether not the patient has heart disease during the proof of concept, we'll pursue the project.\n",
        "## 4. Features\n",
        ">**Create data dictionary**\n",
        "\n",
        "    1. age - age in years\n",
        "    2. sex - (1 = male; 0 = female)\n",
        "    3. cp - chest pain type\n",
        "        * 0: Typical angina: chest pain related decrease blood supply to the heart\n",
        "        * 1: Atypical angina: chest pain not related to heart\n",
        "        * 2: Non-anginal pain: typically esophageal spasms (non heart related)\n",
        "        * 3: Asymptomatic: chest pain not showing signs of disease\n",
        "    4. trestbps - resting blood pressure (in mm Hg on admission to the hospital) anything above 130-140 is typically cause for concern\n",
        "    5. chol - serum cholestoral in mg/dl\n",
        "        * serum = LDL + HDL + .2 * triglycerides\n",
        "        * above 200 is cause for concern\n",
        "    6. fbs - (fasting blood sugar > 120 mg/dl) (1 = true; 0 = false)\n",
        "        * '>126' mg/dL signals diabetes\n",
        "    7. restecg - resting electrocardiographic results\n",
        "        * 0: Nothing to note\n",
        "        * 1: ST-T Wave abnormality\n",
        "            * can range from mild symptoms to severe problems\n",
        "            * signals non-normal heart beat\n",
        "        * 2: Possible or definite left ventricular hypertrophy\n",
        "            * Enlarged heart's main pumping chamber\n",
        "    8. thalach - maximum heart rate achieved\n",
        "    9. exang - exercise induced angina (1 = yes; 0 = no)\n",
        "    10. oldpeak - ST depression induced by exercise relative to rest looks at stress of heart during excercise unhealthy heart will stress more\n",
        "    11. slope - the slope of the peak exercise ST segment\n",
        "        * 0: Upsloping: better heart rate with excercise (uncommon)\n",
        "        * 1: Flatsloping: minimal change (typical healthy heart)\n",
        "        * 2: Downslopins: signs of unhealthy heart\n",
        "    12. ca - number of major vessels (0-3) colored by flourosopy\n",
        "        * colored vessel means the doctor can see the blood passing through\n",
        "        * the more blood movement the better (no clots)\n",
        "    13. thal - thalium stress result\n",
        "        * 1,3: normal\n",
        "        * 6: fixed defect: used to be defect but ok now\n",
        "        * 7: reversable defect: no proper blood movement when excercising\n",
        "    14. target - have disease or not (1=yes, 0=no) (= the predicted attribute)\n"
      ]
    },
    {
      "cell_type": "code",
      "metadata": {
        "id": "1CdHRcZsFlHS"
      },
      "source": [
        "#importing the tools(regular EDA and potting libraries)\n",
        "import numpy as np\n",
        "import pandas as pd\n",
        "import matplotlib.pyplot as plt\n",
        "import seaborn as sns"
      ],
      "execution_count": null,
      "outputs": []
    },
    {
      "cell_type": "code",
      "metadata": {
        "colab": {
          "base_uri": "https://localhost:8080/",
          "height": 195
        },
        "id": "oDnfmvUqJqO_",
        "outputId": "a0fc139d-0329-4f03-a11f-d94d83f6698c"
      },
      "source": [
        "##load data \n",
        "df = pd.read_csv(\"/content/drive/MyDrive/heart-disease.csv\")\n",
        "df.head()"
      ],
      "execution_count": null,
      "outputs": [
        {
          "output_type": "execute_result",
          "data": {
            "text/html": [
              "<div>\n",
              "<style scoped>\n",
              "    .dataframe tbody tr th:only-of-type {\n",
              "        vertical-align: middle;\n",
              "    }\n",
              "\n",
              "    .dataframe tbody tr th {\n",
              "        vertical-align: top;\n",
              "    }\n",
              "\n",
              "    .dataframe thead th {\n",
              "        text-align: right;\n",
              "    }\n",
              "</style>\n",
              "<table border=\"1\" class=\"dataframe\">\n",
              "  <thead>\n",
              "    <tr style=\"text-align: right;\">\n",
              "      <th></th>\n",
              "      <th>age</th>\n",
              "      <th>sex</th>\n",
              "      <th>cp</th>\n",
              "      <th>trestbps</th>\n",
              "      <th>chol</th>\n",
              "      <th>fbs</th>\n",
              "      <th>restecg</th>\n",
              "      <th>thalach</th>\n",
              "      <th>exang</th>\n",
              "      <th>oldpeak</th>\n",
              "      <th>slope</th>\n",
              "      <th>ca</th>\n",
              "      <th>thal</th>\n",
              "      <th>target</th>\n",
              "    </tr>\n",
              "  </thead>\n",
              "  <tbody>\n",
              "    <tr>\n",
              "      <th>0</th>\n",
              "      <td>63</td>\n",
              "      <td>1</td>\n",
              "      <td>3</td>\n",
              "      <td>145</td>\n",
              "      <td>233</td>\n",
              "      <td>1</td>\n",
              "      <td>0</td>\n",
              "      <td>150</td>\n",
              "      <td>0</td>\n",
              "      <td>2.3</td>\n",
              "      <td>0</td>\n",
              "      <td>0</td>\n",
              "      <td>1</td>\n",
              "      <td>1</td>\n",
              "    </tr>\n",
              "    <tr>\n",
              "      <th>1</th>\n",
              "      <td>37</td>\n",
              "      <td>1</td>\n",
              "      <td>2</td>\n",
              "      <td>130</td>\n",
              "      <td>250</td>\n",
              "      <td>0</td>\n",
              "      <td>1</td>\n",
              "      <td>187</td>\n",
              "      <td>0</td>\n",
              "      <td>3.5</td>\n",
              "      <td>0</td>\n",
              "      <td>0</td>\n",
              "      <td>2</td>\n",
              "      <td>1</td>\n",
              "    </tr>\n",
              "    <tr>\n",
              "      <th>2</th>\n",
              "      <td>41</td>\n",
              "      <td>0</td>\n",
              "      <td>1</td>\n",
              "      <td>130</td>\n",
              "      <td>204</td>\n",
              "      <td>0</td>\n",
              "      <td>0</td>\n",
              "      <td>172</td>\n",
              "      <td>0</td>\n",
              "      <td>1.4</td>\n",
              "      <td>2</td>\n",
              "      <td>0</td>\n",
              "      <td>2</td>\n",
              "      <td>1</td>\n",
              "    </tr>\n",
              "    <tr>\n",
              "      <th>3</th>\n",
              "      <td>56</td>\n",
              "      <td>1</td>\n",
              "      <td>1</td>\n",
              "      <td>120</td>\n",
              "      <td>236</td>\n",
              "      <td>0</td>\n",
              "      <td>1</td>\n",
              "      <td>178</td>\n",
              "      <td>0</td>\n",
              "      <td>0.8</td>\n",
              "      <td>2</td>\n",
              "      <td>0</td>\n",
              "      <td>2</td>\n",
              "      <td>1</td>\n",
              "    </tr>\n",
              "    <tr>\n",
              "      <th>4</th>\n",
              "      <td>57</td>\n",
              "      <td>0</td>\n",
              "      <td>0</td>\n",
              "      <td>120</td>\n",
              "      <td>354</td>\n",
              "      <td>0</td>\n",
              "      <td>1</td>\n",
              "      <td>163</td>\n",
              "      <td>1</td>\n",
              "      <td>0.6</td>\n",
              "      <td>2</td>\n",
              "      <td>0</td>\n",
              "      <td>2</td>\n",
              "      <td>1</td>\n",
              "    </tr>\n",
              "  </tbody>\n",
              "</table>\n",
              "</div>"
            ],
            "text/plain": [
              "   age  sex  cp  trestbps  chol  fbs  ...  exang  oldpeak  slope  ca  thal  target\n",
              "0   63    1   3       145   233    1  ...      0      2.3      0   0     1       1\n",
              "1   37    1   2       130   250    0  ...      0      3.5      0   0     2       1\n",
              "2   41    0   1       130   204    0  ...      0      1.4      2   0     2       1\n",
              "3   56    1   1       120   236    0  ...      0      0.8      2   0     2       1\n",
              "4   57    0   0       120   354    0  ...      1      0.6      2   0     2       1\n",
              "\n",
              "[5 rows x 14 columns]"
            ]
          },
          "metadata": {
            "tags": []
          },
          "execution_count": 2
        }
      ]
    },
    {
      "cell_type": "code",
      "metadata": {
        "colab": {
          "base_uri": "https://localhost:8080/"
        },
        "id": "pdFI_klnK4iA",
        "outputId": "05032923-8e2d-4480-93b7-ce2e504f7b0a"
      },
      "source": [
        "df.shape"
      ],
      "execution_count": null,
      "outputs": [
        {
          "output_type": "execute_result",
          "data": {
            "text/plain": [
              "(303, 14)"
            ]
          },
          "metadata": {
            "tags": []
          },
          "execution_count": 3
        }
      ]
    },
    {
      "cell_type": "markdown",
      "metadata": {
        "id": "aS9L5KClK-OG"
      },
      "source": [
        "##Exploratory Data Analysis"
      ]
    },
    {
      "cell_type": "code",
      "metadata": {
        "colab": {
          "base_uri": "https://localhost:8080/",
          "height": 195
        },
        "id": "1xyOrsRSLDCa",
        "outputId": "f83a55dd-2c54-4db3-81de-c3ef80f03ae8"
      },
      "source": [
        "df.tail()"
      ],
      "execution_count": null,
      "outputs": [
        {
          "output_type": "execute_result",
          "data": {
            "text/html": [
              "<div>\n",
              "<style scoped>\n",
              "    .dataframe tbody tr th:only-of-type {\n",
              "        vertical-align: middle;\n",
              "    }\n",
              "\n",
              "    .dataframe tbody tr th {\n",
              "        vertical-align: top;\n",
              "    }\n",
              "\n",
              "    .dataframe thead th {\n",
              "        text-align: right;\n",
              "    }\n",
              "</style>\n",
              "<table border=\"1\" class=\"dataframe\">\n",
              "  <thead>\n",
              "    <tr style=\"text-align: right;\">\n",
              "      <th></th>\n",
              "      <th>age</th>\n",
              "      <th>sex</th>\n",
              "      <th>cp</th>\n",
              "      <th>trestbps</th>\n",
              "      <th>chol</th>\n",
              "      <th>fbs</th>\n",
              "      <th>restecg</th>\n",
              "      <th>thalach</th>\n",
              "      <th>exang</th>\n",
              "      <th>oldpeak</th>\n",
              "      <th>slope</th>\n",
              "      <th>ca</th>\n",
              "      <th>thal</th>\n",
              "      <th>target</th>\n",
              "    </tr>\n",
              "  </thead>\n",
              "  <tbody>\n",
              "    <tr>\n",
              "      <th>298</th>\n",
              "      <td>57</td>\n",
              "      <td>0</td>\n",
              "      <td>0</td>\n",
              "      <td>140</td>\n",
              "      <td>241</td>\n",
              "      <td>0</td>\n",
              "      <td>1</td>\n",
              "      <td>123</td>\n",
              "      <td>1</td>\n",
              "      <td>0.2</td>\n",
              "      <td>1</td>\n",
              "      <td>0</td>\n",
              "      <td>3</td>\n",
              "      <td>0</td>\n",
              "    </tr>\n",
              "    <tr>\n",
              "      <th>299</th>\n",
              "      <td>45</td>\n",
              "      <td>1</td>\n",
              "      <td>3</td>\n",
              "      <td>110</td>\n",
              "      <td>264</td>\n",
              "      <td>0</td>\n",
              "      <td>1</td>\n",
              "      <td>132</td>\n",
              "      <td>0</td>\n",
              "      <td>1.2</td>\n",
              "      <td>1</td>\n",
              "      <td>0</td>\n",
              "      <td>3</td>\n",
              "      <td>0</td>\n",
              "    </tr>\n",
              "    <tr>\n",
              "      <th>300</th>\n",
              "      <td>68</td>\n",
              "      <td>1</td>\n",
              "      <td>0</td>\n",
              "      <td>144</td>\n",
              "      <td>193</td>\n",
              "      <td>1</td>\n",
              "      <td>1</td>\n",
              "      <td>141</td>\n",
              "      <td>0</td>\n",
              "      <td>3.4</td>\n",
              "      <td>1</td>\n",
              "      <td>2</td>\n",
              "      <td>3</td>\n",
              "      <td>0</td>\n",
              "    </tr>\n",
              "    <tr>\n",
              "      <th>301</th>\n",
              "      <td>57</td>\n",
              "      <td>1</td>\n",
              "      <td>0</td>\n",
              "      <td>130</td>\n",
              "      <td>131</td>\n",
              "      <td>0</td>\n",
              "      <td>1</td>\n",
              "      <td>115</td>\n",
              "      <td>1</td>\n",
              "      <td>1.2</td>\n",
              "      <td>1</td>\n",
              "      <td>1</td>\n",
              "      <td>3</td>\n",
              "      <td>0</td>\n",
              "    </tr>\n",
              "    <tr>\n",
              "      <th>302</th>\n",
              "      <td>57</td>\n",
              "      <td>0</td>\n",
              "      <td>1</td>\n",
              "      <td>130</td>\n",
              "      <td>236</td>\n",
              "      <td>0</td>\n",
              "      <td>0</td>\n",
              "      <td>174</td>\n",
              "      <td>0</td>\n",
              "      <td>0.0</td>\n",
              "      <td>1</td>\n",
              "      <td>1</td>\n",
              "      <td>2</td>\n",
              "      <td>0</td>\n",
              "    </tr>\n",
              "  </tbody>\n",
              "</table>\n",
              "</div>"
            ],
            "text/plain": [
              "     age  sex  cp  trestbps  chol  fbs  ...  exang  oldpeak  slope  ca  thal  target\n",
              "298   57    0   0       140   241    0  ...      1      0.2      1   0     3       0\n",
              "299   45    1   3       110   264    0  ...      0      1.2      1   0     3       0\n",
              "300   68    1   0       144   193    1  ...      0      3.4      1   2     3       0\n",
              "301   57    1   0       130   131    0  ...      1      1.2      1   1     3       0\n",
              "302   57    0   1       130   236    0  ...      0      0.0      1   1     2       0\n",
              "\n",
              "[5 rows x 14 columns]"
            ]
          },
          "metadata": {
            "tags": []
          },
          "execution_count": 4
        }
      ]
    },
    {
      "cell_type": "code",
      "metadata": {
        "colab": {
          "base_uri": "https://localhost:8080/"
        },
        "id": "AVAr0xmSLhRH",
        "outputId": "e2829270-0b2e-47c6-beb6-37a442380534"
      },
      "source": [
        "df[\"slope\"].value_counts()"
      ],
      "execution_count": null,
      "outputs": [
        {
          "output_type": "execute_result",
          "data": {
            "text/plain": [
              "2    142\n",
              "1    140\n",
              "0     21\n",
              "Name: slope, dtype: int64"
            ]
          },
          "metadata": {
            "tags": []
          },
          "execution_count": 5
        }
      ]
    },
    {
      "cell_type": "code",
      "metadata": {
        "colab": {
          "base_uri": "https://localhost:8080/"
        },
        "id": "8mL0-eT3LpfI",
        "outputId": "321fec05-0010-4bb7-af83-a37d60eaa5c6"
      },
      "source": [
        "df[\"target\"].value_counts()"
      ],
      "execution_count": null,
      "outputs": [
        {
          "output_type": "execute_result",
          "data": {
            "text/plain": [
              "1    165\n",
              "0    138\n",
              "Name: target, dtype: int64"
            ]
          },
          "metadata": {
            "tags": []
          },
          "execution_count": 6
        }
      ]
    },
    {
      "cell_type": "code",
      "metadata": {
        "colab": {
          "base_uri": "https://localhost:8080/",
          "height": 279
        },
        "id": "fhOFVcCML5cy",
        "outputId": "0eb8ab45-0b62-4a5f-ed21-758ef9cb54de"
      },
      "source": [
        "df[\"target\"].value_counts().plot(kind=\"bar\", color=[\"orange\",\"blue\"],grid=True)"
      ],
      "execution_count": null,
      "outputs": [
        {
          "output_type": "execute_result",
          "data": {
            "text/plain": [
              "<matplotlib.axes._subplots.AxesSubplot at 0x7f5715548f60>"
            ]
          },
          "metadata": {
            "tags": []
          },
          "execution_count": 7
        },
        {
          "output_type": "display_data",
          "data": {
            "image/png": "[encoded data removed]",
            "text/plain": [
              "<Figure size 432x288 with 1 Axes>"
            ]
          },
          "metadata": {
            "tags": [],
            "needs_background": "light"
          }
        }
      ]
    },
    {
      "cell_type": "code",
      "metadata": {
        "colab": {
          "base_uri": "https://localhost:8080/"
        },
        "id": "v34Uy0MsMEo8",
        "outputId": "183ad1aa-9ef1-4285-c031-b0e4e6b53423"
      },
      "source": [
        "df.info()"
      ],
      "execution_count": null,
      "outputs": [
        {
          "output_type": "stream",
          "text": [
            "<class 'pandas.core.frame.DataFrame'>\n",
            "RangeIndex: 303 entries, 0 to 302\n",
            "Data columns (total 14 columns):\n",
            " #   Column    Non-Null Count  Dtype  \n",
            "---  ------    --------------  -----  \n",
            " 0   age       303 non-null    int64  \n",
            " 1   sex       303 non-null    int64  \n",
            " 2   cp        303 non-null    int64  \n",
            " 3   trestbps  303 non-null    int64  \n",
            " 4   chol      303 non-null    int64  \n",
            " 5   fbs       303 non-null    int64  \n",
            " 6   restecg   303 non-null    int64  \n",
            " 7   thalach   303 non-null    int64  \n",
            " 8   exang     303 non-null    int64  \n",
            " 9   oldpeak   303 non-null    float64\n",
            " 10  slope     303 non-null    int64  \n",
            " 11  ca        303 non-null    int64  \n",
            " 12  thal      303 non-null    int64  \n",
            " 13  target    303 non-null    int64  \n",
            "dtypes: float64(1), int64(13)\n",
            "memory usage: 33.3 KB\n"
          ],
          "name": "stdout"
        }
      ]
    },
    {
      "cell_type": "code",
      "metadata": {
        "colab": {
          "base_uri": "https://localhost:8080/"
        },
        "id": "r_0KmFtRMsWc",
        "outputId": "f0bfeaa6-d55a-4c16-a9a9-68bfce246b79"
      },
      "source": [
        "#finding out the null values\n",
        "df.isna().sum()"
      ],
      "execution_count": null,
      "outputs": [
        {
          "output_type": "execute_result",
          "data": {
            "text/plain": [
              "age         0\n",
              "sex         0\n",
              "cp          0\n",
              "trestbps    0\n",
              "chol        0\n",
              "fbs         0\n",
              "restecg     0\n",
              "thalach     0\n",
              "exang       0\n",
              "oldpeak     0\n",
              "slope       0\n",
              "ca          0\n",
              "thal        0\n",
              "target      0\n",
              "dtype: int64"
            ]
          },
          "metadata": {
            "tags": []
          },
          "execution_count": 9
        }
      ]
    },
    {
      "cell_type": "code",
      "metadata": {
        "colab": {
          "base_uri": "https://localhost:8080/",
          "height": 284
        },
        "id": "8LUn33fOM8-t",
        "outputId": "bd27eef0-177c-40da-fe8b-3f0d2e038d7d"
      },
      "source": [
        "df.describe()"
      ],
      "execution_count": null,
      "outputs": [
        {
          "output_type": "execute_result",
          "data": {
            "text/html": [
              "<div>\n",
              "<style scoped>\n",
              "    .dataframe tbody tr th:only-of-type {\n",
              "        vertical-align: middle;\n",
              "    }\n",
              "\n",
              "    .dataframe tbody tr th {\n",
              "        vertical-align: top;\n",
              "    }\n",
              "\n",
              "    .dataframe thead th {\n",
              "        text-align: right;\n",
              "    }\n",
              "</style>\n",
              "<table border=\"1\" class=\"dataframe\">\n",
              "  <thead>\n",
              "    <tr style=\"text-align: right;\">\n",
              "      <th></th>\n",
              "      <th>age</th>\n",
              "      <th>sex</th>\n",
              "      <th>cp</th>\n",
              "      <th>trestbps</th>\n",
              "      <th>chol</th>\n",
              "      <th>fbs</th>\n",
              "      <th>restecg</th>\n",
              "      <th>thalach</th>\n",
              "      <th>exang</th>\n",
              "      <th>oldpeak</th>\n",
              "      <th>slope</th>\n",
              "      <th>ca</th>\n",
              "      <th>thal</th>\n",
              "      <th>target</th>\n",
              "    </tr>\n",
              "  </thead>\n",
              "  <tbody>\n",
              "    <tr>\n",
              "      <th>count</th>\n",
              "      <td>303.000000</td>\n",
              "      <td>303.000000</td>\n",
              "      <td>303.000000</td>\n",
              "      <td>303.000000</td>\n",
              "      <td>303.000000</td>\n",
              "      <td>303.000000</td>\n",
              "      <td>303.000000</td>\n",
              "      <td>303.000000</td>\n",
              "      <td>303.000000</td>\n",
              "      <td>303.000000</td>\n",
              "      <td>303.000000</td>\n",
              "      <td>303.000000</td>\n",
              "      <td>303.000000</td>\n",
              "      <td>303.000000</td>\n",
              "    </tr>\n",
              "    <tr>\n",
              "      <th>mean</th>\n",
              "      <td>54.366337</td>\n",
              "      <td>0.683168</td>\n",
              "      <td>0.966997</td>\n",
              "      <td>131.623762</td>\n",
              "      <td>246.264026</td>\n",
              "      <td>0.148515</td>\n",
              "      <td>0.528053</td>\n",
              "      <td>149.646865</td>\n",
              "      <td>0.326733</td>\n",
              "      <td>1.039604</td>\n",
              "      <td>1.399340</td>\n",
              "      <td>0.729373</td>\n",
              "      <td>2.313531</td>\n",
              "      <td>0.544554</td>\n",
              "    </tr>\n",
              "    <tr>\n",
              "      <th>std</th>\n",
              "      <td>9.082101</td>\n",
              "      <td>0.466011</td>\n",
              "      <td>1.032052</td>\n",
              "      <td>17.538143</td>\n",
              "      <td>51.830751</td>\n",
              "      <td>0.356198</td>\n",
              "      <td>0.525860</td>\n",
              "      <td>22.905161</td>\n",
              "      <td>0.469794</td>\n",
              "      <td>1.161075</td>\n",
              "      <td>0.616226</td>\n",
              "      <td>1.022606</td>\n",
              "      <td>0.612277</td>\n",
              "      <td>0.498835</td>\n",
              "    </tr>\n",
              "    <tr>\n",
              "      <th>min</th>\n",
              "      <td>29.000000</td>\n",
              "      <td>0.000000</td>\n",
              "      <td>0.000000</td>\n",
              "      <td>94.000000</td>\n",
              "      <td>126.000000</td>\n",
              "      <td>0.000000</td>\n",
              "      <td>0.000000</td>\n",
              "      <td>71.000000</td>\n",
              "      <td>0.000000</td>\n",
              "      <td>0.000000</td>\n",
              "      <td>0.000000</td>\n",
              "      <td>0.000000</td>\n",
              "      <td>0.000000</td>\n",
              "      <td>0.000000</td>\n",
              "    </tr>\n",
              "    <tr>\n",
              "      <th>25%</th>\n",
              "      <td>47.500000</td>\n",
              "      <td>0.000000</td>\n",
              "      <td>0.000000</td>\n",
              "      <td>120.000000</td>\n",
              "      <td>211.000000</td>\n",
              "      <td>0.000000</td>\n",
              "      <td>0.000000</td>\n",
              "      <td>133.500000</td>\n",
              "      <td>0.000000</td>\n",
              "      <td>0.000000</td>\n",
              "      <td>1.000000</td>\n",
              "      <td>0.000000</td>\n",
              "      <td>2.000000</td>\n",
              "      <td>0.000000</td>\n",
              "    </tr>\n",
              "    <tr>\n",
              "      <th>50%</th>\n",
              "      <td>55.000000</td>\n",
              "      <td>1.000000</td>\n",
              "      <td>1.000000</td>\n",
              "      <td>130.000000</td>\n",
              "      <td>240.000000</td>\n",
              "      <td>0.000000</td>\n",
              "      <td>1.000000</td>\n",
              "      <td>153.000000</td>\n",
              "      <td>0.000000</td>\n",
              "      <td>0.800000</td>\n",
              "      <td>1.000000</td>\n",
              "      <td>0.000000</td>\n",
              "      <td>2.000000</td>\n",
              "      <td>1.000000</td>\n",
              "    </tr>\n",
              "    <tr>\n",
              "      <th>75%</th>\n",
              "      <td>61.000000</td>\n",
              "      <td>1.000000</td>\n",
              "      <td>2.000000</td>\n",
              "      <td>140.000000</td>\n",
              "      <td>274.500000</td>\n",
              "      <td>0.000000</td>\n",
              "      <td>1.000000</td>\n",
              "      <td>166.000000</td>\n",
              "      <td>1.000000</td>\n",
              "      <td>1.600000</td>\n",
              "      <td>2.000000</td>\n",
              "      <td>1.000000</td>\n",
              "      <td>3.000000</td>\n",
              "      <td>1.000000</td>\n",
              "    </tr>\n",
              "    <tr>\n",
              "      <th>max</th>\n",
              "      <td>77.000000</td>\n",
              "      <td>1.000000</td>\n",
              "      <td>3.000000</td>\n",
              "      <td>200.000000</td>\n",
              "      <td>564.000000</td>\n",
              "      <td>1.000000</td>\n",
              "      <td>2.000000</td>\n",
              "      <td>202.000000</td>\n",
              "      <td>1.000000</td>\n",
              "      <td>6.200000</td>\n",
              "      <td>2.000000</td>\n",
              "      <td>4.000000</td>\n",
              "      <td>3.000000</td>\n",
              "      <td>1.000000</td>\n",
              "    </tr>\n",
              "  </tbody>\n",
              "</table>\n",
              "</div>"
            ],
            "text/plain": [
              "              age         sex          cp  ...          ca        thal      target\n",
              "count  303.000000  303.000000  303.000000  ...  303.000000  303.000000  303.000000\n",
              "mean    54.366337    0.683168    0.966997  ...    0.729373    2.313531    0.544554\n",
              "std      9.082101    0.466011    1.032052  ...    1.022606    0.612277    0.498835\n",
              "min     29.000000    0.000000    0.000000  ...    0.000000    0.000000    0.000000\n",
              "25%     47.500000    0.000000    0.000000  ...    0.000000    2.000000    0.000000\n",
              "50%     55.000000    1.000000    1.000000  ...    0.000000    2.000000    1.000000\n",
              "75%     61.000000    1.000000    2.000000  ...    1.000000    3.000000    1.000000\n",
              "max     77.000000    1.000000    3.000000  ...    4.000000    3.000000    1.000000\n",
              "\n",
              "[8 rows x 14 columns]"
            ]
          },
          "metadata": {
            "tags": []
          },
          "execution_count": 10
        }
      ]
    },
    {
      "cell_type": "code",
      "metadata": {
        "colab": {
          "base_uri": "https://localhost:8080/",
          "height": 893
        },
        "id": "Tg_q1EfYNIGe",
        "outputId": "2268211b-7e10-4d92-d10c-e0e9042127e0"
      },
      "source": [
        "df.hist(bins=20,figsize=(15,10), color=\"orange\")\n"
      ],
      "execution_count": null,
      "outputs": [
        {
          "output_type": "execute_result",
          "data": {
            "text/plain": [
              "array([[<matplotlib.axes._subplots.AxesSubplot object at 0x7f5715488ac8>,\n",
              "        <matplotlib.axes._subplots.AxesSubplot object at 0x7f5714fb6390>,\n",
              "        <matplotlib.axes._subplots.AxesSubplot object at 0x7f5714fe95f8>,\n",
              "        <matplotlib.axes._subplots.AxesSubplot object at 0x7f5714f9c860>],\n",
              "       [<matplotlib.axes._subplots.AxesSubplot object at 0x7f5714f50ac8>,\n",
              "        <matplotlib.axes._subplots.AxesSubplot object at 0x7f5714f06d30>,\n",
              "        <matplotlib.axes._subplots.AxesSubplot object at 0x7f5714ebaf98>,\n",
              "        <matplotlib.axes._subplots.AxesSubplot object at 0x7f5714e79208>],\n",
              "       [<matplotlib.axes._subplots.AxesSubplot object at 0x7f5714e79278>,\n",
              "        <matplotlib.axes._subplots.AxesSubplot object at 0x7f5714e62710>,\n",
              "        <matplotlib.axes._subplots.AxesSubplot object at 0x7f5714e14978>,\n",
              "        <matplotlib.axes._subplots.AxesSubplot object at 0x7f5714dc7be0>],\n",
              "       [<matplotlib.axes._subplots.AxesSubplot object at 0x7f5714d7ee48>,\n",
              "        <matplotlib.axes._subplots.AxesSubplot object at 0x7f5714d3e0f0>,\n",
              "        <matplotlib.axes._subplots.AxesSubplot object at 0x7f5714d71358>,\n",
              "        <matplotlib.axes._subplots.AxesSubplot object at 0x7f5714d245c0>]],\n",
              "      dtype=object)"
            ]
          },
          "metadata": {
            "tags": []
          },
          "execution_count": 11
        },
        {
          "output_type": "display_data",
          "data": {
            "image/png": "[encoded data removed]",
            "text/plain": [
              "<Figure size 1080x720 with 16 Axes>"
            ]
          },
          "metadata": {
            "tags": [],
            "needs_background": "light"
          }
        }
      ]
    },
    {
      "cell_type": "code",
      "metadata": {
        "colab": {
          "base_uri": "https://localhost:8080/",
          "height": 195
        },
        "id": "r_3bLJ11QccA",
        "outputId": "abeb0e6e-a266-4e35-a863-7552891f280a"
      },
      "source": [
        "df.head()"
      ],
      "execution_count": null,
      "outputs": [
        {
          "output_type": "execute_result",
          "data": {
            "text/html": [
              "<div>\n",
              "<style scoped>\n",
              "    .dataframe tbody tr th:only-of-type {\n",
              "        vertical-align: middle;\n",
              "    }\n",
              "\n",
              "    .dataframe tbody tr th {\n",
              "        vertical-align: top;\n",
              "    }\n",
              "\n",
              "    .dataframe thead th {\n",
              "        text-align: right;\n",
              "    }\n",
              "</style>\n",
              "<table border=\"1\" class=\"dataframe\">\n",
              "  <thead>\n",
              "    <tr style=\"text-align: right;\">\n",
              "      <th></th>\n",
              "      <th>age</th>\n",
              "      <th>sex</th>\n",
              "      <th>cp</th>\n",
              "      <th>trestbps</th>\n",
              "      <th>chol</th>\n",
              "      <th>fbs</th>\n",
              "      <th>restecg</th>\n",
              "      <th>thalach</th>\n",
              "      <th>exang</th>\n",
              "      <th>oldpeak</th>\n",
              "      <th>slope</th>\n",
              "      <th>ca</th>\n",
              "      <th>thal</th>\n",
              "      <th>target</th>\n",
              "    </tr>\n",
              "  </thead>\n",
              "  <tbody>\n",
              "    <tr>\n",
              "      <th>0</th>\n",
              "      <td>63</td>\n",
              "      <td>1</td>\n",
              "      <td>3</td>\n",
              "      <td>145</td>\n",
              "      <td>233</td>\n",
              "      <td>1</td>\n",
              "      <td>0</td>\n",
              "      <td>150</td>\n",
              "      <td>0</td>\n",
              "      <td>2.3</td>\n",
              "      <td>0</td>\n",
              "      <td>0</td>\n",
              "      <td>1</td>\n",
              "      <td>1</td>\n",
              "    </tr>\n",
              "    <tr>\n",
              "      <th>1</th>\n",
              "      <td>37</td>\n",
              "      <td>1</td>\n",
              "      <td>2</td>\n",
              "      <td>130</td>\n",
              "      <td>250</td>\n",
              "      <td>0</td>\n",
              "      <td>1</td>\n",
              "      <td>187</td>\n",
              "      <td>0</td>\n",
              "      <td>3.5</td>\n",
              "      <td>0</td>\n",
              "      <td>0</td>\n",
              "      <td>2</td>\n",
              "      <td>1</td>\n",
              "    </tr>\n",
              "    <tr>\n",
              "      <th>2</th>\n",
              "      <td>41</td>\n",
              "      <td>0</td>\n",
              "      <td>1</td>\n",
              "      <td>130</td>\n",
              "      <td>204</td>\n",
              "      <td>0</td>\n",
              "      <td>0</td>\n",
              "      <td>172</td>\n",
              "      <td>0</td>\n",
              "      <td>1.4</td>\n",
              "      <td>2</td>\n",
              "      <td>0</td>\n",
              "      <td>2</td>\n",
              "      <td>1</td>\n",
              "    </tr>\n",
              "    <tr>\n",
              "      <th>3</th>\n",
              "      <td>56</td>\n",
              "      <td>1</td>\n",
              "      <td>1</td>\n",
              "      <td>120</td>\n",
              "      <td>236</td>\n",
              "      <td>0</td>\n",
              "      <td>1</td>\n",
              "      <td>178</td>\n",
              "      <td>0</td>\n",
              "      <td>0.8</td>\n",
              "      <td>2</td>\n",
              "      <td>0</td>\n",
              "      <td>2</td>\n",
              "      <td>1</td>\n",
              "    </tr>\n",
              "    <tr>\n",
              "      <th>4</th>\n",
              "      <td>57</td>\n",
              "      <td>0</td>\n",
              "      <td>0</td>\n",
              "      <td>120</td>\n",
              "      <td>354</td>\n",
              "      <td>0</td>\n",
              "      <td>1</td>\n",
              "      <td>163</td>\n",
              "      <td>1</td>\n",
              "      <td>0.6</td>\n",
              "      <td>2</td>\n",
              "      <td>0</td>\n",
              "      <td>2</td>\n",
              "      <td>1</td>\n",
              "    </tr>\n",
              "  </tbody>\n",
              "</table>\n",
              "</div>"
            ],
            "text/plain": [
              "   age  sex  cp  trestbps  chol  fbs  ...  exang  oldpeak  slope  ca  thal  target\n",
              "0   63    1   3       145   233    1  ...      0      2.3      0   0     1       1\n",
              "1   37    1   2       130   250    0  ...      0      3.5      0   0     2       1\n",
              "2   41    0   1       130   204    0  ...      0      1.4      2   0     2       1\n",
              "3   56    1   1       120   236    0  ...      0      0.8      2   0     2       1\n",
              "4   57    0   0       120   354    0  ...      1      0.6      2   0     2       1\n",
              "\n",
              "[5 rows x 14 columns]"
            ]
          },
          "metadata": {
            "tags": []
          },
          "execution_count": 12
        }
      ]
    },
    {
      "cell_type": "markdown",
      "metadata": {
        "id": "9Y2CHL2aRMRX"
      },
      "source": [
        "df.plot(kind=\"hist\",x=\"sex\",y=\"target\",grid=True )\n",
        "plt.xlabel(\"sex\",color='white')\n",
        "plt.ylabel(\"target\", color=\"white\")"
      ]
    },
    {
      "cell_type": "code",
      "metadata": {
        "colab": {
          "base_uri": "https://localhost:8080/"
        },
        "id": "hsn_fhZvRyMH",
        "outputId": "752db986-910f-425d-9e6c-2c2b0cb56683"
      },
      "source": [
        "df[\"sex\"].value_counts()"
      ],
      "execution_count": null,
      "outputs": [
        {
          "output_type": "execute_result",
          "data": {
            "text/plain": [
              "1    207\n",
              "0     96\n",
              "Name: sex, dtype: int64"
            ]
          },
          "metadata": {
            "tags": []
          },
          "execution_count": 13
        }
      ]
    },
    {
      "cell_type": "code",
      "metadata": {
        "colab": {
          "base_uri": "https://localhost:8080/",
          "height": 136
        },
        "id": "fBr65a50SJLV",
        "outputId": "0a733958-ec3a-4104-f909-359e542b639d"
      },
      "source": [
        "#compare target column with the \"sex\" column\n",
        "pd.crosstab(df[\"target\"],df[\"sex\"])"
      ],
      "execution_count": null,
      "outputs": [
        {
          "output_type": "execute_result",
          "data": {
            "text/html": [
              "<div>\n",
              "<style scoped>\n",
              "    .dataframe tbody tr th:only-of-type {\n",
              "        vertical-align: middle;\n",
              "    }\n",
              "\n",
              "    .dataframe tbody tr th {\n",
              "        vertical-align: top;\n",
              "    }\n",
              "\n",
              "    .dataframe thead th {\n",
              "        text-align: right;\n",
              "    }\n",
              "</style>\n",
              "<table border=\"1\" class=\"dataframe\">\n",
              "  <thead>\n",
              "    <tr style=\"text-align: right;\">\n",
              "      <th>sex</th>\n",
              "      <th>0</th>\n",
              "      <th>1</th>\n",
              "    </tr>\n",
              "    <tr>\n",
              "      <th>target</th>\n",
              "      <th></th>\n",
              "      <th></th>\n",
              "    </tr>\n",
              "  </thead>\n",
              "  <tbody>\n",
              "    <tr>\n",
              "      <th>0</th>\n",
              "      <td>24</td>\n",
              "      <td>114</td>\n",
              "    </tr>\n",
              "    <tr>\n",
              "      <th>1</th>\n",
              "      <td>72</td>\n",
              "      <td>93</td>\n",
              "    </tr>\n",
              "  </tbody>\n",
              "</table>\n",
              "</div>"
            ],
            "text/plain": [
              "sex      0    1\n",
              "target         \n",
              "0       24  114\n",
              "1       72   93"
            ]
          },
          "metadata": {
            "tags": []
          },
          "execution_count": 14
        }
      ]
    },
    {
      "cell_type": "code",
      "metadata": {
        "colab": {
          "base_uri": "https://localhost:8080/",
          "height": 296
        },
        "id": "DNADCKeKSYdF",
        "outputId": "d069047b-a84d-4967-fece-a0fe1741d97a"
      },
      "source": [
        "pd.crosstab(df[\"target\"],df[\"sex\"]).plot(kind=\"barh\",grid=True)\n",
        "plt.xlabel(\"frequency\",color='white')\n",
        "plt.ylabel(\"0=no_disease  1=no_disease\",color='white')\n",
        "plt.yticks(rotation=0,color='white')\n",
        "plt.xticks(color=\"white\")\n",
        "plt.legend([\"female\",\"male\"])"
      ],
      "execution_count": null,
      "outputs": [
        {
          "output_type": "execute_result",
          "data": {
            "text/plain": [
              "<matplotlib.legend.Legend at 0x7f5713556d30>"
            ]
          },
          "metadata": {
            "tags": []
          },
          "execution_count": 15
        },
        {
          "output_type": "display_data",
          "data": {
            "image/png": "[encoded data removed]",
            "text/plain": [
              "<Figure size 432x288 with 1 Axes>"
            ]
          },
          "metadata": {
            "tags": [],
            "needs_background": "dark"
          }
        }
      ]
    },
    {
      "cell_type": "code",
      "metadata": {
        "colab": {
          "base_uri": "https://localhost:8080/",
          "height": 195
        },
        "id": "24jpqHmNVkKr",
        "outputId": "d33ccb67-d34a-4601-ec3a-f8649815c091"
      },
      "source": [
        "df.head()"
      ],
      "execution_count": null,
      "outputs": [
        {
          "output_type": "execute_result",
          "data": {
            "text/html": [
              "<div>\n",
              "<style scoped>\n",
              "    .dataframe tbody tr th:only-of-type {\n",
              "        vertical-align: middle;\n",
              "    }\n",
              "\n",
              "    .dataframe tbody tr th {\n",
              "        vertical-align: top;\n",
              "    }\n",
              "\n",
              "    .dataframe thead th {\n",
              "        text-align: right;\n",
              "    }\n",
              "</style>\n",
              "<table border=\"1\" class=\"dataframe\">\n",
              "  <thead>\n",
              "    <tr style=\"text-align: right;\">\n",
              "      <th></th>\n",
              "      <th>age</th>\n",
              "      <th>sex</th>\n",
              "      <th>cp</th>\n",
              "      <th>trestbps</th>\n",
              "      <th>chol</th>\n",
              "      <th>fbs</th>\n",
              "      <th>restecg</th>\n",
              "      <th>thalach</th>\n",
              "      <th>exang</th>\n",
              "      <th>oldpeak</th>\n",
              "      <th>slope</th>\n",
              "      <th>ca</th>\n",
              "      <th>thal</th>\n",
              "      <th>target</th>\n",
              "    </tr>\n",
              "  </thead>\n",
              "  <tbody>\n",
              "    <tr>\n",
              "      <th>0</th>\n",
              "      <td>63</td>\n",
              "      <td>1</td>\n",
              "      <td>3</td>\n",
              "      <td>145</td>\n",
              "      <td>233</td>\n",
              "      <td>1</td>\n",
              "      <td>0</td>\n",
              "      <td>150</td>\n",
              "      <td>0</td>\n",
              "      <td>2.3</td>\n",
              "      <td>0</td>\n",
              "      <td>0</td>\n",
              "      <td>1</td>\n",
              "      <td>1</td>\n",
              "    </tr>\n",
              "    <tr>\n",
              "      <th>1</th>\n",
              "      <td>37</td>\n",
              "      <td>1</td>\n",
              "      <td>2</td>\n",
              "      <td>130</td>\n",
              "      <td>250</td>\n",
              "      <td>0</td>\n",
              "      <td>1</td>\n",
              "      <td>187</td>\n",
              "      <td>0</td>\n",
              "      <td>3.5</td>\n",
              "      <td>0</td>\n",
              "      <td>0</td>\n",
              "      <td>2</td>\n",
              "      <td>1</td>\n",
              "    </tr>\n",
              "    <tr>\n",
              "      <th>2</th>\n",
              "      <td>41</td>\n",
              "      <td>0</td>\n",
              "      <td>1</td>\n",
              "      <td>130</td>\n",
              "      <td>204</td>\n",
              "      <td>0</td>\n",
              "      <td>0</td>\n",
              "      <td>172</td>\n",
              "      <td>0</td>\n",
              "      <td>1.4</td>\n",
              "      <td>2</td>\n",
              "      <td>0</td>\n",
              "      <td>2</td>\n",
              "      <td>1</td>\n",
              "    </tr>\n",
              "    <tr>\n",
              "      <th>3</th>\n",
              "      <td>56</td>\n",
              "      <td>1</td>\n",
              "      <td>1</td>\n",
              "      <td>120</td>\n",
              "      <td>236</td>\n",
              "      <td>0</td>\n",
              "      <td>1</td>\n",
              "      <td>178</td>\n",
              "      <td>0</td>\n",
              "      <td>0.8</td>\n",
              "      <td>2</td>\n",
              "      <td>0</td>\n",
              "      <td>2</td>\n",
              "      <td>1</td>\n",
              "    </tr>\n",
              "    <tr>\n",
              "      <th>4</th>\n",
              "      <td>57</td>\n",
              "      <td>0</td>\n",
              "      <td>0</td>\n",
              "      <td>120</td>\n",
              "      <td>354</td>\n",
              "      <td>0</td>\n",
              "      <td>1</td>\n",
              "      <td>163</td>\n",
              "      <td>1</td>\n",
              "      <td>0.6</td>\n",
              "      <td>2</td>\n",
              "      <td>0</td>\n",
              "      <td>2</td>\n",
              "      <td>1</td>\n",
              "    </tr>\n",
              "  </tbody>\n",
              "</table>\n",
              "</div>"
            ],
            "text/plain": [
              "   age  sex  cp  trestbps  chol  fbs  ...  exang  oldpeak  slope  ca  thal  target\n",
              "0   63    1   3       145   233    1  ...      0      2.3      0   0     1       1\n",
              "1   37    1   2       130   250    0  ...      0      3.5      0   0     2       1\n",
              "2   41    0   1       130   204    0  ...      0      1.4      2   0     2       1\n",
              "3   56    1   1       120   236    0  ...      0      0.8      2   0     2       1\n",
              "4   57    0   0       120   354    0  ...      1      0.6      2   0     2       1\n",
              "\n",
              "[5 rows x 14 columns]"
            ]
          },
          "metadata": {
            "tags": []
          },
          "execution_count": 16
        }
      ]
    },
    {
      "cell_type": "code",
      "metadata": {
        "id": "TivF7P7oUAxb",
        "colab": {
          "base_uri": "https://localhost:8080/",
          "height": 522
        },
        "outputId": "52184135-0eac-4efe-e812-098d470708e8"
      },
      "source": [
        "from pandas.plotting import scatter_matrix\n",
        "attributes=[\"thalach\",\"chol\",\"oldpeak\",\"target\",\"age\"]\n",
        "scatter_matrix(df[attributes],figsize=(15,8),grid=True)\n",
        "plt.xticks(color='white')\n",
        "plt.yticks(color='white')"
      ],
      "execution_count": null,
      "outputs": [
        {
          "output_type": "execute_result",
          "data": {
            "text/plain": [
              "(array([ 0., 20., 40., 60., 80.]), <a list of 5 Text major ticklabel objects>)"
            ]
          },
          "metadata": {
            "tags": []
          },
          "execution_count": 17
        },
        {
          "output_type": "display_data",
          "data": {
            "image/png": "[encoded data removed]",
            "text/plain": [
              "<Figure size 1080x576 with 25 Axes>"
            ]
          },
          "metadata": {
            "tags": []
          }
        }
      ]
    },
    {
      "cell_type": "code",
      "metadata": {
        "colab": {
          "base_uri": "https://localhost:8080/"
        },
        "id": "-XOSIgtbVsZS",
        "outputId": "d7e4daae-096b-46e5-886c-e9a390e19c90"
      },
      "source": [
        "df[\"thalach\"].describe()"
      ],
      "execution_count": null,
      "outputs": [
        {
          "output_type": "execute_result",
          "data": {
            "text/plain": [
              "count    303.000000\n",
              "mean     149.646865\n",
              "std       22.905161\n",
              "min       71.000000\n",
              "25%      133.500000\n",
              "50%      153.000000\n",
              "75%      166.000000\n",
              "max      202.000000\n",
              "Name: thalach, dtype: float64"
            ]
          },
          "metadata": {
            "tags": []
          },
          "execution_count": 18
        }
      ]
    },
    {
      "cell_type": "code",
      "metadata": {
        "colab": {
          "base_uri": "https://localhost:8080/"
        },
        "id": "VeXHbQifVxGc",
        "outputId": "04adb2e6-c58a-455b-f874-bb60c2233da0"
      },
      "source": [
        "df[\"thalach\"].value_counts()"
      ],
      "execution_count": null,
      "outputs": [
        {
          "output_type": "execute_result",
          "data": {
            "text/plain": [
              "162    11\n",
              "160     9\n",
              "163     9\n",
              "173     8\n",
              "152     8\n",
              "       ..\n",
              "129     1\n",
              "128     1\n",
              "127     1\n",
              "124     1\n",
              "71      1\n",
              "Name: thalach, Length: 91, dtype: int64"
            ]
          },
          "metadata": {
            "tags": []
          },
          "execution_count": 19
        }
      ]
    },
    {
      "cell_type": "code",
      "metadata": {
        "colab": {
          "base_uri": "https://localhost:8080/",
          "height": 296
        },
        "id": "ETluGmyNV_lS",
        "outputId": "d677fc59-ac76-4089-8921-71df5dfebede"
      },
      "source": [
        "\n",
        "df.plot(kind=\"scatter\", y=\"thalach\",x=\"age\",grid=True,alpha=0.5)\n",
        "plt.xticks(color='white')\n",
        "plt.yticks(color='white')\n",
        "plt.ylabel(\"thalach\",color='white')\n",
        "plt.xlabel(\"age\",color=\"white\")"
      ],
      "execution_count": null,
      "outputs": [
        {
          "output_type": "execute_result",
          "data": {
            "text/plain": [
              "Text(0.5, 0, 'age')"
            ]
          },
          "metadata": {
            "tags": []
          },
          "execution_count": 20
        },
        {
          "output_type": "display_data",
          "data": {
            "image/png": "[encoded data removed]",
            "text/plain": [
              "<Figure size 432x288 with 1 Axes>"
            ]
          },
          "metadata": {
            "tags": [],
            "needs_background": "dark"
          }
        }
      ]
    },
    {
      "cell_type": "code",
      "metadata": {
        "colab": {
          "base_uri": "https://localhost:8080/",
          "height": 422
        },
        "id": "wC6xCAReX0TS",
        "outputId": "0059b98d-aeb3-4ab5-b48c-5ad09c4f83a2"
      },
      "source": [
        "plt.figure(figsize=(10,6)) \n",
        "#creating a scatter plot of age vs thalac just the posetive target values\n",
        "plt.scatter(df[\"age\"][df[\"target\"]==1],\n",
        "            df[\"thalach\"][df[\"target\"]==1],alpha=0.5)\n",
        "# scatter plot with the negative examples\n",
        "plt.scatter(df[\"age\"][df[\"target\"]==0],\n",
        "            df[\"thalach\"][df[\"target\"]==0],color='red',alpha=0.5)\n",
        "plt.xlabel(\"age\",color='white')\n",
        "plt.ylabel(\"thalach\",color='white')\n",
        "plt.xticks(color='white')\n",
        "plt.yticks(color='white')\n"
      ],
      "execution_count": null,
      "outputs": [
        {
          "output_type": "execute_result",
          "data": {
            "text/plain": [
              "(array([ 60.,  80., 100., 120., 140., 160., 180., 200., 220.]),\n",
              " <a list of 9 Text major ticklabel objects>)"
            ]
          },
          "metadata": {
            "tags": []
          },
          "execution_count": 21
        },
        {
          "output_type": "display_data",
          "data": {
            "image/png": "[encoded data removed]",
            "text/plain": [
              "<Figure size 720x432 with 1 Axes>"
            ]
          },
          "metadata": {
            "tags": [],
            "needs_background": "dark"
          }
        }
      ]
    },
    {
      "cell_type": "code",
      "metadata": {
        "colab": {
          "base_uri": "https://localhost:8080/",
          "height": 314
        },
        "id": "iJfgX2YaZCOW",
        "outputId": "431d3a8d-2dcf-4695-999b-2e7e19d4ccd1"
      },
      "source": [
        "# scatter plot with the negative examples\n",
        "plt.scatter(df[\"age\"][df[\"target\"]==0],\n",
        "            df[\"thalach\"][df[\"target\"]==0],color='red',alpha=0.5)\n",
        "plt.xlabel(\"age\",color='white')\n",
        "plt.ylabel(\"thalach\",color='white')\n",
        "plt.xticks(color='white')\n",
        "plt.yticks(color='white')"
      ],
      "execution_count": null,
      "outputs": [
        {
          "output_type": "execute_result",
          "data": {
            "text/plain": [
              "(array([ 60.,  80., 100., 120., 140., 160., 180., 200., 220.]),\n",
              " <a list of 9 Text major ticklabel objects>)"
            ]
          },
          "metadata": {
            "tags": []
          },
          "execution_count": 22
        },
        {
          "output_type": "display_data",
          "data": {
            "image/png": "[encoded data removed]",
            "text/plain": [
              "<Figure size 432x288 with 1 Axes>"
            ]
          },
          "metadata": {
            "tags": [],
            "needs_background": "dark"
          }
        }
      ]
    },
    {
      "cell_type": "code",
      "metadata": {
        "colab": {
          "base_uri": "https://localhost:8080/",
          "height": 386
        },
        "id": "5EoPEYIfaRFx",
        "outputId": "08add965-c1bc-46a8-e6fe-3914496a8d02"
      },
      "source": [
        "sns.displot(df,x=\"age\",bins=20,hue=\"target\" )\n",
        "plt.xlabel(\"age\",color='white')\n",
        "plt.ylabel(\"frequency\",color='white',rotation=0)\n",
        "plt.xticks(color='white')\n",
        "plt.yticks(color='white')\n",
        "plt.legend([\"does not have heart disease\",\"has heart disease\"])"
      ],
      "execution_count": null,
      "outputs": [
        {
          "output_type": "execute_result",
          "data": {
            "text/plain": [
              "<matplotlib.legend.Legend at 0x7f5711476dd8>"
            ]
          },
          "metadata": {
            "tags": []
          },
          "execution_count": 23
        },
        {
          "output_type": "display_data",
          "data": {
            "image/png": "[encoded data removed]",
            "text/plain": [
              "<Figure size 402.375x360 with 1 Axes>"
            ]
          },
          "metadata": {
            "tags": [],
            "needs_background": "dark"
          }
        }
      ]
    },
    {
      "cell_type": "code",
      "metadata": {
        "colab": {
          "base_uri": "https://localhost:8080/",
          "height": 386
        },
        "id": "qVmjiyfLb4O_",
        "outputId": "934918cb-9f47-43c3-8a36-b87fd489aabe"
      },
      "source": [
        "sns.displot(df,x='age',kde=True)\n",
        "plt.xlabel(\"age\",color='white')\n",
        "plt.ylabel(\"frequency\",color='white')"
      ],
      "execution_count": null,
      "outputs": [
        {
          "output_type": "execute_result",
          "data": {
            "text/plain": [
              "Text(10.049999999999997, 0.5, 'frequency')"
            ]
          },
          "metadata": {
            "tags": []
          },
          "execution_count": 24
        },
        {
          "output_type": "display_data",
          "data": {
            "image/png": "[encoded data removed]",
            "text/plain": [
              "<Figure size 360x360 with 1 Axes>"
            ]
          },
          "metadata": {
            "tags": [],
            "needs_background": "light"
          }
        }
      ]
    },
    {
      "cell_type": "code",
      "metadata": {
        "colab": {
          "base_uri": "https://localhost:8080/",
          "height": 195
        },
        "id": "bSnWY4WVdp87",
        "outputId": "a85bd712-09bc-4d5e-8453-6fcf7ce1d02f"
      },
      "source": [
        "## heart disease frequency per chest pain type \n",
        "pd.crosstab(df.cp,df.target)"
      ],
      "execution_count": null,
      "outputs": [
        {
          "output_type": "execute_result",
          "data": {
            "text/html": [
              "<div>\n",
              "<style scoped>\n",
              "    .dataframe tbody tr th:only-of-type {\n",
              "        vertical-align: middle;\n",
              "    }\n",
              "\n",
              "    .dataframe tbody tr th {\n",
              "        vertical-align: top;\n",
              "    }\n",
              "\n",
              "    .dataframe thead th {\n",
              "        text-align: right;\n",
              "    }\n",
              "</style>\n",
              "<table border=\"1\" class=\"dataframe\">\n",
              "  <thead>\n",
              "    <tr style=\"text-align: right;\">\n",
              "      <th>target</th>\n",
              "      <th>0</th>\n",
              "      <th>1</th>\n",
              "    </tr>\n",
              "    <tr>\n",
              "      <th>cp</th>\n",
              "      <th></th>\n",
              "      <th></th>\n",
              "    </tr>\n",
              "  </thead>\n",
              "  <tbody>\n",
              "    <tr>\n",
              "      <th>0</th>\n",
              "      <td>104</td>\n",
              "      <td>39</td>\n",
              "    </tr>\n",
              "    <tr>\n",
              "      <th>1</th>\n",
              "      <td>9</td>\n",
              "      <td>41</td>\n",
              "    </tr>\n",
              "    <tr>\n",
              "      <th>2</th>\n",
              "      <td>18</td>\n",
              "      <td>69</td>\n",
              "    </tr>\n",
              "    <tr>\n",
              "      <th>3</th>\n",
              "      <td>7</td>\n",
              "      <td>16</td>\n",
              "    </tr>\n",
              "  </tbody>\n",
              "</table>\n",
              "</div>"
            ],
            "text/plain": [
              "target    0   1\n",
              "cp             \n",
              "0       104  39\n",
              "1         9  41\n",
              "2        18  69\n",
              "3         7  16"
            ]
          },
          "metadata": {
            "tags": []
          },
          "execution_count": 25
        }
      ]
    },
    {
      "cell_type": "code",
      "metadata": {
        "colab": {
          "base_uri": "https://localhost:8080/",
          "height": 421
        },
        "id": "1Q-XtIfNeUyE",
        "outputId": "9c9bc030-5c83-43b6-b73a-9cc53a917ce7"
      },
      "source": [
        "pd.crosstab(df.cp,df.target).plot(kind='bar',figsize=(10,6),color=[\"lightblue\",\"salmon\"],grid=True)\n",
        "plt.title(\"heart_disease frequency per chest pain type\",color='white')\n",
        "plt.xlabel(\"chest pain type\",color='white')\n",
        "plt.ylabel('frequency',color=\"white\")\n",
        "plt.xticks(rotation=0,color=\"white\")\n",
        "plt.yticks(color='white')\n",
        "plt.legend([\"no heart disease\",\"has heart disease\"])"
      ],
      "execution_count": null,
      "outputs": [
        {
          "output_type": "execute_result",
          "data": {
            "text/plain": [
              "<matplotlib.legend.Legend at 0x7f570eaf27b8>"
            ]
          },
          "metadata": {
            "tags": []
          },
          "execution_count": 26
        },
        {
          "output_type": "display_data",
          "data": {
            "image/png": "[encoded data removed]",
            "text/plain": [
              "<Figure size 720x432 with 1 Axes>"
            ]
          },
          "metadata": {
            "tags": [],
            "needs_background": "dark"
          }
        }
      ]
    },
    {
      "cell_type": "code",
      "metadata": {
        "colab": {
          "base_uri": "https://localhost:8080/",
          "height": 195
        },
        "id": "R85tfC52fNpl",
        "outputId": "33559809-29c8-4b04-8e5b-15e79127b3c2"
      },
      "source": [
        "df.head()"
      ],
      "execution_count": null,
      "outputs": [
        {
          "output_type": "execute_result",
          "data": {
            "text/html": [
              "<div>\n",
              "<style scoped>\n",
              "    .dataframe tbody tr th:only-of-type {\n",
              "        vertical-align: middle;\n",
              "    }\n",
              "\n",
              "    .dataframe tbody tr th {\n",
              "        vertical-align: top;\n",
              "    }\n",
              "\n",
              "    .dataframe thead th {\n",
              "        text-align: right;\n",
              "    }\n",
              "</style>\n",
              "<table border=\"1\" class=\"dataframe\">\n",
              "  <thead>\n",
              "    <tr style=\"text-align: right;\">\n",
              "      <th></th>\n",
              "      <th>age</th>\n",
              "      <th>sex</th>\n",
              "      <th>cp</th>\n",
              "      <th>trestbps</th>\n",
              "      <th>chol</th>\n",
              "      <th>fbs</th>\n",
              "      <th>restecg</th>\n",
              "      <th>thalach</th>\n",
              "      <th>exang</th>\n",
              "      <th>oldpeak</th>\n",
              "      <th>slope</th>\n",
              "      <th>ca</th>\n",
              "      <th>thal</th>\n",
              "      <th>target</th>\n",
              "    </tr>\n",
              "  </thead>\n",
              "  <tbody>\n",
              "    <tr>\n",
              "      <th>0</th>\n",
              "      <td>63</td>\n",
              "      <td>1</td>\n",
              "      <td>3</td>\n",
              "      <td>145</td>\n",
              "      <td>233</td>\n",
              "      <td>1</td>\n",
              "      <td>0</td>\n",
              "      <td>150</td>\n",
              "      <td>0</td>\n",
              "      <td>2.3</td>\n",
              "      <td>0</td>\n",
              "      <td>0</td>\n",
              "      <td>1</td>\n",
              "      <td>1</td>\n",
              "    </tr>\n",
              "    <tr>\n",
              "      <th>1</th>\n",
              "      <td>37</td>\n",
              "      <td>1</td>\n",
              "      <td>2</td>\n",
              "      <td>130</td>\n",
              "      <td>250</td>\n",
              "      <td>0</td>\n",
              "      <td>1</td>\n",
              "      <td>187</td>\n",
              "      <td>0</td>\n",
              "      <td>3.5</td>\n",
              "      <td>0</td>\n",
              "      <td>0</td>\n",
              "      <td>2</td>\n",
              "      <td>1</td>\n",
              "    </tr>\n",
              "    <tr>\n",
              "      <th>2</th>\n",
              "      <td>41</td>\n",
              "      <td>0</td>\n",
              "      <td>1</td>\n",
              "      <td>130</td>\n",
              "      <td>204</td>\n",
              "      <td>0</td>\n",
              "      <td>0</td>\n",
              "      <td>172</td>\n",
              "      <td>0</td>\n",
              "      <td>1.4</td>\n",
              "      <td>2</td>\n",
              "      <td>0</td>\n",
              "      <td>2</td>\n",
              "      <td>1</td>\n",
              "    </tr>\n",
              "    <tr>\n",
              "      <th>3</th>\n",
              "      <td>56</td>\n",
              "      <td>1</td>\n",
              "      <td>1</td>\n",
              "      <td>120</td>\n",
              "      <td>236</td>\n",
              "      <td>0</td>\n",
              "      <td>1</td>\n",
              "      <td>178</td>\n",
              "      <td>0</td>\n",
              "      <td>0.8</td>\n",
              "      <td>2</td>\n",
              "      <td>0</td>\n",
              "      <td>2</td>\n",
              "      <td>1</td>\n",
              "    </tr>\n",
              "    <tr>\n",
              "      <th>4</th>\n",
              "      <td>57</td>\n",
              "      <td>0</td>\n",
              "      <td>0</td>\n",
              "      <td>120</td>\n",
              "      <td>354</td>\n",
              "      <td>0</td>\n",
              "      <td>1</td>\n",
              "      <td>163</td>\n",
              "      <td>1</td>\n",
              "      <td>0.6</td>\n",
              "      <td>2</td>\n",
              "      <td>0</td>\n",
              "      <td>2</td>\n",
              "      <td>1</td>\n",
              "    </tr>\n",
              "  </tbody>\n",
              "</table>\n",
              "</div>"
            ],
            "text/plain": [
              "   age  sex  cp  trestbps  chol  fbs  ...  exang  oldpeak  slope  ca  thal  target\n",
              "0   63    1   3       145   233    1  ...      0      2.3      0   0     1       1\n",
              "1   37    1   2       130   250    0  ...      0      3.5      0   0     2       1\n",
              "2   41    0   1       130   204    0  ...      0      1.4      2   0     2       1\n",
              "3   56    1   1       120   236    0  ...      0      0.8      2   0     2       1\n",
              "4   57    0   0       120   354    0  ...      1      0.6      2   0     2       1\n",
              "\n",
              "[5 rows x 14 columns]"
            ]
          },
          "metadata": {
            "tags": []
          },
          "execution_count": 27
        }
      ]
    },
    {
      "cell_type": "code",
      "metadata": {
        "colab": {
          "base_uri": "https://localhost:8080/",
          "height": 318
        },
        "id": "I3g5t_4aghR9",
        "outputId": "00371348-f9fc-4ff7-baa0-5260d5e8cc6e"
      },
      "source": [
        "#using a correlation matrix\n",
        "corr_matrix = df.corr()\n",
        "corr_matrix.style.background_gradient(cmap='YlGnBu').set_precision(2)"
      ],
      "execution_count": null,
      "outputs": [
        {
          "output_type": "execute_result",
          "data": {
            "text/html": [
              "<style  type=\"text/css\" >\n",
              "#T_8a17188c_2f43_11eb_8ee2_0242ac1c0002row0_col0,#T_8a17188c_2f43_11eb_8ee2_0242ac1c0002row1_col1,#T_8a17188c_2f43_11eb_8ee2_0242ac1c0002row2_col2,#T_8a17188c_2f43_11eb_8ee2_0242ac1c0002row3_col3,#T_8a17188c_2f43_11eb_8ee2_0242ac1c0002row4_col4,#T_8a17188c_2f43_11eb_8ee2_0242ac1c0002row5_col5,#T_8a17188c_2f43_11eb_8ee2_0242ac1c0002row6_col6,#T_8a17188c_2f43_11eb_8ee2_0242ac1c0002row7_col7,#T_8a17188c_2f43_11eb_8ee2_0242ac1c0002row8_col8,#T_8a17188c_2f43_11eb_8ee2_0242ac1c0002row9_col9,#T_8a17188c_2f43_11eb_8ee2_0242ac1c0002row10_col10,#T_8a17188c_2f43_11eb_8ee2_0242ac1c0002row11_col11,#T_8a17188c_2f43_11eb_8ee2_0242ac1c0002row12_col12,#T_8a17188c_2f43_11eb_8ee2_0242ac1c0002row13_col13{\n",
              "            background-color:  #081d58;\n",
              "            color:  #f1f1f1;\n",
              "        }#T_8a17188c_2f43_11eb_8ee2_0242ac1c0002row0_col1{\n",
              "            background-color:  #e8f6b1;\n",
              "            color:  #000000;\n",
              "        }#T_8a17188c_2f43_11eb_8ee2_0242ac1c0002row0_col2,#T_8a17188c_2f43_11eb_8ee2_0242ac1c0002row4_col3,#T_8a17188c_2f43_11eb_8ee2_0242ac1c0002row5_col12{\n",
              "            background-color:  #cdebb4;\n",
              "            color:  #000000;\n",
              "        }#T_8a17188c_2f43_11eb_8ee2_0242ac1c0002row0_col3,#T_8a17188c_2f43_11eb_8ee2_0242ac1c0002row5_col9,#T_8a17188c_2f43_11eb_8ee2_0242ac1c0002row10_col2,#T_8a17188c_2f43_11eb_8ee2_0242ac1c0002row11_col12{\n",
              "            background-color:  #83cebb;\n",
              "            color:  #000000;\n",
              "        }#T_8a17188c_2f43_11eb_8ee2_0242ac1c0002row0_col4{\n",
              "            background-color:  #92d5b9;\n",
              "            color:  #000000;\n",
              "        }#T_8a17188c_2f43_11eb_8ee2_0242ac1c0002row0_col5{\n",
              "            background-color:  #daf0b3;\n",
              "            color:  #000000;\n",
              "        }#T_8a17188c_2f43_11eb_8ee2_0242ac1c0002row0_col6,#T_8a17188c_2f43_11eb_8ee2_0242ac1c0002row2_col8{\n",
              "            background-color:  #fbfdd0;\n",
              "            color:  #000000;\n",
              "        }#T_8a17188c_2f43_11eb_8ee2_0242ac1c0002row0_col7,#T_8a17188c_2f43_11eb_8ee2_0242ac1c0002row1_col4,#T_8a17188c_2f43_11eb_8ee2_0242ac1c0002row4_col6,#T_8a17188c_2f43_11eb_8ee2_0242ac1c0002row6_col5,#T_8a17188c_2f43_11eb_8ee2_0242ac1c0002row7_col0,#T_8a17188c_2f43_11eb_8ee2_0242ac1c0002row8_col2,#T_8a17188c_2f43_11eb_8ee2_0242ac1c0002row8_col13,#T_8a17188c_2f43_11eb_8ee2_0242ac1c0002row9_col10,#T_8a17188c_2f43_11eb_8ee2_0242ac1c0002row10_col9,#T_8a17188c_2f43_11eb_8ee2_0242ac1c0002row13_col1,#T_8a17188c_2f43_11eb_8ee2_0242ac1c0002row13_col3,#T_8a17188c_2f43_11eb_8ee2_0242ac1c0002row13_col8,#T_8a17188c_2f43_11eb_8ee2_0242ac1c0002row13_col11,#T_8a17188c_2f43_11eb_8ee2_0242ac1c0002row13_col12{\n",
              "            background-color:  #ffffd9;\n",
              "            color:  #000000;\n",
              "        }#T_8a17188c_2f43_11eb_8ee2_0242ac1c0002row0_col8,#T_8a17188c_2f43_11eb_8ee2_0242ac1c0002row5_col0{\n",
              "            background-color:  #80cebb;\n",
              "            color:  #000000;\n",
              "        }#T_8a17188c_2f43_11eb_8ee2_0242ac1c0002row0_col9,#T_8a17188c_2f43_11eb_8ee2_0242ac1c0002row2_col7,#T_8a17188c_2f43_11eb_8ee2_0242ac1c0002row12_col9{\n",
              "            background-color:  #42b6c4;\n",
              "            color:  #000000;\n",
              "        }#T_8a17188c_2f43_11eb_8ee2_0242ac1c0002row0_col10{\n",
              "            background-color:  #c2e7b4;\n",
              "            color:  #000000;\n",
              "        }#T_8a17188c_2f43_11eb_8ee2_0242ac1c0002row0_col11{\n",
              "            background-color:  #4cbac2;\n",
              "            color:  #000000;\n",
              "        }#T_8a17188c_2f43_11eb_8ee2_0242ac1c0002row0_col12{\n",
              "            background-color:  #a7dcb7;\n",
              "            color:  #000000;\n",
              "        }#T_8a17188c_2f43_11eb_8ee2_0242ac1c0002row0_col13,#T_8a17188c_2f43_11eb_8ee2_0242ac1c0002row7_col9{\n",
              "            background-color:  #e7f6b1;\n",
              "            color:  #000000;\n",
              "        }#T_8a17188c_2f43_11eb_8ee2_0242ac1c0002row1_col0,#T_8a17188c_2f43_11eb_8ee2_0242ac1c0002row10_col6{\n",
              "            background-color:  #d3eeb3;\n",
              "            color:  #000000;\n",
              "        }#T_8a17188c_2f43_11eb_8ee2_0242ac1c0002row1_col2,#T_8a17188c_2f43_11eb_8ee2_0242ac1c0002row6_col12,#T_8a17188c_2f43_11eb_8ee2_0242ac1c0002row12_col4{\n",
              "            background-color:  #c8e9b4;\n",
              "            color:  #000000;\n",
              "        }#T_8a17188c_2f43_11eb_8ee2_0242ac1c0002row1_col3{\n",
              "            background-color:  #f4fbc1;\n",
              "            color:  #000000;\n",
              "        }#T_8a17188c_2f43_11eb_8ee2_0242ac1c0002row1_col5,#T_8a17188c_2f43_11eb_8ee2_0242ac1c0002row12_col6{\n",
              "            background-color:  #eef8b3;\n",
              "            color:  #000000;\n",
              "        }#T_8a17188c_2f43_11eb_8ee2_0242ac1c0002row1_col6,#T_8a17188c_2f43_11eb_8ee2_0242ac1c0002row9_col6{\n",
              "            background-color:  #f4fbc0;\n",
              "            color:  #000000;\n",
              "        }#T_8a17188c_2f43_11eb_8ee2_0242ac1c0002row1_col7,#T_8a17188c_2f43_11eb_8ee2_0242ac1c0002row3_col7,#T_8a17188c_2f43_11eb_8ee2_0242ac1c0002row13_col6{\n",
              "            background-color:  #c6e9b4;\n",
              "            color:  #000000;\n",
              "        }#T_8a17188c_2f43_11eb_8ee2_0242ac1c0002row1_col8{\n",
              "            background-color:  #71c8bd;\n",
              "            color:  #000000;\n",
              "        }#T_8a17188c_2f43_11eb_8ee2_0242ac1c0002row1_col9{\n",
              "            background-color:  #65c3bf;\n",
              "            color:  #000000;\n",
              "        }#T_8a17188c_2f43_11eb_8ee2_0242ac1c0002row1_col10{\n",
              "            background-color:  #90d4b9;\n",
              "            color:  #000000;\n",
              "        }#T_8a17188c_2f43_11eb_8ee2_0242ac1c0002row1_col11,#T_8a17188c_2f43_11eb_8ee2_0242ac1c0002row4_col10,#T_8a17188c_2f43_11eb_8ee2_0242ac1c0002row8_col11{\n",
              "            background-color:  #85cfba;\n",
              "            color:  #000000;\n",
              "        }#T_8a17188c_2f43_11eb_8ee2_0242ac1c0002row1_col12,#T_8a17188c_2f43_11eb_8ee2_0242ac1c0002row9_col12{\n",
              "            background-color:  #6dc6be;\n",
              "            color:  #000000;\n",
              "        }#T_8a17188c_2f43_11eb_8ee2_0242ac1c0002row1_col13{\n",
              "            background-color:  #f0f9b7;\n",
              "            color:  #000000;\n",
              "        }#T_8a17188c_2f43_11eb_8ee2_0242ac1c0002row2_col0{\n",
              "            background-color:  #cbebb4;\n",
              "            color:  #000000;\n",
              "        }#T_8a17188c_2f43_11eb_8ee2_0242ac1c0002row2_col1,#T_8a17188c_2f43_11eb_8ee2_0242ac1c0002row12_col3{\n",
              "            background-color:  #dcf1b2;\n",
              "            color:  #000000;\n",
              "        }#T_8a17188c_2f43_11eb_8ee2_0242ac1c0002row2_col3,#T_8a17188c_2f43_11eb_8ee2_0242ac1c0002row2_col6,#T_8a17188c_2f43_11eb_8ee2_0242ac1c0002row7_col6{\n",
              "            background-color:  #e0f3b2;\n",
              "            color:  #000000;\n",
              "        }#T_8a17188c_2f43_11eb_8ee2_0242ac1c0002row2_col4,#T_8a17188c_2f43_11eb_8ee2_0242ac1c0002row8_col5{\n",
              "            background-color:  #f1faba;\n",
              "            color:  #000000;\n",
              "        }#T_8a17188c_2f43_11eb_8ee2_0242ac1c0002row2_col5,#T_8a17188c_2f43_11eb_8ee2_0242ac1c0002row10_col0,#T_8a17188c_2f43_11eb_8ee2_0242ac1c0002row12_col2{\n",
              "            background-color:  #e1f3b2;\n",
              "            color:  #000000;\n",
              "        }#T_8a17188c_2f43_11eb_8ee2_0242ac1c0002row2_col9{\n",
              "            background-color:  #bbe4b5;\n",
              "            color:  #000000;\n",
              "        }#T_8a17188c_2f43_11eb_8ee2_0242ac1c0002row2_col10,#T_8a17188c_2f43_11eb_8ee2_0242ac1c0002row9_col11{\n",
              "            background-color:  #5dc0c0;\n",
              "            color:  #000000;\n",
              "        }#T_8a17188c_2f43_11eb_8ee2_0242ac1c0002row2_col11{\n",
              "            background-color:  #e6f5b2;\n",
              "            color:  #000000;\n",
              "        }#T_8a17188c_2f43_11eb_8ee2_0242ac1c0002row2_col12{\n",
              "            background-color:  #eaf7b1;\n",
              "            color:  #000000;\n",
              "        }#T_8a17188c_2f43_11eb_8ee2_0242ac1c0002row2_col13{\n",
              "            background-color:  #2296c1;\n",
              "            color:  #000000;\n",
              "        }#T_8a17188c_2f43_11eb_8ee2_0242ac1c0002row3_col0{\n",
              "            background-color:  #48b9c3;\n",
              "            color:  #000000;\n",
              "        }#T_8a17188c_2f43_11eb_8ee2_0242ac1c0002row3_col1,#T_8a17188c_2f43_11eb_8ee2_0242ac1c0002row6_col1,#T_8a17188c_2f43_11eb_8ee2_0242ac1c0002row9_col2{\n",
              "            background-color:  #dff2b2;\n",
              "            color:  #000000;\n",
              "        }#T_8a17188c_2f43_11eb_8ee2_0242ac1c0002row3_col2,#T_8a17188c_2f43_11eb_8ee2_0242ac1c0002row6_col7{\n",
              "            background-color:  #a0dab8;\n",
              "            color:  #000000;\n",
              "        }#T_8a17188c_2f43_11eb_8ee2_0242ac1c0002row3_col4{\n",
              "            background-color:  #bde5b5;\n",
              "            color:  #000000;\n",
              "        }#T_8a17188c_2f43_11eb_8ee2_0242ac1c0002row3_col5{\n",
              "            background-color:  #caeab4;\n",
              "            color:  #000000;\n",
              "        }#T_8a17188c_2f43_11eb_8ee2_0242ac1c0002row3_col6,#T_8a17188c_2f43_11eb_8ee2_0242ac1c0002row11_col13{\n",
              "            background-color:  #fafdcf;\n",
              "            color:  #000000;\n",
              "        }#T_8a17188c_2f43_11eb_8ee2_0242ac1c0002row3_col8,#T_8a17188c_2f43_11eb_8ee2_0242ac1c0002row4_col8,#T_8a17188c_2f43_11eb_8ee2_0242ac1c0002row5_col2{\n",
              "            background-color:  #8ed3ba;\n",
              "            color:  #000000;\n",
              "        }#T_8a17188c_2f43_11eb_8ee2_0242ac1c0002row3_col9{\n",
              "            background-color:  #46b8c3;\n",
              "            color:  #000000;\n",
              "        }#T_8a17188c_2f43_11eb_8ee2_0242ac1c0002row3_col10{\n",
              "            background-color:  #b0e0b6;\n",
              "            color:  #000000;\n",
              "        }#T_8a17188c_2f43_11eb_8ee2_0242ac1c0002row3_col11,#T_8a17188c_2f43_11eb_8ee2_0242ac1c0002row8_col0{\n",
              "            background-color:  #8cd2ba;\n",
              "            color:  #000000;\n",
              "        }#T_8a17188c_2f43_11eb_8ee2_0242ac1c0002row3_col12{\n",
              "            background-color:  #a9ddb7;\n",
              "            color:  #000000;\n",
              "        }#T_8a17188c_2f43_11eb_8ee2_0242ac1c0002row3_col13,#T_8a17188c_2f43_11eb_8ee2_0242ac1c0002row6_col0,#T_8a17188c_2f43_11eb_8ee2_0242ac1c0002row8_col10{\n",
              "            background-color:  #d6efb3;\n",
              "            color:  #000000;\n",
              "        }#T_8a17188c_2f43_11eb_8ee2_0242ac1c0002row4_col0{\n",
              "            background-color:  #5fc1c0;\n",
              "            color:  #000000;\n",
              "        }#T_8a17188c_2f43_11eb_8ee2_0242ac1c0002row4_col1,#T_8a17188c_2f43_11eb_8ee2_0242ac1c0002row12_col13{\n",
              "            background-color:  #f6fbc5;\n",
              "            color:  #000000;\n",
              "        }#T_8a17188c_2f43_11eb_8ee2_0242ac1c0002row4_col2,#T_8a17188c_2f43_11eb_8ee2_0242ac1c0002row6_col11{\n",
              "            background-color:  #ceecb3;\n",
              "            color:  #000000;\n",
              "        }#T_8a17188c_2f43_11eb_8ee2_0242ac1c0002row4_col5,#T_8a17188c_2f43_11eb_8ee2_0242ac1c0002row13_col9{\n",
              "            background-color:  #f2fabc;\n",
              "            color:  #000000;\n",
              "        }#T_8a17188c_2f43_11eb_8ee2_0242ac1c0002row4_col7,#T_8a17188c_2f43_11eb_8ee2_0242ac1c0002row5_col7{\n",
              "            background-color:  #b7e3b6;\n",
              "            color:  #000000;\n",
              "        }#T_8a17188c_2f43_11eb_8ee2_0242ac1c0002row4_col9,#T_8a17188c_2f43_11eb_8ee2_0242ac1c0002row6_col13{\n",
              "            background-color:  #73c8bd;\n",
              "            color:  #000000;\n",
              "        }#T_8a17188c_2f43_11eb_8ee2_0242ac1c0002row4_col11,#T_8a17188c_2f43_11eb_8ee2_0242ac1c0002row12_col0{\n",
              "            background-color:  #97d6b9;\n",
              "            color:  #000000;\n",
              "        }#T_8a17188c_2f43_11eb_8ee2_0242ac1c0002row4_col12,#T_8a17188c_2f43_11eb_8ee2_0242ac1c0002row5_col10,#T_8a17188c_2f43_11eb_8ee2_0242ac1c0002row6_col9,#T_8a17188c_2f43_11eb_8ee2_0242ac1c0002row8_col1{\n",
              "            background-color:  #99d7b8;\n",
              "            color:  #000000;\n",
              "        }#T_8a17188c_2f43_11eb_8ee2_0242ac1c0002row4_col13{\n",
              "            background-color:  #c9eab4;\n",
              "            color:  #000000;\n",
              "        }#T_8a17188c_2f43_11eb_8ee2_0242ac1c0002row5_col1,#T_8a17188c_2f43_11eb_8ee2_0242ac1c0002row6_col8{\n",
              "            background-color:  #c4e8b4;\n",
              "            color:  #000000;\n",
              "        }#T_8a17188c_2f43_11eb_8ee2_0242ac1c0002row5_col3,#T_8a17188c_2f43_11eb_8ee2_0242ac1c0002row5_col13{\n",
              "            background-color:  #b4e2b6;\n",
              "            color:  #000000;\n",
              "        }#T_8a17188c_2f43_11eb_8ee2_0242ac1c0002row5_col4,#T_8a17188c_2f43_11eb_8ee2_0242ac1c0002row10_col12{\n",
              "            background-color:  #ddf2b2;\n",
              "            color:  #000000;\n",
              "        }#T_8a17188c_2f43_11eb_8ee2_0242ac1c0002row5_col6{\n",
              "            background-color:  #f7fcc7;\n",
              "            color:  #000000;\n",
              "        }#T_8a17188c_2f43_11eb_8ee2_0242ac1c0002row5_col8{\n",
              "            background-color:  #9ed9b8;\n",
              "            color:  #000000;\n",
              "        }#T_8a17188c_2f43_11eb_8ee2_0242ac1c0002row5_col11{\n",
              "            background-color:  #7cccbb;\n",
              "            color:  #000000;\n",
              "        }#T_8a17188c_2f43_11eb_8ee2_0242ac1c0002row6_col2,#T_8a17188c_2f43_11eb_8ee2_0242ac1c0002row11_col10{\n",
              "            background-color:  #a2dbb8;\n",
              "            color:  #000000;\n",
              "        }#T_8a17188c_2f43_11eb_8ee2_0242ac1c0002row6_col3{\n",
              "            background-color:  #fcfed1;\n",
              "            color:  #000000;\n",
              "        }#T_8a17188c_2f43_11eb_8ee2_0242ac1c0002row6_col4,#T_8a17188c_2f43_11eb_8ee2_0242ac1c0002row7_col8{\n",
              "            background-color:  #f9fdcc;\n",
              "            color:  #000000;\n",
              "        }#T_8a17188c_2f43_11eb_8ee2_0242ac1c0002row6_col10{\n",
              "            background-color:  #67c4be;\n",
              "            color:  #000000;\n",
              "        }#T_8a17188c_2f43_11eb_8ee2_0242ac1c0002row7_col1,#T_8a17188c_2f43_11eb_8ee2_0242ac1c0002row7_col12,#T_8a17188c_2f43_11eb_8ee2_0242ac1c0002row8_col3{\n",
              "            background-color:  #dbf1b2;\n",
              "            color:  #000000;\n",
              "        }#T_8a17188c_2f43_11eb_8ee2_0242ac1c0002row7_col2{\n",
              "            background-color:  #44b7c4;\n",
              "            color:  #000000;\n",
              "        }#T_8a17188c_2f43_11eb_8ee2_0242ac1c0002row7_col3,#T_8a17188c_2f43_11eb_8ee2_0242ac1c0002row9_col5{\n",
              "            background-color:  #f3fabf;\n",
              "            color:  #000000;\n",
              "        }#T_8a17188c_2f43_11eb_8ee2_0242ac1c0002row7_col4{\n",
              "            background-color:  #e3f4b2;\n",
              "            color:  #000000;\n",
              "        }#T_8a17188c_2f43_11eb_8ee2_0242ac1c0002row7_col5,#T_8a17188c_2f43_11eb_8ee2_0242ac1c0002row8_col6,#T_8a17188c_2f43_11eb_8ee2_0242ac1c0002row11_col6{\n",
              "            background-color:  #f5fbc4;\n",
              "            color:  #000000;\n",
              "        }#T_8a17188c_2f43_11eb_8ee2_0242ac1c0002row7_col10{\n",
              "            background-color:  #2195c0;\n",
              "            color:  #000000;\n",
              "        }#T_8a17188c_2f43_11eb_8ee2_0242ac1c0002row7_col11{\n",
              "            background-color:  #edf8b1;\n",
              "            color:  #000000;\n",
              "        }#T_8a17188c_2f43_11eb_8ee2_0242ac1c0002row7_col13,#T_8a17188c_2f43_11eb_8ee2_0242ac1c0002row13_col2{\n",
              "            background-color:  #259ac1;\n",
              "            color:  #000000;\n",
              "        }#T_8a17188c_2f43_11eb_8ee2_0242ac1c0002row8_col4{\n",
              "            background-color:  #d0edb3;\n",
              "            color:  #000000;\n",
              "        }#T_8a17188c_2f43_11eb_8ee2_0242ac1c0002row8_col7{\n",
              "            background-color:  #fdfed5;\n",
              "            color:  #000000;\n",
              "        }#T_8a17188c_2f43_11eb_8ee2_0242ac1c0002row8_col9{\n",
              "            background-color:  #33a7c2;\n",
              "            color:  #000000;\n",
              "        }#T_8a17188c_2f43_11eb_8ee2_0242ac1c0002row8_col12{\n",
              "            background-color:  #6fc7bd;\n",
              "            color:  #000000;\n",
              "        }#T_8a17188c_2f43_11eb_8ee2_0242ac1c0002row9_col0{\n",
              "            background-color:  #61c2bf;\n",
              "            color:  #000000;\n",
              "        }#T_8a17188c_2f43_11eb_8ee2_0242ac1c0002row9_col1,#T_8a17188c_2f43_11eb_8ee2_0242ac1c0002row9_col3{\n",
              "            background-color:  #aedfb6;\n",
              "            color:  #000000;\n",
              "        }#T_8a17188c_2f43_11eb_8ee2_0242ac1c0002row9_col4{\n",
              "            background-color:  #d4eeb3;\n",
              "            color:  #000000;\n",
              "        }#T_8a17188c_2f43_11eb_8ee2_0242ac1c0002row9_col7{\n",
              "            background-color:  #fafdce;\n",
              "            color:  #000000;\n",
              "        }#T_8a17188c_2f43_11eb_8ee2_0242ac1c0002row9_col8,#T_8a17188c_2f43_11eb_8ee2_0242ac1c0002row11_col9{\n",
              "            background-color:  #3fb4c4;\n",
              "            color:  #000000;\n",
              "        }#T_8a17188c_2f43_11eb_8ee2_0242ac1c0002row9_col13{\n",
              "            background-color:  #feffd8;\n",
              "            color:  #000000;\n",
              "        }#T_8a17188c_2f43_11eb_8ee2_0242ac1c0002row10_col1{\n",
              "            background-color:  #d7efb3;\n",
              "            color:  #000000;\n",
              "        }#T_8a17188c_2f43_11eb_8ee2_0242ac1c0002row10_col3,#T_8a17188c_2f43_11eb_8ee2_0242ac1c0002row10_col5{\n",
              "            background-color:  #fcfed3;\n",
              "            color:  #000000;\n",
              "        }#T_8a17188c_2f43_11eb_8ee2_0242ac1c0002row10_col4{\n",
              "            background-color:  #e2f4b2;\n",
              "            color:  #000000;\n",
              "        }#T_8a17188c_2f43_11eb_8ee2_0242ac1c0002row10_col7{\n",
              "            background-color:  #2fa4c2;\n",
              "            color:  #000000;\n",
              "        }#T_8a17188c_2f43_11eb_8ee2_0242ac1c0002row10_col8,#T_8a17188c_2f43_11eb_8ee2_0242ac1c0002row13_col0{\n",
              "            background-color:  #edf8b2;\n",
              "            color:  #000000;\n",
              "        }#T_8a17188c_2f43_11eb_8ee2_0242ac1c0002row10_col11,#T_8a17188c_2f43_11eb_8ee2_0242ac1c0002row11_col4{\n",
              "            background-color:  #cfecb3;\n",
              "            color:  #000000;\n",
              "        }#T_8a17188c_2f43_11eb_8ee2_0242ac1c0002row10_col13{\n",
              "            background-color:  #34a9c3;\n",
              "            color:  #000000;\n",
              "        }#T_8a17188c_2f43_11eb_8ee2_0242ac1c0002row11_col0{\n",
              "            background-color:  #4ab9c3;\n",
              "            color:  #000000;\n",
              "        }#T_8a17188c_2f43_11eb_8ee2_0242ac1c0002row11_col1{\n",
              "            background-color:  #a5dcb7;\n",
              "            color:  #000000;\n",
              "        }#T_8a17188c_2f43_11eb_8ee2_0242ac1c0002row11_col2{\n",
              "            background-color:  #e5f5b2;\n",
              "            color:  #000000;\n",
              "        }#T_8a17188c_2f43_11eb_8ee2_0242ac1c0002row11_col3,#T_8a17188c_2f43_11eb_8ee2_0242ac1c0002row12_col7{\n",
              "            background-color:  #d1edb3;\n",
              "            color:  #000000;\n",
              "        }#T_8a17188c_2f43_11eb_8ee2_0242ac1c0002row11_col5{\n",
              "            background-color:  #d5efb3;\n",
              "            color:  #000000;\n",
              "        }#T_8a17188c_2f43_11eb_8ee2_0242ac1c0002row11_col7{\n",
              "            background-color:  #ecf7b1;\n",
              "            color:  #000000;\n",
              "        }#T_8a17188c_2f43_11eb_8ee2_0242ac1c0002row11_col8,#T_8a17188c_2f43_11eb_8ee2_0242ac1c0002row12_col1{\n",
              "            background-color:  #7acbbc;\n",
              "            color:  #000000;\n",
              "        }#T_8a17188c_2f43_11eb_8ee2_0242ac1c0002row12_col5{\n",
              "            background-color:  #f8fcca;\n",
              "            color:  #000000;\n",
              "        }#T_8a17188c_2f43_11eb_8ee2_0242ac1c0002row12_col8{\n",
              "            background-color:  #5bc0c0;\n",
              "            color:  #000000;\n",
              "        }#T_8a17188c_2f43_11eb_8ee2_0242ac1c0002row12_col10{\n",
              "            background-color:  #abdeb7;\n",
              "            color:  #000000;\n",
              "        }#T_8a17188c_2f43_11eb_8ee2_0242ac1c0002row12_col11{\n",
              "            background-color:  #78cbbc;\n",
              "            color:  #000000;\n",
              "        }#T_8a17188c_2f43_11eb_8ee2_0242ac1c0002row13_col4{\n",
              "            background-color:  #f1fabb;\n",
              "            color:  #000000;\n",
              "        }#T_8a17188c_2f43_11eb_8ee2_0242ac1c0002row13_col5{\n",
              "            background-color:  #f8fcc9;\n",
              "            color:  #000000;\n",
              "        }#T_8a17188c_2f43_11eb_8ee2_0242ac1c0002row13_col7{\n",
              "            background-color:  #289cc1;\n",
              "            color:  #000000;\n",
              "        }#T_8a17188c_2f43_11eb_8ee2_0242ac1c0002row13_col10{\n",
              "            background-color:  #299dc1;\n",
              "            color:  #000000;\n",
              "        }</style><table id=\"T_8a17188c_2f43_11eb_8ee2_0242ac1c0002\" ><thead>    <tr>        <th class=\"blank level0\" ></th>        <th class=\"col_heading level0 col0\" >age</th>        <th class=\"col_heading level0 col1\" >sex</th>        <th class=\"col_heading level0 col2\" >cp</th>        <th class=\"col_heading level0 col3\" >trestbps</th>        <th class=\"col_heading level0 col4\" >chol</th>        <th class=\"col_heading level0 col5\" >fbs</th>        <th class=\"col_heading level0 col6\" >restecg</th>        <th class=\"col_heading level0 col7\" >thalach</th>        <th class=\"col_heading level0 col8\" >exang</th>        <th class=\"col_heading level0 col9\" >oldpeak</th>        <th class=\"col_heading level0 col10\" >slope</th>        <th class=\"col_heading level0 col11\" >ca</th>        <th class=\"col_heading level0 col12\" >thal</th>        <th class=\"col_heading level0 col13\" >target</th>    </tr></thead><tbody>\n",
              "                <tr>\n",
              "                        <th id=\"T_8a17188c_2f43_11eb_8ee2_0242ac1c0002level0_row0\" class=\"row_heading level0 row0\" >age</th>\n",
              "                        <td id=\"T_8a17188c_2f43_11eb_8ee2_0242ac1c0002row0_col0\" class=\"data row0 col0\" >1.00</td>\n",
              "                        <td id=\"T_8a17188c_2f43_11eb_8ee2_0242ac1c0002row0_col1\" class=\"data row0 col1\" >-0.10</td>\n",
              "                        <td id=\"T_8a17188c_2f43_11eb_8ee2_0242ac1c0002row0_col2\" class=\"data row0 col2\" >-0.07</td>\n",
              "                        <td id=\"T_8a17188c_2f43_11eb_8ee2_0242ac1c0002row0_col3\" class=\"data row0 col3\" >0.28</td>\n",
              "                        <td id=\"T_8a17188c_2f43_11eb_8ee2_0242ac1c0002row0_col4\" class=\"data row0 col4\" >0.21</td>\n",
              "                        <td id=\"T_8a17188c_2f43_11eb_8ee2_0242ac1c0002row0_col5\" class=\"data row0 col5\" >0.12</td>\n",
              "                        <td id=\"T_8a17188c_2f43_11eb_8ee2_0242ac1c0002row0_col6\" class=\"data row0 col6\" >-0.12</td>\n",
              "                        <td id=\"T_8a17188c_2f43_11eb_8ee2_0242ac1c0002row0_col7\" class=\"data row0 col7\" >-0.40</td>\n",
              "                        <td id=\"T_8a17188c_2f43_11eb_8ee2_0242ac1c0002row0_col8\" class=\"data row0 col8\" >0.10</td>\n",
              "                        <td id=\"T_8a17188c_2f43_11eb_8ee2_0242ac1c0002row0_col9\" class=\"data row0 col9\" >0.21</td>\n",
              "                        <td id=\"T_8a17188c_2f43_11eb_8ee2_0242ac1c0002row0_col10\" class=\"data row0 col10\" >-0.17</td>\n",
              "                        <td id=\"T_8a17188c_2f43_11eb_8ee2_0242ac1c0002row0_col11\" class=\"data row0 col11\" >0.28</td>\n",
              "                        <td id=\"T_8a17188c_2f43_11eb_8ee2_0242ac1c0002row0_col12\" class=\"data row0 col12\" >0.07</td>\n",
              "                        <td id=\"T_8a17188c_2f43_11eb_8ee2_0242ac1c0002row0_col13\" class=\"data row0 col13\" >-0.23</td>\n",
              "            </tr>\n",
              "            <tr>\n",
              "                        <th id=\"T_8a17188c_2f43_11eb_8ee2_0242ac1c0002level0_row1\" class=\"row_heading level0 row1\" >sex</th>\n",
              "                        <td id=\"T_8a17188c_2f43_11eb_8ee2_0242ac1c0002row1_col0\" class=\"data row1 col0\" >-0.10</td>\n",
              "                        <td id=\"T_8a17188c_2f43_11eb_8ee2_0242ac1c0002row1_col1\" class=\"data row1 col1\" >1.00</td>\n",
              "                        <td id=\"T_8a17188c_2f43_11eb_8ee2_0242ac1c0002row1_col2\" class=\"data row1 col2\" >-0.05</td>\n",
              "                        <td id=\"T_8a17188c_2f43_11eb_8ee2_0242ac1c0002row1_col3\" class=\"data row1 col3\" >-0.06</td>\n",
              "                        <td id=\"T_8a17188c_2f43_11eb_8ee2_0242ac1c0002row1_col4\" class=\"data row1 col4\" >-0.20</td>\n",
              "                        <td id=\"T_8a17188c_2f43_11eb_8ee2_0242ac1c0002row1_col5\" class=\"data row1 col5\" >0.05</td>\n",
              "                        <td id=\"T_8a17188c_2f43_11eb_8ee2_0242ac1c0002row1_col6\" class=\"data row1 col6\" >-0.06</td>\n",
              "                        <td id=\"T_8a17188c_2f43_11eb_8ee2_0242ac1c0002row1_col7\" class=\"data row1 col7\" >-0.04</td>\n",
              "                        <td id=\"T_8a17188c_2f43_11eb_8ee2_0242ac1c0002row1_col8\" class=\"data row1 col8\" >0.14</td>\n",
              "                        <td id=\"T_8a17188c_2f43_11eb_8ee2_0242ac1c0002row1_col9\" class=\"data row1 col9\" >0.10</td>\n",
              "                        <td id=\"T_8a17188c_2f43_11eb_8ee2_0242ac1c0002row1_col10\" class=\"data row1 col10\" >-0.03</td>\n",
              "                        <td id=\"T_8a17188c_2f43_11eb_8ee2_0242ac1c0002row1_col11\" class=\"data row1 col11\" >0.12</td>\n",
              "                        <td id=\"T_8a17188c_2f43_11eb_8ee2_0242ac1c0002row1_col12\" class=\"data row1 col12\" >0.21</td>\n",
              "                        <td id=\"T_8a17188c_2f43_11eb_8ee2_0242ac1c0002row1_col13\" class=\"data row1 col13\" >-0.28</td>\n",
              "            </tr>\n",
              "            <tr>\n",
              "                        <th id=\"T_8a17188c_2f43_11eb_8ee2_0242ac1c0002level0_row2\" class=\"row_heading level0 row2\" >cp</th>\n",
              "                        <td id=\"T_8a17188c_2f43_11eb_8ee2_0242ac1c0002row2_col0\" class=\"data row2 col0\" >-0.07</td>\n",
              "                        <td id=\"T_8a17188c_2f43_11eb_8ee2_0242ac1c0002row2_col1\" class=\"data row2 col1\" >-0.05</td>\n",
              "                        <td id=\"T_8a17188c_2f43_11eb_8ee2_0242ac1c0002row2_col2\" class=\"data row2 col2\" >1.00</td>\n",
              "                        <td id=\"T_8a17188c_2f43_11eb_8ee2_0242ac1c0002row2_col3\" class=\"data row2 col3\" >0.05</td>\n",
              "                        <td id=\"T_8a17188c_2f43_11eb_8ee2_0242ac1c0002row2_col4\" class=\"data row2 col4\" >-0.08</td>\n",
              "                        <td id=\"T_8a17188c_2f43_11eb_8ee2_0242ac1c0002row2_col5\" class=\"data row2 col5\" >0.09</td>\n",
              "                        <td id=\"T_8a17188c_2f43_11eb_8ee2_0242ac1c0002row2_col6\" class=\"data row2 col6\" >0.04</td>\n",
              "                        <td id=\"T_8a17188c_2f43_11eb_8ee2_0242ac1c0002row2_col7\" class=\"data row2 col7\" >0.30</td>\n",
              "                        <td id=\"T_8a17188c_2f43_11eb_8ee2_0242ac1c0002row2_col8\" class=\"data row2 col8\" >-0.39</td>\n",
              "                        <td id=\"T_8a17188c_2f43_11eb_8ee2_0242ac1c0002row2_col9\" class=\"data row2 col9\" >-0.15</td>\n",
              "                        <td id=\"T_8a17188c_2f43_11eb_8ee2_0242ac1c0002row2_col10\" class=\"data row2 col10\" >0.12</td>\n",
              "                        <td id=\"T_8a17188c_2f43_11eb_8ee2_0242ac1c0002row2_col11\" class=\"data row2 col11\" >-0.18</td>\n",
              "                        <td id=\"T_8a17188c_2f43_11eb_8ee2_0242ac1c0002row2_col12\" class=\"data row2 col12\" >-0.16</td>\n",
              "                        <td id=\"T_8a17188c_2f43_11eb_8ee2_0242ac1c0002row2_col13\" class=\"data row2 col13\" >0.43</td>\n",
              "            </tr>\n",
              "            <tr>\n",
              "                        <th id=\"T_8a17188c_2f43_11eb_8ee2_0242ac1c0002level0_row3\" class=\"row_heading level0 row3\" >trestbps</th>\n",
              "                        <td id=\"T_8a17188c_2f43_11eb_8ee2_0242ac1c0002row3_col0\" class=\"data row3 col0\" >0.28</td>\n",
              "                        <td id=\"T_8a17188c_2f43_11eb_8ee2_0242ac1c0002row3_col1\" class=\"data row3 col1\" >-0.06</td>\n",
              "                        <td id=\"T_8a17188c_2f43_11eb_8ee2_0242ac1c0002row3_col2\" class=\"data row3 col2\" >0.05</td>\n",
              "                        <td id=\"T_8a17188c_2f43_11eb_8ee2_0242ac1c0002row3_col3\" class=\"data row3 col3\" >1.00</td>\n",
              "                        <td id=\"T_8a17188c_2f43_11eb_8ee2_0242ac1c0002row3_col4\" class=\"data row3 col4\" >0.12</td>\n",
              "                        <td id=\"T_8a17188c_2f43_11eb_8ee2_0242ac1c0002row3_col5\" class=\"data row3 col5\" >0.18</td>\n",
              "                        <td id=\"T_8a17188c_2f43_11eb_8ee2_0242ac1c0002row3_col6\" class=\"data row3 col6\" >-0.11</td>\n",
              "                        <td id=\"T_8a17188c_2f43_11eb_8ee2_0242ac1c0002row3_col7\" class=\"data row3 col7\" >-0.05</td>\n",
              "                        <td id=\"T_8a17188c_2f43_11eb_8ee2_0242ac1c0002row3_col8\" class=\"data row3 col8\" >0.07</td>\n",
              "                        <td id=\"T_8a17188c_2f43_11eb_8ee2_0242ac1c0002row3_col9\" class=\"data row3 col9\" >0.19</td>\n",
              "                        <td id=\"T_8a17188c_2f43_11eb_8ee2_0242ac1c0002row3_col10\" class=\"data row3 col10\" >-0.12</td>\n",
              "                        <td id=\"T_8a17188c_2f43_11eb_8ee2_0242ac1c0002row3_col11\" class=\"data row3 col11\" >0.10</td>\n",
              "                        <td id=\"T_8a17188c_2f43_11eb_8ee2_0242ac1c0002row3_col12\" class=\"data row3 col12\" >0.06</td>\n",
              "                        <td id=\"T_8a17188c_2f43_11eb_8ee2_0242ac1c0002row3_col13\" class=\"data row3 col13\" >-0.14</td>\n",
              "            </tr>\n",
              "            <tr>\n",
              "                        <th id=\"T_8a17188c_2f43_11eb_8ee2_0242ac1c0002level0_row4\" class=\"row_heading level0 row4\" >chol</th>\n",
              "                        <td id=\"T_8a17188c_2f43_11eb_8ee2_0242ac1c0002row4_col0\" class=\"data row4 col0\" >0.21</td>\n",
              "                        <td id=\"T_8a17188c_2f43_11eb_8ee2_0242ac1c0002row4_col1\" class=\"data row4 col1\" >-0.20</td>\n",
              "                        <td id=\"T_8a17188c_2f43_11eb_8ee2_0242ac1c0002row4_col2\" class=\"data row4 col2\" >-0.08</td>\n",
              "                        <td id=\"T_8a17188c_2f43_11eb_8ee2_0242ac1c0002row4_col3\" class=\"data row4 col3\" >0.12</td>\n",
              "                        <td id=\"T_8a17188c_2f43_11eb_8ee2_0242ac1c0002row4_col4\" class=\"data row4 col4\" >1.00</td>\n",
              "                        <td id=\"T_8a17188c_2f43_11eb_8ee2_0242ac1c0002row4_col5\" class=\"data row4 col5\" >0.01</td>\n",
              "                        <td id=\"T_8a17188c_2f43_11eb_8ee2_0242ac1c0002row4_col6\" class=\"data row4 col6\" >-0.15</td>\n",
              "                        <td id=\"T_8a17188c_2f43_11eb_8ee2_0242ac1c0002row4_col7\" class=\"data row4 col7\" >-0.01</td>\n",
              "                        <td id=\"T_8a17188c_2f43_11eb_8ee2_0242ac1c0002row4_col8\" class=\"data row4 col8\" >0.07</td>\n",
              "                        <td id=\"T_8a17188c_2f43_11eb_8ee2_0242ac1c0002row4_col9\" class=\"data row4 col9\" >0.05</td>\n",
              "                        <td id=\"T_8a17188c_2f43_11eb_8ee2_0242ac1c0002row4_col10\" class=\"data row4 col10\" >-0.00</td>\n",
              "                        <td id=\"T_8a17188c_2f43_11eb_8ee2_0242ac1c0002row4_col11\" class=\"data row4 col11\" >0.07</td>\n",
              "                        <td id=\"T_8a17188c_2f43_11eb_8ee2_0242ac1c0002row4_col12\" class=\"data row4 col12\" >0.10</td>\n",
              "                        <td id=\"T_8a17188c_2f43_11eb_8ee2_0242ac1c0002row4_col13\" class=\"data row4 col13\" >-0.09</td>\n",
              "            </tr>\n",
              "            <tr>\n",
              "                        <th id=\"T_8a17188c_2f43_11eb_8ee2_0242ac1c0002level0_row5\" class=\"row_heading level0 row5\" >fbs</th>\n",
              "                        <td id=\"T_8a17188c_2f43_11eb_8ee2_0242ac1c0002row5_col0\" class=\"data row5 col0\" >0.12</td>\n",
              "                        <td id=\"T_8a17188c_2f43_11eb_8ee2_0242ac1c0002row5_col1\" class=\"data row5 col1\" >0.05</td>\n",
              "                        <td id=\"T_8a17188c_2f43_11eb_8ee2_0242ac1c0002row5_col2\" class=\"data row5 col2\" >0.09</td>\n",
              "                        <td id=\"T_8a17188c_2f43_11eb_8ee2_0242ac1c0002row5_col3\" class=\"data row5 col3\" >0.18</td>\n",
              "                        <td id=\"T_8a17188c_2f43_11eb_8ee2_0242ac1c0002row5_col4\" class=\"data row5 col4\" >0.01</td>\n",
              "                        <td id=\"T_8a17188c_2f43_11eb_8ee2_0242ac1c0002row5_col5\" class=\"data row5 col5\" >1.00</td>\n",
              "                        <td id=\"T_8a17188c_2f43_11eb_8ee2_0242ac1c0002row5_col6\" class=\"data row5 col6\" >-0.08</td>\n",
              "                        <td id=\"T_8a17188c_2f43_11eb_8ee2_0242ac1c0002row5_col7\" class=\"data row5 col7\" >-0.01</td>\n",
              "                        <td id=\"T_8a17188c_2f43_11eb_8ee2_0242ac1c0002row5_col8\" class=\"data row5 col8\" >0.03</td>\n",
              "                        <td id=\"T_8a17188c_2f43_11eb_8ee2_0242ac1c0002row5_col9\" class=\"data row5 col9\" >0.01</td>\n",
              "                        <td id=\"T_8a17188c_2f43_11eb_8ee2_0242ac1c0002row5_col10\" class=\"data row5 col10\" >-0.06</td>\n",
              "                        <td id=\"T_8a17188c_2f43_11eb_8ee2_0242ac1c0002row5_col11\" class=\"data row5 col11\" >0.14</td>\n",
              "                        <td id=\"T_8a17188c_2f43_11eb_8ee2_0242ac1c0002row5_col12\" class=\"data row5 col12\" >-0.03</td>\n",
              "                        <td id=\"T_8a17188c_2f43_11eb_8ee2_0242ac1c0002row5_col13\" class=\"data row5 col13\" >-0.03</td>\n",
              "            </tr>\n",
              "            <tr>\n",
              "                        <th id=\"T_8a17188c_2f43_11eb_8ee2_0242ac1c0002level0_row6\" class=\"row_heading level0 row6\" >restecg</th>\n",
              "                        <td id=\"T_8a17188c_2f43_11eb_8ee2_0242ac1c0002row6_col0\" class=\"data row6 col0\" >-0.12</td>\n",
              "                        <td id=\"T_8a17188c_2f43_11eb_8ee2_0242ac1c0002row6_col1\" class=\"data row6 col1\" >-0.06</td>\n",
              "                        <td id=\"T_8a17188c_2f43_11eb_8ee2_0242ac1c0002row6_col2\" class=\"data row6 col2\" >0.04</td>\n",
              "                        <td id=\"T_8a17188c_2f43_11eb_8ee2_0242ac1c0002row6_col3\" class=\"data row6 col3\" >-0.11</td>\n",
              "                        <td id=\"T_8a17188c_2f43_11eb_8ee2_0242ac1c0002row6_col4\" class=\"data row6 col4\" >-0.15</td>\n",
              "                        <td id=\"T_8a17188c_2f43_11eb_8ee2_0242ac1c0002row6_col5\" class=\"data row6 col5\" >-0.08</td>\n",
              "                        <td id=\"T_8a17188c_2f43_11eb_8ee2_0242ac1c0002row6_col6\" class=\"data row6 col6\" >1.00</td>\n",
              "                        <td id=\"T_8a17188c_2f43_11eb_8ee2_0242ac1c0002row6_col7\" class=\"data row6 col7\" >0.04</td>\n",
              "                        <td id=\"T_8a17188c_2f43_11eb_8ee2_0242ac1c0002row6_col8\" class=\"data row6 col8\" >-0.07</td>\n",
              "                        <td id=\"T_8a17188c_2f43_11eb_8ee2_0242ac1c0002row6_col9\" class=\"data row6 col9\" >-0.06</td>\n",
              "                        <td id=\"T_8a17188c_2f43_11eb_8ee2_0242ac1c0002row6_col10\" class=\"data row6 col10\" >0.09</td>\n",
              "                        <td id=\"T_8a17188c_2f43_11eb_8ee2_0242ac1c0002row6_col11\" class=\"data row6 col11\" >-0.07</td>\n",
              "                        <td id=\"T_8a17188c_2f43_11eb_8ee2_0242ac1c0002row6_col12\" class=\"data row6 col12\" >-0.01</td>\n",
              "                        <td id=\"T_8a17188c_2f43_11eb_8ee2_0242ac1c0002row6_col13\" class=\"data row6 col13\" >0.14</td>\n",
              "            </tr>\n",
              "            <tr>\n",
              "                        <th id=\"T_8a17188c_2f43_11eb_8ee2_0242ac1c0002level0_row7\" class=\"row_heading level0 row7\" >thalach</th>\n",
              "                        <td id=\"T_8a17188c_2f43_11eb_8ee2_0242ac1c0002row7_col0\" class=\"data row7 col0\" >-0.40</td>\n",
              "                        <td id=\"T_8a17188c_2f43_11eb_8ee2_0242ac1c0002row7_col1\" class=\"data row7 col1\" >-0.04</td>\n",
              "                        <td id=\"T_8a17188c_2f43_11eb_8ee2_0242ac1c0002row7_col2\" class=\"data row7 col2\" >0.30</td>\n",
              "                        <td id=\"T_8a17188c_2f43_11eb_8ee2_0242ac1c0002row7_col3\" class=\"data row7 col3\" >-0.05</td>\n",
              "                        <td id=\"T_8a17188c_2f43_11eb_8ee2_0242ac1c0002row7_col4\" class=\"data row7 col4\" >-0.01</td>\n",
              "                        <td id=\"T_8a17188c_2f43_11eb_8ee2_0242ac1c0002row7_col5\" class=\"data row7 col5\" >-0.01</td>\n",
              "                        <td id=\"T_8a17188c_2f43_11eb_8ee2_0242ac1c0002row7_col6\" class=\"data row7 col6\" >0.04</td>\n",
              "                        <td id=\"T_8a17188c_2f43_11eb_8ee2_0242ac1c0002row7_col7\" class=\"data row7 col7\" >1.00</td>\n",
              "                        <td id=\"T_8a17188c_2f43_11eb_8ee2_0242ac1c0002row7_col8\" class=\"data row7 col8\" >-0.38</td>\n",
              "                        <td id=\"T_8a17188c_2f43_11eb_8ee2_0242ac1c0002row7_col9\" class=\"data row7 col9\" >-0.34</td>\n",
              "                        <td id=\"T_8a17188c_2f43_11eb_8ee2_0242ac1c0002row7_col10\" class=\"data row7 col10\" >0.39</td>\n",
              "                        <td id=\"T_8a17188c_2f43_11eb_8ee2_0242ac1c0002row7_col11\" class=\"data row7 col11\" >-0.21</td>\n",
              "                        <td id=\"T_8a17188c_2f43_11eb_8ee2_0242ac1c0002row7_col12\" class=\"data row7 col12\" >-0.10</td>\n",
              "                        <td id=\"T_8a17188c_2f43_11eb_8ee2_0242ac1c0002row7_col13\" class=\"data row7 col13\" >0.42</td>\n",
              "            </tr>\n",
              "            <tr>\n",
              "                        <th id=\"T_8a17188c_2f43_11eb_8ee2_0242ac1c0002level0_row8\" class=\"row_heading level0 row8\" >exang</th>\n",
              "                        <td id=\"T_8a17188c_2f43_11eb_8ee2_0242ac1c0002row8_col0\" class=\"data row8 col0\" >0.10</td>\n",
              "                        <td id=\"T_8a17188c_2f43_11eb_8ee2_0242ac1c0002row8_col1\" class=\"data row8 col1\" >0.14</td>\n",
              "                        <td id=\"T_8a17188c_2f43_11eb_8ee2_0242ac1c0002row8_col2\" class=\"data row8 col2\" >-0.39</td>\n",
              "                        <td id=\"T_8a17188c_2f43_11eb_8ee2_0242ac1c0002row8_col3\" class=\"data row8 col3\" >0.07</td>\n",
              "                        <td id=\"T_8a17188c_2f43_11eb_8ee2_0242ac1c0002row8_col4\" class=\"data row8 col4\" >0.07</td>\n",
              "                        <td id=\"T_8a17188c_2f43_11eb_8ee2_0242ac1c0002row8_col5\" class=\"data row8 col5\" >0.03</td>\n",
              "                        <td id=\"T_8a17188c_2f43_11eb_8ee2_0242ac1c0002row8_col6\" class=\"data row8 col6\" >-0.07</td>\n",
              "                        <td id=\"T_8a17188c_2f43_11eb_8ee2_0242ac1c0002row8_col7\" class=\"data row8 col7\" >-0.38</td>\n",
              "                        <td id=\"T_8a17188c_2f43_11eb_8ee2_0242ac1c0002row8_col8\" class=\"data row8 col8\" >1.00</td>\n",
              "                        <td id=\"T_8a17188c_2f43_11eb_8ee2_0242ac1c0002row8_col9\" class=\"data row8 col9\" >0.29</td>\n",
              "                        <td id=\"T_8a17188c_2f43_11eb_8ee2_0242ac1c0002row8_col10\" class=\"data row8 col10\" >-0.26</td>\n",
              "                        <td id=\"T_8a17188c_2f43_11eb_8ee2_0242ac1c0002row8_col11\" class=\"data row8 col11\" >0.12</td>\n",
              "                        <td id=\"T_8a17188c_2f43_11eb_8ee2_0242ac1c0002row8_col12\" class=\"data row8 col12\" >0.21</td>\n",
              "                        <td id=\"T_8a17188c_2f43_11eb_8ee2_0242ac1c0002row8_col13\" class=\"data row8 col13\" >-0.44</td>\n",
              "            </tr>\n",
              "            <tr>\n",
              "                        <th id=\"T_8a17188c_2f43_11eb_8ee2_0242ac1c0002level0_row9\" class=\"row_heading level0 row9\" >oldpeak</th>\n",
              "                        <td id=\"T_8a17188c_2f43_11eb_8ee2_0242ac1c0002row9_col0\" class=\"data row9 col0\" >0.21</td>\n",
              "                        <td id=\"T_8a17188c_2f43_11eb_8ee2_0242ac1c0002row9_col1\" class=\"data row9 col1\" >0.10</td>\n",
              "                        <td id=\"T_8a17188c_2f43_11eb_8ee2_0242ac1c0002row9_col2\" class=\"data row9 col2\" >-0.15</td>\n",
              "                        <td id=\"T_8a17188c_2f43_11eb_8ee2_0242ac1c0002row9_col3\" class=\"data row9 col3\" >0.19</td>\n",
              "                        <td id=\"T_8a17188c_2f43_11eb_8ee2_0242ac1c0002row9_col4\" class=\"data row9 col4\" >0.05</td>\n",
              "                        <td id=\"T_8a17188c_2f43_11eb_8ee2_0242ac1c0002row9_col5\" class=\"data row9 col5\" >0.01</td>\n",
              "                        <td id=\"T_8a17188c_2f43_11eb_8ee2_0242ac1c0002row9_col6\" class=\"data row9 col6\" >-0.06</td>\n",
              "                        <td id=\"T_8a17188c_2f43_11eb_8ee2_0242ac1c0002row9_col7\" class=\"data row9 col7\" >-0.34</td>\n",
              "                        <td id=\"T_8a17188c_2f43_11eb_8ee2_0242ac1c0002row9_col8\" class=\"data row9 col8\" >0.29</td>\n",
              "                        <td id=\"T_8a17188c_2f43_11eb_8ee2_0242ac1c0002row9_col9\" class=\"data row9 col9\" >1.00</td>\n",
              "                        <td id=\"T_8a17188c_2f43_11eb_8ee2_0242ac1c0002row9_col10\" class=\"data row9 col10\" >-0.58</td>\n",
              "                        <td id=\"T_8a17188c_2f43_11eb_8ee2_0242ac1c0002row9_col11\" class=\"data row9 col11\" >0.22</td>\n",
              "                        <td id=\"T_8a17188c_2f43_11eb_8ee2_0242ac1c0002row9_col12\" class=\"data row9 col12\" >0.21</td>\n",
              "                        <td id=\"T_8a17188c_2f43_11eb_8ee2_0242ac1c0002row9_col13\" class=\"data row9 col13\" >-0.43</td>\n",
              "            </tr>\n",
              "            <tr>\n",
              "                        <th id=\"T_8a17188c_2f43_11eb_8ee2_0242ac1c0002level0_row10\" class=\"row_heading level0 row10\" >slope</th>\n",
              "                        <td id=\"T_8a17188c_2f43_11eb_8ee2_0242ac1c0002row10_col0\" class=\"data row10 col0\" >-0.17</td>\n",
              "                        <td id=\"T_8a17188c_2f43_11eb_8ee2_0242ac1c0002row10_col1\" class=\"data row10 col1\" >-0.03</td>\n",
              "                        <td id=\"T_8a17188c_2f43_11eb_8ee2_0242ac1c0002row10_col2\" class=\"data row10 col2\" >0.12</td>\n",
              "                        <td id=\"T_8a17188c_2f43_11eb_8ee2_0242ac1c0002row10_col3\" class=\"data row10 col3\" >-0.12</td>\n",
              "                        <td id=\"T_8a17188c_2f43_11eb_8ee2_0242ac1c0002row10_col4\" class=\"data row10 col4\" >-0.00</td>\n",
              "                        <td id=\"T_8a17188c_2f43_11eb_8ee2_0242ac1c0002row10_col5\" class=\"data row10 col5\" >-0.06</td>\n",
              "                        <td id=\"T_8a17188c_2f43_11eb_8ee2_0242ac1c0002row10_col6\" class=\"data row10 col6\" >0.09</td>\n",
              "                        <td id=\"T_8a17188c_2f43_11eb_8ee2_0242ac1c0002row10_col7\" class=\"data row10 col7\" >0.39</td>\n",
              "                        <td id=\"T_8a17188c_2f43_11eb_8ee2_0242ac1c0002row10_col8\" class=\"data row10 col8\" >-0.26</td>\n",
              "                        <td id=\"T_8a17188c_2f43_11eb_8ee2_0242ac1c0002row10_col9\" class=\"data row10 col9\" >-0.58</td>\n",
              "                        <td id=\"T_8a17188c_2f43_11eb_8ee2_0242ac1c0002row10_col10\" class=\"data row10 col10\" >1.00</td>\n",
              "                        <td id=\"T_8a17188c_2f43_11eb_8ee2_0242ac1c0002row10_col11\" class=\"data row10 col11\" >-0.08</td>\n",
              "                        <td id=\"T_8a17188c_2f43_11eb_8ee2_0242ac1c0002row10_col12\" class=\"data row10 col12\" >-0.10</td>\n",
              "                        <td id=\"T_8a17188c_2f43_11eb_8ee2_0242ac1c0002row10_col13\" class=\"data row10 col13\" >0.35</td>\n",
              "            </tr>\n",
              "            <tr>\n",
              "                        <th id=\"T_8a17188c_2f43_11eb_8ee2_0242ac1c0002level0_row11\" class=\"row_heading level0 row11\" >ca</th>\n",
              "                        <td id=\"T_8a17188c_2f43_11eb_8ee2_0242ac1c0002row11_col0\" class=\"data row11 col0\" >0.28</td>\n",
              "                        <td id=\"T_8a17188c_2f43_11eb_8ee2_0242ac1c0002row11_col1\" class=\"data row11 col1\" >0.12</td>\n",
              "                        <td id=\"T_8a17188c_2f43_11eb_8ee2_0242ac1c0002row11_col2\" class=\"data row11 col2\" >-0.18</td>\n",
              "                        <td id=\"T_8a17188c_2f43_11eb_8ee2_0242ac1c0002row11_col3\" class=\"data row11 col3\" >0.10</td>\n",
              "                        <td id=\"T_8a17188c_2f43_11eb_8ee2_0242ac1c0002row11_col4\" class=\"data row11 col4\" >0.07</td>\n",
              "                        <td id=\"T_8a17188c_2f43_11eb_8ee2_0242ac1c0002row11_col5\" class=\"data row11 col5\" >0.14</td>\n",
              "                        <td id=\"T_8a17188c_2f43_11eb_8ee2_0242ac1c0002row11_col6\" class=\"data row11 col6\" >-0.07</td>\n",
              "                        <td id=\"T_8a17188c_2f43_11eb_8ee2_0242ac1c0002row11_col7\" class=\"data row11 col7\" >-0.21</td>\n",
              "                        <td id=\"T_8a17188c_2f43_11eb_8ee2_0242ac1c0002row11_col8\" class=\"data row11 col8\" >0.12</td>\n",
              "                        <td id=\"T_8a17188c_2f43_11eb_8ee2_0242ac1c0002row11_col9\" class=\"data row11 col9\" >0.22</td>\n",
              "                        <td id=\"T_8a17188c_2f43_11eb_8ee2_0242ac1c0002row11_col10\" class=\"data row11 col10\" >-0.08</td>\n",
              "                        <td id=\"T_8a17188c_2f43_11eb_8ee2_0242ac1c0002row11_col11\" class=\"data row11 col11\" >1.00</td>\n",
              "                        <td id=\"T_8a17188c_2f43_11eb_8ee2_0242ac1c0002row11_col12\" class=\"data row11 col12\" >0.15</td>\n",
              "                        <td id=\"T_8a17188c_2f43_11eb_8ee2_0242ac1c0002row11_col13\" class=\"data row11 col13\" >-0.39</td>\n",
              "            </tr>\n",
              "            <tr>\n",
              "                        <th id=\"T_8a17188c_2f43_11eb_8ee2_0242ac1c0002level0_row12\" class=\"row_heading level0 row12\" >thal</th>\n",
              "                        <td id=\"T_8a17188c_2f43_11eb_8ee2_0242ac1c0002row12_col0\" class=\"data row12 col0\" >0.07</td>\n",
              "                        <td id=\"T_8a17188c_2f43_11eb_8ee2_0242ac1c0002row12_col1\" class=\"data row12 col1\" >0.21</td>\n",
              "                        <td id=\"T_8a17188c_2f43_11eb_8ee2_0242ac1c0002row12_col2\" class=\"data row12 col2\" >-0.16</td>\n",
              "                        <td id=\"T_8a17188c_2f43_11eb_8ee2_0242ac1c0002row12_col3\" class=\"data row12 col3\" >0.06</td>\n",
              "                        <td id=\"T_8a17188c_2f43_11eb_8ee2_0242ac1c0002row12_col4\" class=\"data row12 col4\" >0.10</td>\n",
              "                        <td id=\"T_8a17188c_2f43_11eb_8ee2_0242ac1c0002row12_col5\" class=\"data row12 col5\" >-0.03</td>\n",
              "                        <td id=\"T_8a17188c_2f43_11eb_8ee2_0242ac1c0002row12_col6\" class=\"data row12 col6\" >-0.01</td>\n",
              "                        <td id=\"T_8a17188c_2f43_11eb_8ee2_0242ac1c0002row12_col7\" class=\"data row12 col7\" >-0.10</td>\n",
              "                        <td id=\"T_8a17188c_2f43_11eb_8ee2_0242ac1c0002row12_col8\" class=\"data row12 col8\" >0.21</td>\n",
              "                        <td id=\"T_8a17188c_2f43_11eb_8ee2_0242ac1c0002row12_col9\" class=\"data row12 col9\" >0.21</td>\n",
              "                        <td id=\"T_8a17188c_2f43_11eb_8ee2_0242ac1c0002row12_col10\" class=\"data row12 col10\" >-0.10</td>\n",
              "                        <td id=\"T_8a17188c_2f43_11eb_8ee2_0242ac1c0002row12_col11\" class=\"data row12 col11\" >0.15</td>\n",
              "                        <td id=\"T_8a17188c_2f43_11eb_8ee2_0242ac1c0002row12_col12\" class=\"data row12 col12\" >1.00</td>\n",
              "                        <td id=\"T_8a17188c_2f43_11eb_8ee2_0242ac1c0002row12_col13\" class=\"data row12 col13\" >-0.34</td>\n",
              "            </tr>\n",
              "            <tr>\n",
              "                        <th id=\"T_8a17188c_2f43_11eb_8ee2_0242ac1c0002level0_row13\" class=\"row_heading level0 row13\" >target</th>\n",
              "                        <td id=\"T_8a17188c_2f43_11eb_8ee2_0242ac1c0002row13_col0\" class=\"data row13 col0\" >-0.23</td>\n",
              "                        <td id=\"T_8a17188c_2f43_11eb_8ee2_0242ac1c0002row13_col1\" class=\"data row13 col1\" >-0.28</td>\n",
              "                        <td id=\"T_8a17188c_2f43_11eb_8ee2_0242ac1c0002row13_col2\" class=\"data row13 col2\" >0.43</td>\n",
              "                        <td id=\"T_8a17188c_2f43_11eb_8ee2_0242ac1c0002row13_col3\" class=\"data row13 col3\" >-0.14</td>\n",
              "                        <td id=\"T_8a17188c_2f43_11eb_8ee2_0242ac1c0002row13_col4\" class=\"data row13 col4\" >-0.09</td>\n",
              "                        <td id=\"T_8a17188c_2f43_11eb_8ee2_0242ac1c0002row13_col5\" class=\"data row13 col5\" >-0.03</td>\n",
              "                        <td id=\"T_8a17188c_2f43_11eb_8ee2_0242ac1c0002row13_col6\" class=\"data row13 col6\" >0.14</td>\n",
              "                        <td id=\"T_8a17188c_2f43_11eb_8ee2_0242ac1c0002row13_col7\" class=\"data row13 col7\" >0.42</td>\n",
              "                        <td id=\"T_8a17188c_2f43_11eb_8ee2_0242ac1c0002row13_col8\" class=\"data row13 col8\" >-0.44</td>\n",
              "                        <td id=\"T_8a17188c_2f43_11eb_8ee2_0242ac1c0002row13_col9\" class=\"data row13 col9\" >-0.43</td>\n",
              "                        <td id=\"T_8a17188c_2f43_11eb_8ee2_0242ac1c0002row13_col10\" class=\"data row13 col10\" >0.35</td>\n",
              "                        <td id=\"T_8a17188c_2f43_11eb_8ee2_0242ac1c0002row13_col11\" class=\"data row13 col11\" >-0.39</td>\n",
              "                        <td id=\"T_8a17188c_2f43_11eb_8ee2_0242ac1c0002row13_col12\" class=\"data row13 col12\" >-0.34</td>\n",
              "                        <td id=\"T_8a17188c_2f43_11eb_8ee2_0242ac1c0002row13_col13\" class=\"data row13 col13\" >1.00</td>\n",
              "            </tr>\n",
              "    </tbody></table>"
            ],
            "text/plain": [
              "<pandas.io.formats.style.Styler at 0x7f571152dda0>"
            ]
          },
          "metadata": {
            "tags": []
          },
          "execution_count": 28
        }
      ]
    },
    {
      "cell_type": "code",
      "metadata": {
        "colab": {
          "base_uri": "https://localhost:8080/",
          "height": 462
        },
        "id": "DYKDEvBVhQUi",
        "outputId": "c59c5d33-e6f8-486d-e6ef-8c84283759b3"
      },
      "source": [
        "corr_matrix"
      ],
      "execution_count": null,
      "outputs": [
        {
          "output_type": "execute_result",
          "data": {
            "text/html": [
              "<div>\n",
              "<style scoped>\n",
              "    .dataframe tbody tr th:only-of-type {\n",
              "        vertical-align: middle;\n",
              "    }\n",
              "\n",
              "    .dataframe tbody tr th {\n",
              "        vertical-align: top;\n",
              "    }\n",
              "\n",
              "    .dataframe thead th {\n",
              "        text-align: right;\n",
              "    }\n",
              "</style>\n",
              "<table border=\"1\" class=\"dataframe\">\n",
              "  <thead>\n",
              "    <tr style=\"text-align: right;\">\n",
              "      <th></th>\n",
              "      <th>age</th>\n",
              "      <th>sex</th>\n",
              "      <th>cp</th>\n",
              "      <th>trestbps</th>\n",
              "      <th>chol</th>\n",
              "      <th>fbs</th>\n",
              "      <th>restecg</th>\n",
              "      <th>thalach</th>\n",
              "      <th>exang</th>\n",
              "      <th>oldpeak</th>\n",
              "      <th>slope</th>\n",
              "      <th>ca</th>\n",
              "      <th>thal</th>\n",
              "      <th>target</th>\n",
              "    </tr>\n",
              "  </thead>\n",
              "  <tbody>\n",
              "    <tr>\n",
              "      <th>age</th>\n",
              "      <td>1.000000</td>\n",
              "      <td>-0.098447</td>\n",
              "      <td>-0.068653</td>\n",
              "      <td>0.279351</td>\n",
              "      <td>0.213678</td>\n",
              "      <td>0.121308</td>\n",
              "      <td>-0.116211</td>\n",
              "      <td>-0.398522</td>\n",
              "      <td>0.096801</td>\n",
              "      <td>0.210013</td>\n",
              "      <td>-0.168814</td>\n",
              "      <td>0.276326</td>\n",
              "      <td>0.068001</td>\n",
              "      <td>-0.225439</td>\n",
              "    </tr>\n",
              "    <tr>\n",
              "      <th>sex</th>\n",
              "      <td>-0.098447</td>\n",
              "      <td>1.000000</td>\n",
              "      <td>-0.049353</td>\n",
              "      <td>-0.056769</td>\n",
              "      <td>-0.197912</td>\n",
              "      <td>0.045032</td>\n",
              "      <td>-0.058196</td>\n",
              "      <td>-0.044020</td>\n",
              "      <td>0.141664</td>\n",
              "      <td>0.096093</td>\n",
              "      <td>-0.030711</td>\n",
              "      <td>0.118261</td>\n",
              "      <td>0.210041</td>\n",
              "      <td>-0.280937</td>\n",
              "    </tr>\n",
              "    <tr>\n",
              "      <th>cp</th>\n",
              "      <td>-0.068653</td>\n",
              "      <td>-0.049353</td>\n",
              "      <td>1.000000</td>\n",
              "      <td>0.047608</td>\n",
              "      <td>-0.076904</td>\n",
              "      <td>0.094444</td>\n",
              "      <td>0.044421</td>\n",
              "      <td>0.295762</td>\n",
              "      <td>-0.394280</td>\n",
              "      <td>-0.149230</td>\n",
              "      <td>0.119717</td>\n",
              "      <td>-0.181053</td>\n",
              "      <td>-0.161736</td>\n",
              "      <td>0.433798</td>\n",
              "    </tr>\n",
              "    <tr>\n",
              "      <th>trestbps</th>\n",
              "      <td>0.279351</td>\n",
              "      <td>-0.056769</td>\n",
              "      <td>0.047608</td>\n",
              "      <td>1.000000</td>\n",
              "      <td>0.123174</td>\n",
              "      <td>0.177531</td>\n",
              "      <td>-0.114103</td>\n",
              "      <td>-0.046698</td>\n",
              "      <td>0.067616</td>\n",
              "      <td>0.193216</td>\n",
              "      <td>-0.121475</td>\n",
              "      <td>0.101389</td>\n",
              "      <td>0.062210</td>\n",
              "      <td>-0.144931</td>\n",
              "    </tr>\n",
              "    <tr>\n",
              "      <th>chol</th>\n",
              "      <td>0.213678</td>\n",
              "      <td>-0.197912</td>\n",
              "      <td>-0.076904</td>\n",
              "      <td>0.123174</td>\n",
              "      <td>1.000000</td>\n",
              "      <td>0.013294</td>\n",
              "      <td>-0.151040</td>\n",
              "      <td>-0.009940</td>\n",
              "      <td>0.067023</td>\n",
              "      <td>0.053952</td>\n",
              "      <td>-0.004038</td>\n",
              "      <td>0.070511</td>\n",
              "      <td>0.098803</td>\n",
              "      <td>-0.085239</td>\n",
              "    </tr>\n",
              "    <tr>\n",
              "      <th>fbs</th>\n",
              "      <td>0.121308</td>\n",
              "      <td>0.045032</td>\n",
              "      <td>0.094444</td>\n",
              "      <td>0.177531</td>\n",
              "      <td>0.013294</td>\n",
              "      <td>1.000000</td>\n",
              "      <td>-0.084189</td>\n",
              "      <td>-0.008567</td>\n",
              "      <td>0.025665</td>\n",
              "      <td>0.005747</td>\n",
              "      <td>-0.059894</td>\n",
              "      <td>0.137979</td>\n",
              "      <td>-0.032019</td>\n",
              "      <td>-0.028046</td>\n",
              "    </tr>\n",
              "    <tr>\n",
              "      <th>restecg</th>\n",
              "      <td>-0.116211</td>\n",
              "      <td>-0.058196</td>\n",
              "      <td>0.044421</td>\n",
              "      <td>-0.114103</td>\n",
              "      <td>-0.151040</td>\n",
              "      <td>-0.084189</td>\n",
              "      <td>1.000000</td>\n",
              "      <td>0.044123</td>\n",
              "      <td>-0.070733</td>\n",
              "      <td>-0.058770</td>\n",
              "      <td>0.093045</td>\n",
              "      <td>-0.072042</td>\n",
              "      <td>-0.011981</td>\n",
              "      <td>0.137230</td>\n",
              "    </tr>\n",
              "    <tr>\n",
              "      <th>thalach</th>\n",
              "      <td>-0.398522</td>\n",
              "      <td>-0.044020</td>\n",
              "      <td>0.295762</td>\n",
              "      <td>-0.046698</td>\n",
              "      <td>-0.009940</td>\n",
              "      <td>-0.008567</td>\n",
              "      <td>0.044123</td>\n",
              "      <td>1.000000</td>\n",
              "      <td>-0.378812</td>\n",
              "      <td>-0.344187</td>\n",
              "      <td>0.386784</td>\n",
              "      <td>-0.213177</td>\n",
              "      <td>-0.096439</td>\n",
              "      <td>0.421741</td>\n",
              "    </tr>\n",
              "    <tr>\n",
              "      <th>exang</th>\n",
              "      <td>0.096801</td>\n",
              "      <td>0.141664</td>\n",
              "      <td>-0.394280</td>\n",
              "      <td>0.067616</td>\n",
              "      <td>0.067023</td>\n",
              "      <td>0.025665</td>\n",
              "      <td>-0.070733</td>\n",
              "      <td>-0.378812</td>\n",
              "      <td>1.000000</td>\n",
              "      <td>0.288223</td>\n",
              "      <td>-0.257748</td>\n",
              "      <td>0.115739</td>\n",
              "      <td>0.206754</td>\n",
              "      <td>-0.436757</td>\n",
              "    </tr>\n",
              "    <tr>\n",
              "      <th>oldpeak</th>\n",
              "      <td>0.210013</td>\n",
              "      <td>0.096093</td>\n",
              "      <td>-0.149230</td>\n",
              "      <td>0.193216</td>\n",
              "      <td>0.053952</td>\n",
              "      <td>0.005747</td>\n",
              "      <td>-0.058770</td>\n",
              "      <td>-0.344187</td>\n",
              "      <td>0.288223</td>\n",
              "      <td>1.000000</td>\n",
              "      <td>-0.577537</td>\n",
              "      <td>0.222682</td>\n",
              "      <td>0.210244</td>\n",
              "      <td>-0.430696</td>\n",
              "    </tr>\n",
              "    <tr>\n",
              "      <th>slope</th>\n",
              "      <td>-0.168814</td>\n",
              "      <td>-0.030711</td>\n",
              "      <td>0.119717</td>\n",
              "      <td>-0.121475</td>\n",
              "      <td>-0.004038</td>\n",
              "      <td>-0.059894</td>\n",
              "      <td>0.093045</td>\n",
              "      <td>0.386784</td>\n",
              "      <td>-0.257748</td>\n",
              "      <td>-0.577537</td>\n",
              "      <td>1.000000</td>\n",
              "      <td>-0.080155</td>\n",
              "      <td>-0.104764</td>\n",
              "      <td>0.345877</td>\n",
              "    </tr>\n",
              "    <tr>\n",
              "      <th>ca</th>\n",
              "      <td>0.276326</td>\n",
              "      <td>0.118261</td>\n",
              "      <td>-0.181053</td>\n",
              "      <td>0.101389</td>\n",
              "      <td>0.070511</td>\n",
              "      <td>0.137979</td>\n",
              "      <td>-0.072042</td>\n",
              "      <td>-0.213177</td>\n",
              "      <td>0.115739</td>\n",
              "      <td>0.222682</td>\n",
              "      <td>-0.080155</td>\n",
              "      <td>1.000000</td>\n",
              "      <td>0.151832</td>\n",
              "      <td>-0.391724</td>\n",
              "    </tr>\n",
              "    <tr>\n",
              "      <th>thal</th>\n",
              "      <td>0.068001</td>\n",
              "      <td>0.210041</td>\n",
              "      <td>-0.161736</td>\n",
              "      <td>0.062210</td>\n",
              "      <td>0.098803</td>\n",
              "      <td>-0.032019</td>\n",
              "      <td>-0.011981</td>\n",
              "      <td>-0.096439</td>\n",
              "      <td>0.206754</td>\n",
              "      <td>0.210244</td>\n",
              "      <td>-0.104764</td>\n",
              "      <td>0.151832</td>\n",
              "      <td>1.000000</td>\n",
              "      <td>-0.344029</td>\n",
              "    </tr>\n",
              "    <tr>\n",
              "      <th>target</th>\n",
              "      <td>-0.225439</td>\n",
              "      <td>-0.280937</td>\n",
              "      <td>0.433798</td>\n",
              "      <td>-0.144931</td>\n",
              "      <td>-0.085239</td>\n",
              "      <td>-0.028046</td>\n",
              "      <td>0.137230</td>\n",
              "      <td>0.421741</td>\n",
              "      <td>-0.436757</td>\n",
              "      <td>-0.430696</td>\n",
              "      <td>0.345877</td>\n",
              "      <td>-0.391724</td>\n",
              "      <td>-0.344029</td>\n",
              "      <td>1.000000</td>\n",
              "    </tr>\n",
              "  </tbody>\n",
              "</table>\n",
              "</div>"
            ],
            "text/plain": [
              "               age       sex        cp  ...        ca      thal    target\n",
              "age       1.000000 -0.098447 -0.068653  ...  0.276326  0.068001 -0.225439\n",
              "sex      -0.098447  1.000000 -0.049353  ...  0.118261  0.210041 -0.280937\n",
              "cp       -0.068653 -0.049353  1.000000  ... -0.181053 -0.161736  0.433798\n",
              "trestbps  0.279351 -0.056769  0.047608  ...  0.101389  0.062210 -0.144931\n",
              "chol      0.213678 -0.197912 -0.076904  ...  0.070511  0.098803 -0.085239\n",
              "fbs       0.121308  0.045032  0.094444  ...  0.137979 -0.032019 -0.028046\n",
              "restecg  -0.116211 -0.058196  0.044421  ... -0.072042 -0.011981  0.137230\n",
              "thalach  -0.398522 -0.044020  0.295762  ... -0.213177 -0.096439  0.421741\n",
              "exang     0.096801  0.141664 -0.394280  ...  0.115739  0.206754 -0.436757\n",
              "oldpeak   0.210013  0.096093 -0.149230  ...  0.222682  0.210244 -0.430696\n",
              "slope    -0.168814 -0.030711  0.119717  ... -0.080155 -0.104764  0.345877\n",
              "ca        0.276326  0.118261 -0.181053  ...  1.000000  0.151832 -0.391724\n",
              "thal      0.068001  0.210041 -0.161736  ...  0.151832  1.000000 -0.344029\n",
              "target   -0.225439 -0.280937  0.433798  ... -0.391724 -0.344029  1.000000\n",
              "\n",
              "[14 rows x 14 columns]"
            ]
          },
          "metadata": {
            "tags": []
          },
          "execution_count": 29
        }
      ]
    },
    {
      "cell_type": "code",
      "metadata": {
        "colab": {
          "base_uri": "https://localhost:8080/",
          "height": 629
        },
        "id": "UdHOMDEAh9Ke",
        "outputId": "b221e5c1-b058-4602-b937-19369f7e9122"
      },
      "source": [
        "fig,ax = plt.subplots(figsize=(15,10))\n",
        "ax = sns.heatmap(corr_matrix,annot=True,fmt=\".2f\",cmap=\"YlOrRd\")\n",
        "plt.xticks(color='white')\n",
        "plt.yticks(color='white')"
      ],
      "execution_count": null,
      "outputs": [
        {
          "output_type": "execute_result",
          "data": {
            "text/plain": [
              "(array([ 0.5,  1.5,  2.5,  3.5,  4.5,  5.5,  6.5,  7.5,  8.5,  9.5, 10.5,\n",
              "        11.5, 12.5, 13.5]), <a list of 14 Text major ticklabel objects>)"
            ]
          },
          "metadata": {
            "tags": []
          },
          "execution_count": 30
        },
        {
          "output_type": "display_data",
          "data": {
            "image/png": "[encoded data removed]",
            "text/plain": [
              "<Figure size 1080x720 with 2 Axes>"
            ]
          },
          "metadata": {
            "tags": []
          }
        }
      ]
    },
    {
      "cell_type": "markdown",
      "metadata": {
        "id": "Eu0t9usGjDJW"
      },
      "source": [
        "###Modelling"
      ]
    },
    {
      "cell_type": "code",
      "metadata": {
        "colab": {
          "base_uri": "https://localhost:8080/",
          "height": 195
        },
        "id": "TTW3nBGslJCl",
        "outputId": "b1184dcc-e171-4d38-8467-bd63acab8aab"
      },
      "source": [
        "# splitting the data into features and labels\n",
        "X = df.drop(\"target\",axis=1)\n",
        "Y = df[\"target\"]\n",
        "X.head()"
      ],
      "execution_count": null,
      "outputs": [
        {
          "output_type": "execute_result",
          "data": {
            "text/html": [
              "<div>\n",
              "<style scoped>\n",
              "    .dataframe tbody tr th:only-of-type {\n",
              "        vertical-align: middle;\n",
              "    }\n",
              "\n",
              "    .dataframe tbody tr th {\n",
              "        vertical-align: top;\n",
              "    }\n",
              "\n",
              "    .dataframe thead th {\n",
              "        text-align: right;\n",
              "    }\n",
              "</style>\n",
              "<table border=\"1\" class=\"dataframe\">\n",
              "  <thead>\n",
              "    <tr style=\"text-align: right;\">\n",
              "      <th></th>\n",
              "      <th>age</th>\n",
              "      <th>sex</th>\n",
              "      <th>cp</th>\n",
              "      <th>trestbps</th>\n",
              "      <th>chol</th>\n",
              "      <th>fbs</th>\n",
              "      <th>restecg</th>\n",
              "      <th>thalach</th>\n",
              "      <th>exang</th>\n",
              "      <th>oldpeak</th>\n",
              "      <th>slope</th>\n",
              "      <th>ca</th>\n",
              "      <th>thal</th>\n",
              "    </tr>\n",
              "  </thead>\n",
              "  <tbody>\n",
              "    <tr>\n",
              "      <th>0</th>\n",
              "      <td>63</td>\n",
              "      <td>1</td>\n",
              "      <td>3</td>\n",
              "      <td>145</td>\n",
              "      <td>233</td>\n",
              "      <td>1</td>\n",
              "      <td>0</td>\n",
              "      <td>150</td>\n",
              "      <td>0</td>\n",
              "      <td>2.3</td>\n",
              "      <td>0</td>\n",
              "      <td>0</td>\n",
              "      <td>1</td>\n",
              "    </tr>\n",
              "    <tr>\n",
              "      <th>1</th>\n",
              "      <td>37</td>\n",
              "      <td>1</td>\n",
              "      <td>2</td>\n",
              "      <td>130</td>\n",
              "      <td>250</td>\n",
              "      <td>0</td>\n",
              "      <td>1</td>\n",
              "      <td>187</td>\n",
              "      <td>0</td>\n",
              "      <td>3.5</td>\n",
              "      <td>0</td>\n",
              "      <td>0</td>\n",
              "      <td>2</td>\n",
              "    </tr>\n",
              "    <tr>\n",
              "      <th>2</th>\n",
              "      <td>41</td>\n",
              "      <td>0</td>\n",
              "      <td>1</td>\n",
              "      <td>130</td>\n",
              "      <td>204</td>\n",
              "      <td>0</td>\n",
              "      <td>0</td>\n",
              "      <td>172</td>\n",
              "      <td>0</td>\n",
              "      <td>1.4</td>\n",
              "      <td>2</td>\n",
              "      <td>0</td>\n",
              "      <td>2</td>\n",
              "    </tr>\n",
              "    <tr>\n",
              "      <th>3</th>\n",
              "      <td>56</td>\n",
              "      <td>1</td>\n",
              "      <td>1</td>\n",
              "      <td>120</td>\n",
              "      <td>236</td>\n",
              "      <td>0</td>\n",
              "      <td>1</td>\n",
              "      <td>178</td>\n",
              "      <td>0</td>\n",
              "      <td>0.8</td>\n",
              "      <td>2</td>\n",
              "      <td>0</td>\n",
              "      <td>2</td>\n",
              "    </tr>\n",
              "    <tr>\n",
              "      <th>4</th>\n",
              "      <td>57</td>\n",
              "      <td>0</td>\n",
              "      <td>0</td>\n",
              "      <td>120</td>\n",
              "      <td>354</td>\n",
              "      <td>0</td>\n",
              "      <td>1</td>\n",
              "      <td>163</td>\n",
              "      <td>1</td>\n",
              "      <td>0.6</td>\n",
              "      <td>2</td>\n",
              "      <td>0</td>\n",
              "      <td>2</td>\n",
              "    </tr>\n",
              "  </tbody>\n",
              "</table>\n",
              "</div>"
            ],
            "text/plain": [
              "   age  sex  cp  trestbps  chol  fbs  ...  thalach  exang  oldpeak  slope  ca  thal\n",
              "0   63    1   3       145   233    1  ...      150      0      2.3      0   0     1\n",
              "1   37    1   2       130   250    0  ...      187      0      3.5      0   0     2\n",
              "2   41    0   1       130   204    0  ...      172      0      1.4      2   0     2\n",
              "3   56    1   1       120   236    0  ...      178      0      0.8      2   0     2\n",
              "4   57    0   0       120   354    0  ...      163      1      0.6      2   0     2\n",
              "\n",
              "[5 rows x 13 columns]"
            ]
          },
          "metadata": {
            "tags": []
          },
          "execution_count": 31
        }
      ]
    },
    {
      "cell_type": "code",
      "metadata": {
        "colab": {
          "base_uri": "https://localhost:8080/"
        },
        "id": "-OoICVXinWx1",
        "outputId": "2bee49df-bed3-4f2d-9da4-d0ac0d7d6af6"
      },
      "source": [
        "Y.head()"
      ],
      "execution_count": null,
      "outputs": [
        {
          "output_type": "execute_result",
          "data": {
            "text/plain": [
              "0    1\n",
              "1    1\n",
              "2    1\n",
              "3    1\n",
              "4    1\n",
              "Name: target, dtype: int64"
            ]
          },
          "metadata": {
            "tags": []
          },
          "execution_count": 32
        }
      ]
    },
    {
      "cell_type": "code",
      "metadata": {
        "id": "JIIXh3l_nZWj"
      },
      "source": [
        "#creating the training and the testing sets\n",
        "np.random.seed(42)\n",
        "from sklearn.model_selection import train_test_split\n",
        "X_train, X_test,Y_train, Y_test = train_test_split(X, Y, test_size=0.2)"
      ],
      "execution_count": null,
      "outputs": []
    },
    {
      "cell_type": "code",
      "metadata": {
        "colab": {
          "base_uri": "https://localhost:8080/",
          "height": 195
        },
        "id": "gm0Ap91xn3NQ",
        "outputId": "a6010a19-e0f3-49b6-9f72-5cb250ac8e24"
      },
      "source": [
        "X_train.head()"
      ],
      "execution_count": null,
      "outputs": [
        {
          "output_type": "execute_result",
          "data": {
            "text/html": [
              "<div>\n",
              "<style scoped>\n",
              "    .dataframe tbody tr th:only-of-type {\n",
              "        vertical-align: middle;\n",
              "    }\n",
              "\n",
              "    .dataframe tbody tr th {\n",
              "        vertical-align: top;\n",
              "    }\n",
              "\n",
              "    .dataframe thead th {\n",
              "        text-align: right;\n",
              "    }\n",
              "</style>\n",
              "<table border=\"1\" class=\"dataframe\">\n",
              "  <thead>\n",
              "    <tr style=\"text-align: right;\">\n",
              "      <th></th>\n",
              "      <th>age</th>\n",
              "      <th>sex</th>\n",
              "      <th>cp</th>\n",
              "      <th>trestbps</th>\n",
              "      <th>chol</th>\n",
              "      <th>fbs</th>\n",
              "      <th>restecg</th>\n",
              "      <th>thalach</th>\n",
              "      <th>exang</th>\n",
              "      <th>oldpeak</th>\n",
              "      <th>slope</th>\n",
              "      <th>ca</th>\n",
              "      <th>thal</th>\n",
              "    </tr>\n",
              "  </thead>\n",
              "  <tbody>\n",
              "    <tr>\n",
              "      <th>132</th>\n",
              "      <td>42</td>\n",
              "      <td>1</td>\n",
              "      <td>1</td>\n",
              "      <td>120</td>\n",
              "      <td>295</td>\n",
              "      <td>0</td>\n",
              "      <td>1</td>\n",
              "      <td>162</td>\n",
              "      <td>0</td>\n",
              "      <td>0.0</td>\n",
              "      <td>2</td>\n",
              "      <td>0</td>\n",
              "      <td>2</td>\n",
              "    </tr>\n",
              "    <tr>\n",
              "      <th>202</th>\n",
              "      <td>58</td>\n",
              "      <td>1</td>\n",
              "      <td>0</td>\n",
              "      <td>150</td>\n",
              "      <td>270</td>\n",
              "      <td>0</td>\n",
              "      <td>0</td>\n",
              "      <td>111</td>\n",
              "      <td>1</td>\n",
              "      <td>0.8</td>\n",
              "      <td>2</td>\n",
              "      <td>0</td>\n",
              "      <td>3</td>\n",
              "    </tr>\n",
              "    <tr>\n",
              "      <th>196</th>\n",
              "      <td>46</td>\n",
              "      <td>1</td>\n",
              "      <td>2</td>\n",
              "      <td>150</td>\n",
              "      <td>231</td>\n",
              "      <td>0</td>\n",
              "      <td>1</td>\n",
              "      <td>147</td>\n",
              "      <td>0</td>\n",
              "      <td>3.6</td>\n",
              "      <td>1</td>\n",
              "      <td>0</td>\n",
              "      <td>2</td>\n",
              "    </tr>\n",
              "    <tr>\n",
              "      <th>75</th>\n",
              "      <td>55</td>\n",
              "      <td>0</td>\n",
              "      <td>1</td>\n",
              "      <td>135</td>\n",
              "      <td>250</td>\n",
              "      <td>0</td>\n",
              "      <td>0</td>\n",
              "      <td>161</td>\n",
              "      <td>0</td>\n",
              "      <td>1.4</td>\n",
              "      <td>1</td>\n",
              "      <td>0</td>\n",
              "      <td>2</td>\n",
              "    </tr>\n",
              "    <tr>\n",
              "      <th>176</th>\n",
              "      <td>60</td>\n",
              "      <td>1</td>\n",
              "      <td>0</td>\n",
              "      <td>117</td>\n",
              "      <td>230</td>\n",
              "      <td>1</td>\n",
              "      <td>1</td>\n",
              "      <td>160</td>\n",
              "      <td>1</td>\n",
              "      <td>1.4</td>\n",
              "      <td>2</td>\n",
              "      <td>2</td>\n",
              "      <td>3</td>\n",
              "    </tr>\n",
              "  </tbody>\n",
              "</table>\n",
              "</div>"
            ],
            "text/plain": [
              "     age  sex  cp  trestbps  chol  ...  exang  oldpeak  slope  ca  thal\n",
              "132   42    1   1       120   295  ...      0      0.0      2   0     2\n",
              "202   58    1   0       150   270  ...      1      0.8      2   0     3\n",
              "196   46    1   2       150   231  ...      0      3.6      1   0     2\n",
              "75    55    0   1       135   250  ...      0      1.4      1   0     2\n",
              "176   60    1   0       117   230  ...      1      1.4      2   2     3\n",
              "\n",
              "[5 rows x 13 columns]"
            ]
          },
          "metadata": {
            "tags": []
          },
          "execution_count": 34
        }
      ]
    },
    {
      "cell_type": "code",
      "metadata": {
        "colab": {
          "base_uri": "https://localhost:8080/"
        },
        "id": "RSghzGwan5fd",
        "outputId": "0c2562d6-4766-4d1a-e283-b355b954db74"
      },
      "source": [
        "len(X_train)"
      ],
      "execution_count": null,
      "outputs": [
        {
          "output_type": "execute_result",
          "data": {
            "text/plain": [
              "242"
            ]
          },
          "metadata": {
            "tags": []
          },
          "execution_count": 35
        }
      ]
    },
    {
      "cell_type": "markdown",
      "metadata": {
        "id": "j2fllpvooN1c"
      },
      "source": [
        "Now we have got our data into the train and the testing data sets."
      ]
    },
    {
      "cell_type": "code",
      "metadata": {
        "colab": {
          "base_uri": "https://localhost:8080/"
        },
        "id": "3SCjKRG4od7X",
        "outputId": "d16ec3f1-6f75-43c6-faab-88b51c8c7ff9"
      },
      "source": [
        "from sklearn.ensemble import RandomForestClassifier\n",
        "rnd = RandomForestClassifier()\n",
        "rnd.fit(X_train,Y_train)\n"
      ],
      "execution_count": null,
      "outputs": [
        {
          "output_type": "execute_result",
          "data": {
            "text/plain": [
              "RandomForestClassifier(bootstrap=True, ccp_alpha=0.0, class_weight=None,\n",
              "                       criterion='gini', max_depth=None, max_features='auto',\n",
              "                       max_leaf_nodes=None, max_samples=None,\n",
              "                       min_impurity_decrease=0.0, min_impurity_split=None,\n",
              "                       min_samples_leaf=1, min_samples_split=2,\n",
              "                       min_weight_fraction_leaf=0.0, n_estimators=100,\n",
              "                       n_jobs=None, oob_score=False, random_state=None,\n",
              "                       verbose=0, warm_start=False)"
            ]
          },
          "metadata": {
            "tags": []
          },
          "execution_count": 36
        }
      ]
    },
    {
      "cell_type": "code",
      "metadata": {
        "colab": {
          "base_uri": "https://localhost:8080/"
        },
        "id": "kd22L8PepVRF",
        "outputId": "01c9ba91-9213-427a-bc5b-2dd65a64765c"
      },
      "source": [
        "rnd.score(X_test,Y_test)"
      ],
      "execution_count": null,
      "outputs": [
        {
          "output_type": "execute_result",
          "data": {
            "text/plain": [
              "0.8524590163934426"
            ]
          },
          "metadata": {
            "tags": []
          },
          "execution_count": 37
        }
      ]
    },
    {
      "cell_type": "code",
      "metadata": {
        "id": "4XL9xc1MpeGU"
      },
      "source": [
        "from sklearn.linear_model import LogisticRegression\n",
        "from sklearn.neighbors import KNeighborsClassifier"
      ],
      "execution_count": null,
      "outputs": []
    },
    {
      "cell_type": "code",
      "metadata": {
        "id": "OTc7ooeEp6yd"
      },
      "source": [
        "#put models in a dictionary \n",
        "models = {\n",
        "   \"LogisticRegression\" : LogisticRegression(),\n",
        "    \"KNN\" : KNeighborsClassifier(),\n",
        "    \"Random Forest\" : RandomForestClassifier()\n",
        "}\n",
        "#creating function to fit and score the models\n",
        "def fit_and_score(models, X_train,X_test,Y_train, Y_test) :\n",
        "  #set the random seed\n",
        "  np.random.seed(42)\n",
        "  model_scores = {}\n",
        "  # loop through models \n",
        "  for name, model in models.items():\n",
        "    # fit the model to the data\n",
        "    model.fit(X_train,Y_train)\n",
        "    #evaluate the model and append the score to the model score \n",
        "    model_scores[name] = model.score(X_test,Y_test)\n",
        "  return model_scores\n"
      ],
      "execution_count": null,
      "outputs": []
    },
    {
      "cell_type": "code",
      "metadata": {
        "colab": {
          "base_uri": "https://localhost:8080/"
        },
        "id": "VSV-OF0SssET",
        "outputId": "b739f581-b0e3-445d-a31b-ff5b508f2e04"
      },
      "source": [
        "model_scores = fit_and_score(models, X_train, X_test,Y_train, Y_test)"
      ],
      "execution_count": null,
      "outputs": [
        {
          "output_type": "stream",
          "text": [
            "/usr/local/lib/python3.6/dist-packages/sklearn/linear_model/_logistic.py:940: ConvergenceWarning: lbfgs failed to converge (status=1):\n",
            "STOP: TOTAL NO. of ITERATIONS REACHED LIMIT.\n",
            "\n",
            "Increase the number of iterations (max_iter) or scale the data as shown in:\n",
            "    https://scikit-learn.org/stable/modules/preprocessing.html\n",
            "Please also refer to the documentation for alternative solver options:\n",
            "    https://scikit-learn.org/stable/modules/linear_model.html#logistic-regression\n",
            "  extra_warning_msg=_LOGISTIC_SOLVER_CONVERGENCE_MSG)\n"
          ],
          "name": "stderr"
        }
      ]
    },
    {
      "cell_type": "code",
      "metadata": {
        "colab": {
          "base_uri": "https://localhost:8080/"
        },
        "id": "ZT07TSPZtUwB",
        "outputId": "7c1d9f3b-7b60-45b2-9ff5-e24725579524"
      },
      "source": [
        "model_scores"
      ],
      "execution_count": null,
      "outputs": [
        {
          "output_type": "execute_result",
          "data": {
            "text/plain": [
              "{'KNN': 0.6885245901639344,\n",
              " 'LogisticRegression': 0.8852459016393442,\n",
              " 'Random Forest': 0.8360655737704918}"
            ]
          },
          "metadata": {
            "tags": []
          },
          "execution_count": 41
        }
      ]
    },
    {
      "cell_type": "code",
      "metadata": {
        "id": "uoTDO4fXuPhH"
      },
      "source": [
        "model_scores=pd.DataFrame(model_scores, index=[\"accuracy\"])"
      ],
      "execution_count": null,
      "outputs": []
    },
    {
      "cell_type": "code",
      "metadata": {
        "colab": {
          "base_uri": "https://localhost:8080/",
          "height": 77
        },
        "id": "f0oiRlU3uiux",
        "outputId": "b4a7d9bb-31a5-4e34-f10a-bbfea4d0d919"
      },
      "source": [
        "model_scores"
      ],
      "execution_count": null,
      "outputs": [
        {
          "output_type": "execute_result",
          "data": {
            "text/html": [
              "<div>\n",
              "<style scoped>\n",
              "    .dataframe tbody tr th:only-of-type {\n",
              "        vertical-align: middle;\n",
              "    }\n",
              "\n",
              "    .dataframe tbody tr th {\n",
              "        vertical-align: top;\n",
              "    }\n",
              "\n",
              "    .dataframe thead th {\n",
              "        text-align: right;\n",
              "    }\n",
              "</style>\n",
              "<table border=\"1\" class=\"dataframe\">\n",
              "  <thead>\n",
              "    <tr style=\"text-align: right;\">\n",
              "      <th></th>\n",
              "      <th>LogisticRegression</th>\n",
              "      <th>KNN</th>\n",
              "      <th>Random Forest</th>\n",
              "    </tr>\n",
              "  </thead>\n",
              "  <tbody>\n",
              "    <tr>\n",
              "      <th>accuracy</th>\n",
              "      <td>0.885246</td>\n",
              "      <td>0.688525</td>\n",
              "      <td>0.836066</td>\n",
              "    </tr>\n",
              "  </tbody>\n",
              "</table>\n",
              "</div>"
            ],
            "text/plain": [
              "          LogisticRegression       KNN  Random Forest\n",
              "accuracy            0.885246  0.688525       0.836066"
            ]
          },
          "metadata": {
            "tags": []
          },
          "execution_count": 43
        }
      ]
    },
    {
      "cell_type": "code",
      "metadata": {
        "colab": {
          "base_uri": "https://localhost:8080/",
          "height": 365
        },
        "id": "e7ofBJk1uuCR",
        "outputId": "4284c2f2-c7ce-4dda-c203-356e5954a6f3"
      },
      "source": [
        "model_scores.T.plot(kind=\"bar\", color=\"Darkblue\")\n",
        "plt.ylabel(\"accuracy\",color=\"white\")\n",
        "plt.yticks(color='white')\n",
        "plt.xticks(color=\"white\")"
      ],
      "execution_count": null,
      "outputs": [
        {
          "output_type": "execute_result",
          "data": {
            "text/plain": [
              "(array([0, 1, 2]), <a list of 3 Text major ticklabel objects>)"
            ]
          },
          "metadata": {
            "tags": []
          },
          "execution_count": 44
        },
        {
          "output_type": "display_data",
          "data": {
            "image/png": "[encoded data removed]",
            "text/plain": [
              "<Figure size 432x288 with 1 Axes>"
            ]
          },
          "metadata": {
            "tags": [],
            "needs_background": "dark"
          }
        }
      ]
    },
    {
      "cell_type": "markdown",
      "metadata": {
        "id": "rO7zX6t0wNlx"
      },
      "source": [
        "#Thus we have the baseline models\n",
        "Lets look at the following:\n",
        "* Hyper-parameter tuning\n",
        "* Feature Importance\n",
        "* Confusion matrix\n",
        "* Cross validation\n",
        "* Precision \n",
        "* Recall \n",
        "* F1 score\n",
        "* Classification report\n",
        "* ROC Curve\n",
        "* Area Under Curve (AUC)\n"
      ]
    },
    {
      "cell_type": "code",
      "metadata": {
        "id": "jnGMXqm5uOok"
      },
      "source": [
        "from sklearn.metrics import confusion_matrix"
      ],
      "execution_count": null,
      "outputs": []
    },
    {
      "cell_type": "markdown",
      "metadata": {
        "id": "wa1D5x3AvHtT"
      },
      "source": [
        "##HyperParameter Tuning"
      ]
    },
    {
      "cell_type": "code",
      "metadata": {
        "id": "xDgCXr3hvQ4u"
      },
      "source": [
        "##Lets tun KNN\n",
        "train_scores = []\n",
        "test_scores = []\n",
        "## create a list of diff values for N neighbours \n",
        "neighbors = range(1,21)\n",
        "knn = KNeighborsClassifier()\n",
        "\n",
        "# loop through the diff n_neighbours\n",
        "for i in neighbors :\n",
        "  knn.set_params(n_neighbors=i)\n",
        "  #fit the algorithm \n",
        "  knn.fit(X_train,Y_train)\n",
        "\n",
        "  #update the train_scores list \n",
        "  train_scores.append(knn.score(X_train,Y_train))\n",
        "\n",
        "  #Update the test scores\n",
        "  test_scores.append(knn.score(X_test,Y_test))"
      ],
      "execution_count": null,
      "outputs": []
    },
    {
      "cell_type": "code",
      "metadata": {
        "colab": {
          "base_uri": "https://localhost:8080/"
        },
        "id": "tgUJrpgKvtoY",
        "outputId": "81481b26-56c7-4d41-93f4-e9acfb69648c"
      },
      "source": [
        "test_scores"
      ],
      "execution_count": null,
      "outputs": [
        {
          "output_type": "execute_result",
          "data": {
            "text/plain": [
              "[0.6229508196721312,\n",
              " 0.639344262295082,\n",
              " 0.6557377049180327,\n",
              " 0.6721311475409836,\n",
              " 0.6885245901639344,\n",
              " 0.7213114754098361,\n",
              " 0.7049180327868853,\n",
              " 0.6885245901639344,\n",
              " 0.6885245901639344,\n",
              " 0.7049180327868853,\n",
              " 0.7540983606557377,\n",
              " 0.7377049180327869,\n",
              " 0.7377049180327869,\n",
              " 0.7377049180327869,\n",
              " 0.6885245901639344,\n",
              " 0.7213114754098361,\n",
              " 0.6885245901639344,\n",
              " 0.6885245901639344,\n",
              " 0.7049180327868853,\n",
              " 0.6557377049180327]"
            ]
          },
          "metadata": {
            "tags": []
          },
          "execution_count": 47
        }
      ]
    },
    {
      "cell_type": "code",
      "metadata": {
        "colab": {
          "base_uri": "https://localhost:8080/"
        },
        "id": "Fm0KvNGM0e1n",
        "outputId": "61e506ea-4519-41ff-d00c-171dc2dfbd2c"
      },
      "source": [
        "\n",
        "train_scores"
      ],
      "execution_count": null,
      "outputs": [
        {
          "output_type": "execute_result",
          "data": {
            "text/plain": [
              "[1.0,\n",
              " 0.8099173553719008,\n",
              " 0.7727272727272727,\n",
              " 0.743801652892562,\n",
              " 0.7603305785123967,\n",
              " 0.7520661157024794,\n",
              " 0.743801652892562,\n",
              " 0.7231404958677686,\n",
              " 0.71900826446281,\n",
              " 0.6942148760330579,\n",
              " 0.7272727272727273,\n",
              " 0.6983471074380165,\n",
              " 0.6900826446280992,\n",
              " 0.6942148760330579,\n",
              " 0.6859504132231405,\n",
              " 0.6735537190082644,\n",
              " 0.6859504132231405,\n",
              " 0.6652892561983471,\n",
              " 0.6818181818181818,\n",
              " 0.6694214876033058]"
            ]
          },
          "metadata": {
            "tags": []
          },
          "execution_count": 48
        }
      ]
    },
    {
      "cell_type": "code",
      "metadata": {
        "colab": {
          "base_uri": "https://localhost:8080/",
          "height": 351
        },
        "id": "aDhbR6qr0g-i",
        "outputId": "aa250ee3-6832-4662-f8ab-284e8faf7474"
      },
      "source": [
        "plt.figure(figsize=(8,5))\n",
        "plt.plot(neighbors, test_scores)\n",
        "plt.plot(neighbors, train_scores)\n",
        "plt.xticks(np.arange(1,21,1),color='white')\n",
        "plt.xlabel(\"no of neighbors\",color='white')\n",
        "plt.ylabel(\"score\",color='white')\n",
        "plt.yticks(color='white')\n",
        "plt.legend([\"test\",\"train\"])\n",
        "print(f\"The highest obtained accuracy: {max(test_scores)*100:.2f}%\")"
      ],
      "execution_count": null,
      "outputs": [
        {
          "output_type": "stream",
          "text": [
            "The highest obtained accuracy: 75.41%\n"
          ],
          "name": "stdout"
        },
        {
          "output_type": "display_data",
          "data": {
            "image/png": "[encoded data removed]",
            "text/plain": [
              "<Figure size 576x360 with 1 Axes>"
            ]
          },
          "metadata": {
            "tags": [],
            "needs_background": "dark"
          }
        }
      ]
    },
    {
      "cell_type": "markdown",
      "metadata": {
        "id": "PENzKBb00uDh"
      },
      "source": [
        "##Hyperparameter tuning with randomized search cv\n",
        "we are going to tune :\n",
        "* logistic regression \n",
        "* Random forest"
      ]
    },
    {
      "cell_type": "code",
      "metadata": {
        "id": "15y9y41MeqJs"
      },
      "source": [
        "# create a hyperparamete grid for the logistic regression \n",
        "log_reg_grid = {\n",
        "    \"C\" : np.logspace(-4,4,20),\n",
        "    \"solver\" : [\"liblinear\"]\n",
        "}\n",
        "\n",
        "# create hyperparameter grid for random forest \n",
        "rf_grid = {\n",
        "    \"n_estimators\" : np.arange(10,1000,50),\n",
        "    \"max_depth\" : [None,3,5,10],\n",
        "    \"min_samples_split\" : np.arange(2,20,2),\n",
        "    \"min_samples_leaf\" : np.arange(1,20,2)\n",
        "}"
      ],
      "execution_count": null,
      "outputs": []
    },
    {
      "cell_type": "code",
      "metadata": {
        "id": "NavL-kUlgmOf"
      },
      "source": [
        ""
      ],
      "execution_count": null,
      "outputs": []
    }
  ]
}