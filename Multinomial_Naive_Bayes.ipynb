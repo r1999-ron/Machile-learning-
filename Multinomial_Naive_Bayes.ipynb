{
  "nbformat": 4,
  "nbformat_minor": 0,
  "metadata": {
    "colab": {
      "name": "Multinomial Naive Bayes",
      "provenance": [],
      "authorship_tag": "ABX9TyOtcWCM9VvJLXJhmdV8CAGw",
      "include_colab_link": true
    },
    "kernelspec": {
      "name": "python3",
      "display_name": "Python 3"
    }
  },
  "cells": [
    {
      "cell_type": "markdown",
      "metadata": {
        "id": "view-in-github",
        "colab_type": "text"
      },
      "source": [
        "<a href=\"https://colab.research.google.com/github/ritaprova/Machile-learning-/blob/main/Multinomial_Naive_Bayes.ipynb\" target=\"_parent\"><img src=\"https://colab.research.google.com/assets/colab-badge.svg\" alt=\"Open In Colab\"/></a>"
      ]
    },
    {
      "cell_type": "code",
      "metadata": {
        "colab": {
          "base_uri": "https://localhost:8080/"
        },
        "id": "QQP7FgSDME1s",
        "outputId": "1e2c50dd-370b-4312-994c-b94d78edf14c"
      },
      "source": [
        "#usual imports\r\n",
        "import numpy as np \r\n",
        "import pandas as pd \r\n",
        "import matplotlib.pyplot as plt\r\n",
        "import seaborn as sns\r\n",
        "sns.set()\r\n",
        "\r\n",
        "#getting the data \r\n",
        "from sklearn.datasets import fetch_20newsgroups\r\n",
        "data = fetch_20newsgroups()\r\n",
        "\r\n",
        "data.target_names"
      ],
      "execution_count": 2,
      "outputs": [
        {
          "output_type": "stream",
          "text": [
            "Downloading 20news dataset. This may take a few minutes.\n",
            "Downloading dataset from https://ndownloader.figshare.com/files/5975967 (14 MB)\n"
          ],
          "name": "stderr"
        },
        {
          "output_type": "execute_result",
          "data": {
            "text/plain": [
              "['alt.atheism',\n",
              " 'comp.graphics',\n",
              " 'comp.os.ms-windows.misc',\n",
              " 'comp.sys.ibm.pc.hardware',\n",
              " 'comp.sys.mac.hardware',\n",
              " 'comp.windows.x',\n",
              " 'misc.forsale',\n",
              " 'rec.autos',\n",
              " 'rec.motorcycles',\n",
              " 'rec.sport.baseball',\n",
              " 'rec.sport.hockey',\n",
              " 'sci.crypt',\n",
              " 'sci.electronics',\n",
              " 'sci.med',\n",
              " 'sci.space',\n",
              " 'soc.religion.christian',\n",
              " 'talk.politics.guns',\n",
              " 'talk.politics.mideast',\n",
              " 'talk.politics.misc',\n",
              " 'talk.religion.misc']"
            ]
          },
          "metadata": {
            "tags": []
          },
          "execution_count": 2
        }
      ]
    },
    {
      "cell_type": "code",
      "metadata": {
        "colab": {
          "base_uri": "https://localhost:8080/",
          "height": 86
        },
        "id": "keTdU32sNCHr",
        "outputId": "a5f4cdde-dfe7-4aae-d2df-e4f6d28e166a"
      },
      "source": [
        "categories = ['talk.religion.misc', 'soc.religion.christian', 'sci.space',\r\n",
        " 'comp.graphics',]  # selecting only few categories for training \r\n",
        " \r\n",
        " #getting training and testing sets \r\n",
        "train = fetch_20newsgroups(subset=\"train\",categories=categories)\r\n",
        "test = fetch_20newsgroups(subset=\"test\",categories=categories)\r\n",
        "train.data[5]"
      ],
      "execution_count": 5,
      "outputs": [
        {
          "output_type": "execute_result",
          "data": {
            "application/vnd.google.colaboratory.intrinsic+json": {
              "type": "string"
            },
            "text/plain": [
              "\"From: dmcgee@uluhe.soest.hawaii.edu (Don McGee)\\nSubject: Federal Hearing\\nOriginator: dmcgee@uluhe\\nOrganization: School of Ocean and Earth Science and Technology\\nDistribution: usa\\nLines: 10\\n\\n\\nFact or rumor....?  Madalyn Murray O'Hare an atheist who eliminated the\\nuse of the bible reading and prayer in public schools 15 years ago is now\\ngoing to appear before the FCC with a petition to stop the reading of the\\nGospel on the airways of America.  And she is also campaigning to remove\\nChristmas programs, songs, etc from the public schools.  If it is true\\nthen mail to Federal Communications Commission 1919 H Street Washington DC\\n20054 expressing your opposition to her request.  Reference Petition number\\n\\n2493.\\n\""
            ]
          },
          "metadata": {
            "tags": []
          },
          "execution_count": 5
        }
      ]
    },
    {
      "cell_type": "code",
      "metadata": {
        "colab": {
          "base_uri": "https://localhost:8080/",
          "height": 389
        },
        "id": "U2N0OXEFNn51",
        "outputId": "9c03dc8b-73a4-4c8e-cc1a-db8d577eb142"
      },
      "source": [
        "#feature engineering \r\n",
        "from sklearn.feature_extraction.text import TfidfVectorizer\r\n",
        "from sklearn.naive_bayes import MultinomialNB\r\n",
        "from sklearn.pipeline import make_pipeline\r\n",
        "model = make_pipeline(TfidfVectorizer(), MultinomialNB())\r\n",
        "\r\n",
        "#fitting\r\n",
        "model.fit(train.data, train.target)\r\n",
        "labels = model.predict(test.data)\r\n",
        "\r\n",
        "#metrics \r\n",
        "from sklearn.metrics import confusion_matrix\r\n",
        "mat = confusion_matrix(test.target, labels)\r\n",
        "sns.heatmap(mat.T, square=True, annot=True, fmt='d', cbar=False,\r\n",
        "xticklabels=train.target_names, yticklabels=train.target_names)\r\n",
        "plt.xlabel('true label')\r\n",
        "plt.ylabel('predicted label');"
      ],
      "execution_count": 6,
      "outputs": [
        {
          "output_type": "display_data",
          "data": {
            "image/png": "[encoded data removed]",
            "text/plain": [
              "<Figure size 432x288 with 1 Axes>"
            ]
          },
          "metadata": {
            "tags": []
          }
        }
      ]
    },
    {
      "cell_type": "code",
      "metadata": {
        "id": "updJBKgxONWA"
      },
      "source": [
        "def predict_category(s, train=train, model=model):\r\n",
        " pred = model.predict([s])\r\n",
        " return train.target_names[pred[0]]"
      ],
      "execution_count": 7,
      "outputs": []
    },
    {
      "cell_type": "code",
      "metadata": {
        "colab": {
          "base_uri": "https://localhost:8080/",
          "height": 35
        },
        "id": "9iGyPI8vOdyy",
        "outputId": "f0101491-b9b3-435b-d5bf-017bc73b5312"
      },
      "source": [
        "predict_category(\"What is my screen resolution ?\")"
      ],
      "execution_count": 12,
      "outputs": [
        {
          "output_type": "execute_result",
          "data": {
            "application/vnd.google.colaboratory.intrinsic+json": {
              "type": "string"
            },
            "text/plain": [
              "'comp.graphics'"
            ]
          },
          "metadata": {
            "tags": []
          },
          "execution_count": 12
        }
      ]
    },
    {
      "cell_type": "code",
      "metadata": {
        "id": "Sz4eI80IOnej"
      },
      "source": [
        ""
      ],
      "execution_count": null,
      "outputs": []
    }
  ]
}