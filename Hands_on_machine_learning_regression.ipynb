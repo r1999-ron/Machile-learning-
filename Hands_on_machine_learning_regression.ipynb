{
  "nbformat": 4,
  "nbformat_minor": 0,
  "metadata": {
    "colab": {
      "name": "Hands on machine learning regression ",
      "provenance": [],
      "authorship_tag": "ABX9TyN0ZqSOcP9kaVDsypssVbTJ",
      "include_colab_link": true
    },
    "kernelspec": {
      "name": "python3",
      "display_name": "Python 3"
    }
  },
  "cells": [
    {
      "cell_type": "markdown",
      "metadata": {
        "id": "view-in-github",
        "colab_type": "text"
      },
      "source": [
        "<a href=\"https://colab.research.google.com/github/ritaprova/Machile-learning-/blob/main/Hands_on_machine_learning_regression.ipynb\" target=\"_parent\"><img src=\"https://colab.research.google.com/assets/colab-badge.svg\" alt=\"Open In Colab\"/></a>"
      ]
    },
    {
      "cell_type": "code",
      "metadata": {
        "id": "Sa6rYabXTbZt"
      },
      "source": [
        "import numpy as np \n",
        "import pandas as pd \n",
        "import matplotlib.pyplot as plt\n",
        "import seaborn as sns "
      ],
      "execution_count": null,
      "outputs": []
    },
    {
      "cell_type": "code",
      "metadata": {
        "colab": {
          "base_uri": "https://localhost:8080/",
          "height": 297
        },
        "id": "rVZn8R2TULZn",
        "outputId": "8e99f92a-2ff6-4091-d33b-ba3b68f06508"
      },
      "source": [
        "#generating some linear looking data :\n",
        "x = 2*np.random.rand(100,1)\n",
        "y = 4 + 3*x +np.random.randn(100,1)\n",
        "plt.scatter(x,y)\n",
        "plt.xlabel(\"X\")\n",
        "plt.ylabel(\"Y\")"
      ],
      "execution_count": null,
      "outputs": [
        {
          "output_type": "execute_result",
          "data": {
            "text/plain": [
              "Text(0, 0.5, 'Y')"
            ]
          },
          "metadata": {
            "tags": []
          },
          "execution_count": 2
        },
        {
          "output_type": "display_data",
          "data": {
            "image/png": "[encoded data removed]",
            "text/plain": [
              "<Figure size 432x288 with 1 Axes>"
            ]
          },
          "metadata": {
            "tags": [],
            "needs_background": "light"
          }
        }
      ]
    },
    {
      "cell_type": "markdown",
      "metadata": {
        "id": "dnp8T6LTUEAP"
      },
      "source": [
        "#Linear Regression "
      ]
    },
    {
      "cell_type": "code",
      "metadata": {
        "colab": {
          "base_uri": "https://localhost:8080/"
        },
        "id": "oRoEqAjvUwoS",
        "outputId": "887ebd24-8bc0-42a2-cdcc-e1f7b145cb93"
      },
      "source": [
        "from sklearn.linear_model import LinearRegression\n",
        "lin_reg = LinearRegression()\n",
        "lin_reg.fit(x,y)\n",
        "lin_reg.coef_,lin_reg.intercept_"
      ],
      "execution_count": null,
      "outputs": [
        {
          "output_type": "execute_result",
          "data": {
            "text/plain": [
              "(array([[2.96346198]]), array([4.05726139]))"
            ]
          },
          "metadata": {
            "tags": []
          },
          "execution_count": 7
        }
      ]
    },
    {
      "cell_type": "markdown",
      "metadata": {
        "id": "RQNTxA-CVAxr"
      },
      "source": [
        "#StochasticGradient descent"
      ]
    },
    {
      "cell_type": "code",
      "metadata": {
        "colab": {
          "base_uri": "https://localhost:8080/"
        },
        "id": "ptFrAJ-qVvyo",
        "outputId": "09d35790-6340-41bf-bbac-46cf611ec970"
      },
      "source": [
        "from sklearn.linear_model import SGDRegressor\n",
        "sgd_reg = SGDRegressor(max_iter = 1000,tol= 1e-3,penalty = None,eta0 =0.1)\n",
        "sgd_reg.fit(x,y.ravel())\n",
        "sgd_reg.intercept_,sgd_reg.coef_"
      ],
      "execution_count": null,
      "outputs": [
        {
          "output_type": "execute_result",
          "data": {
            "text/plain": [
              "(array([4.03510707]), array([2.93632386]))"
            ]
          },
          "metadata": {
            "tags": []
          },
          "execution_count": 9
        }
      ]
    },
    {
      "cell_type": "markdown",
      "metadata": {
        "id": "Z7gPsflEZ1OX"
      },
      "source": [
        "#Polynomial Regression"
      ]
    },
    {
      "cell_type": "code",
      "metadata": {
        "id": "NbL4GC92aDrq",
        "colab": {
          "base_uri": "https://localhost:8080/",
          "height": 297
        },
        "outputId": "ead7e171-fd32-462a-97ca-e98c46bdd4bb"
      },
      "source": [
        "#creating a polynomial dataset \n",
        "m = 100\n",
        "x_poly = 6* np.random.rand(m,1) - 3\n",
        "y_poly = 0.5*x_poly**2+x_poly+2 +np.random.randn(m,1)\n",
        "plt.scatter(x_poly,y_poly)\n",
        "plt.xlabel(\"X\")\n",
        "plt.ylabel(\"Y\")"
      ],
      "execution_count": null,
      "outputs": [
        {
          "output_type": "execute_result",
          "data": {
            "text/plain": [
              "Text(0, 0.5, 'Y')"
            ]
          },
          "metadata": {
            "tags": []
          },
          "execution_count": 7
        },
        {
          "output_type": "display_data",
          "data": {
            "image/png": "[encoded data removed]",
            "text/plain": [
              "<Figure size 432x288 with 1 Axes>"
            ]
          },
          "metadata": {
            "tags": [],
            "needs_background": "light"
          }
        }
      ]
    },
    {
      "cell_type": "code",
      "metadata": {
        "colab": {
          "base_uri": "https://localhost:8080/"
        },
        "id": "BvdthMYglB9S",
        "outputId": "82d67efb-d133-442f-c031-3631ccf5c398"
      },
      "source": [
        "#creating the model and fitting it \n",
        "from sklearn.preprocessing import PolynomialFeatures\n",
        "poly_feat = PolynomialFeatures(degree = 2, include_bias=False)\n",
        "X_poly = poly_feat.fit_transform(x_poly)\n",
        "X_poly[:2]"
      ],
      "execution_count": null,
      "outputs": [
        {
          "output_type": "execute_result",
          "data": {
            "text/plain": [
              "array([[ 0.12212431,  0.01491435],\n",
              "       [-2.93464867,  8.61216283]])"
            ]
          },
          "metadata": {
            "tags": []
          },
          "execution_count": 16
        }
      ]
    },
    {
      "cell_type": "markdown",
      "metadata": {
        "id": "O23KA0BimAEl"
      },
      "source": [
        "now we can use this x features to fit into a multiple linear regression\n",
        "\n"
      ]
    },
    {
      "cell_type": "code",
      "metadata": {
        "colab": {
          "base_uri": "https://localhost:8080/"
        },
        "id": "eyrHxpd4mP2K",
        "outputId": "b12eaaed-bdad-488f-8213-5c2f51ad4907"
      },
      "source": [
        "lin_reg1 = LinearRegression()\n",
        "lin_reg1.fit(X_poly,y_poly)\n",
        "lin_reg1.intercept_,lin_reg.coef_"
      ],
      "execution_count": null,
      "outputs": [
        {
          "output_type": "execute_result",
          "data": {
            "text/plain": [
              "(array([1.88669584]), array([[0.95336387, 0.535294  ]]))"
            ]
          },
          "metadata": {
            "tags": []
          },
          "execution_count": 22
        }
      ]
    },
    {
      "cell_type": "code",
      "metadata": {
        "id": "2P4f7HAcmglB"
      },
      "source": [
        "y_preds = lin_reg1.predict(X_poly)"
      ],
      "execution_count": null,
      "outputs": []
    },
    {
      "cell_type": "code",
      "metadata": {
        "colab": {
          "base_uri": "https://localhost:8080/",
          "height": 283
        },
        "id": "oOUu78xxnQzM",
        "outputId": "40f5386b-202d-4245-e4b1-0569099e7c18"
      },
      "source": [
        "plt.scatter(x_poly,y_poly,color = \"lightblue\")\n",
        "plt.scatter(x_poly,y_preds,color = \"orange\")"
      ],
      "execution_count": null,
      "outputs": [
        {
          "output_type": "execute_result",
          "data": {
            "text/plain": [
              "<matplotlib.collections.PathCollection at 0x7fe04bd89748>"
            ]
          },
          "metadata": {
            "tags": []
          },
          "execution_count": 36
        },
        {
          "output_type": "display_data",
          "data": {
            "image/png": "[encoded data removed]",
            "text/plain": [
              "<Figure size 432x288 with 1 Axes>"
            ]
          },
          "metadata": {
            "tags": [],
            "needs_background": "light"
          }
        }
      ]
    },
    {
      "cell_type": "markdown",
      "metadata": {
        "id": "0_TCKeqyo7pl"
      },
      "source": [
        "#Learning curves"
      ]
    },
    {
      "cell_type": "code",
      "metadata": {
        "id": "FkOKvBTzoNp4"
      },
      "source": [
        "from sklearn.metrics import mean_squared_error\n",
        "from sklearn.model_selection import train_test_split\n",
        "np.random.seed(42)\n",
        "#funtion to plot the learning curves :\n",
        "def plot_learning_curves(model,x,y):\n",
        "  x_train,x_test,y_train,y_test = train_test_split(x,y,test_size = 0.2)\n",
        "  train_errors,val_errors=[],[]\n",
        "  for m in range(1,len(x_train)):\n",
        "    model.fit(x_train[:m],y_train[:m])\n",
        "    y_train_pred = model.predict(x_train[:m])\n",
        "    y_val_pred = model.predict(x_test)\n",
        "    train_errors.append(mean_squared_error(y_train[:m],y_train_pred))\n",
        "    val_errors.append(mean_squared_error(y_test,y_val_pred))\n",
        "  plt.plot(np.sqrt(train_errors),color = \"red\",linewidth=2)\n",
        "  plt.plot(np.sqrt(val_errors),color = \"blue\",linewidth=2)\n"
      ],
      "execution_count": null,
      "outputs": []
    },
    {
      "cell_type": "code",
      "metadata": {
        "colab": {
          "base_uri": "https://localhost:8080/",
          "height": 483
        },
        "id": "rHRrgZQ9skhB",
        "outputId": "dfbe729e-f314-4840-d902-05c347dac6f9"
      },
      "source": [
        "lin_reg = LinearRegression()\n",
        "lin_reg.fit(x,y)\n",
        "plt.figure(figsize=(12,8))\n",
        "plot_learning_curves(lin_reg,x,y)"
      ],
      "execution_count": null,
      "outputs": [
        {
          "output_type": "display_data",
          "data": {
            "image/png": "[encoded data removed]",
            "text/plain": [
              "<Figure size 864x576 with 1 Axes>"
            ]
          },
          "metadata": {
            "tags": [],
            "needs_background": "light"
          }
        }
      ]
    },
    {
      "cell_type": "markdown",
      "metadata": {
        "id": "13ersJextEa4"
      },
      "source": [
        "#Regularized Linear models"
      ]
    },
    {
      "cell_type": "markdown",
      "metadata": {
        "id": "ZkedOH6TuFjO"
      },
      "source": [
        "Ridge regression"
      ]
    },
    {
      "cell_type": "code",
      "metadata": {
        "colab": {
          "base_uri": "https://localhost:8080/"
        },
        "id": "7V8Gg0HDKs-N",
        "outputId": "9038fb62-a6e7-409e-f5c7-80abdb3bdd76"
      },
      "source": [
        "from sklearn.linear_model import Ridge\n",
        "ridge_reg = Ridge(alpha= 1, solver='cholesky')\n",
        "ridge_reg.fit(x,y)\n",
        "ridge_reg.predict([[1.5]])\n"
      ],
      "execution_count": null,
      "outputs": [
        {
          "output_type": "execute_result",
          "data": {
            "text/plain": [
              "array([[8.66589805]])"
            ]
          },
          "metadata": {
            "tags": []
          },
          "execution_count": 9
        }
      ]
    },
    {
      "cell_type": "markdown",
      "metadata": {
        "id": "UTZTLahtM-Ht"
      },
      "source": [
        "Lasso regression"
      ]
    },
    {
      "cell_type": "code",
      "metadata": {
        "colab": {
          "base_uri": "https://localhost:8080/"
        },
        "id": "kkUeYSfmNtN9",
        "outputId": "5db4456a-8454-4639-a9bf-d37c68a3389b"
      },
      "source": [
        "from sklearn.linear_model import Lasso\n",
        "lasso_reg = Lasso(alpha = 0.1)\n",
        "lasso_reg.fit(x,y)\n",
        "lasso_reg.predict([[1.5]])"
      ],
      "execution_count": null,
      "outputs": [
        {
          "output_type": "execute_result",
          "data": {
            "text/plain": [
              "array([8.54954777])"
            ]
          },
          "metadata": {
            "tags": []
          },
          "execution_count": 12
        }
      ]
    },
    {
      "cell_type": "code",
      "metadata": {
        "colab": {
          "base_uri": "https://localhost:8080/"
        },
        "id": "XFBl0l_dOnNl",
        "outputId": "bf258f3e-5db4-4ab7-f6ee-deda5bb5ee92"
      },
      "source": [
        "from sklearn.linear_model import ElasticNet\n",
        "el_net_reg = ElasticNet(alpha=0.1,l1_ratio=0.5)\n",
        "el_net_reg.fit(x,y)\n",
        "el_net_reg.predict([[1.5]])"
      ],
      "execution_count": null,
      "outputs": [
        {
          "output_type": "execute_result",
          "data": {
            "text/plain": [
              "array([8.40724033])"
            ]
          },
          "metadata": {
            "tags": []
          },
          "execution_count": 14
        }
      ]
    },
    {
      "cell_type": "markdown",
      "metadata": {
        "id": "BTldwZ8PPWcK"
      },
      "source": [
        "#testing"
      ]
    },
    {
      "cell_type": "code",
      "metadata": {
        "id": "539IbJlHPqON"
      },
      "source": [
        ""
      ],
      "execution_count": null,
      "outputs": []
    }
  ]
}